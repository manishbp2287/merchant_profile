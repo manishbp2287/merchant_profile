{
 "cells": [
  {
   "cell_type": "code",
   "execution_count": 1,
   "id": "eaec0bef-e52a-40d6-9c2f-4bb76d69bab5",
   "metadata": {},
   "outputs": [],
   "source": [
    "import pandas as pd\n",
    "import numpy as np\n",
    "import pandas_gbq\n",
    "import os.path\n",
    "from pandas.io.json import json_normalize\n",
    "from datetime import datetime\n",
    "pd.options.display.max_columns = None\n",
    "import altair as alt\n",
    "import warnings\n",
    "warnings.filterwarnings(\"ignore\")\n",
    "import matplotlib.pyplot as plt"
   ]
  },
  {
   "cell_type": "code",
   "execution_count": 2,
   "id": "365d1535-0dd0-4944-87aa-75fbf3ed0fc4",
   "metadata": {},
   "outputs": [],
   "source": [
    "query = \"\"\"\n",
    "\n",
    "WITH\n",
    "  max_date AS (\n",
    "  SELECT\n",
    "    merchant_id,\n",
    "    MAX(date) MaxDate,\n",
    "  FROM\n",
    "    bharatpe-analytics-prod.bharatpe_mongo_data.merchant_psp_dump\n",
    "  WHERE\n",
    "    date>'2018-01-01'\n",
    "  GROUP BY\n",
    "    merchant_id )\n",
    "SELECT\n",
    "  app.merchant_id,\n",
    "  app_details\n",
    "FROM\n",
    "  bharatpe-analytics-prod.bharatpe_mongo_data.merchant_psp_dump app\n",
    "JOIN\n",
    "  max_date\n",
    "ON\n",
    "  max_date.merchant_id = app.merchant_id\n",
    "  AND max_date.MaxDate = app.date\n",
    "WHERE\n",
    "  date>'2018-01-01'\n",
    "  AND app.merchant_id IN (\n",
    "  SELECT\n",
    "    merchant_id\n",
    "  FROM (\n",
    "    SELECT\n",
    "      merchant_id\n",
    "    FROM\n",
    "      `bharatpe-analytics-prod.bharatpe_data_platfrom.universal_merchant_data_mart`\n",
    "    WHERE\n",
    "      DATE(merchant_created_at) >= DATE_SUB(CURRENT_DATE(), INTERVAL 60 DAY) ) )\n",
    "\n",
    "\"\"\""
   ]
  },
  {
   "cell_type": "code",
   "execution_count": 3,
   "id": "6e4246bf-81fc-4e56-a938-ef7858035c24",
   "metadata": {},
   "outputs": [
    {
     "name": "stderr",
     "output_type": "stream",
     "text": [
      "Downloading: 100%|██████████| 713690/713690 [01:44<00:00, 6816.62rows/s]\n"
     ]
    }
   ],
   "source": [
    "df = pandas_gbq.read_gbq(query)"
   ]
  },
  {
   "cell_type": "code",
   "execution_count": 4,
   "id": "eec770ba-210a-40c4-a377-68063e11a911",
   "metadata": {},
   "outputs": [],
   "source": [
    "new_merchants = \"\"\"\n",
    "WITH\n",
    "  recent_merchants AS (\n",
    "  SELECT\n",
    "    pt.merchant_id,\n",
    "    COUNT(DISTINCT id) AS txns,\n",
    "    cast(SUM(amount) as int) AS tpv\n",
    "  FROM\n",
    "    bharatpe-analytics-prod.payin.transactions pt\n",
    "  JOIN\n",
    "    `bharatpe-analytics-prod.bharatpe_data_platfrom.universal_merchant_data_mart` dm\n",
    "  ON\n",
    "    pt.merchant_id = dm.merchant_id\n",
    "  WHERE\n",
    "    status = \"SUCCESS\"\n",
    "    AND DATE(dm.merchant_created_at) >= DATE_SUB(CURRENT_DATE(), INTERVAL 60 DAY)\n",
    "    AND DATE(payment_timestamp) >= DATE_SUB(CURRENT_DATE(), INTERVAL 30 DAY)\n",
    "  GROUP BY\n",
    "    1\n",
    ")\n",
    "\n",
    "select * from recent_merchants\n",
    "\n",
    "\"\"\""
   ]
  },
  {
   "cell_type": "code",
   "execution_count": 5,
   "id": "aee20b1c-fb05-402a-88e6-627aa8b546a8",
   "metadata": {},
   "outputs": [
    {
     "name": "stderr",
     "output_type": "stream",
     "text": [
      "Downloading: 100%|██████████| 568319/568319 [00:10<00:00, 55782.05rows/s]\n"
     ]
    }
   ],
   "source": [
    "new_merchants = pandas_gbq.read_gbq(new_merchants)"
   ]
  },
  {
   "cell_type": "code",
   "execution_count": 6,
   "id": "89d0a094-c4df-422f-abd4-2cfb371157a7",
   "metadata": {},
   "outputs": [],
   "source": [
    "max_daily_txn = \"\"\"\n",
    "WITH\n",
    "  merchant_list AS (\n",
    "  SELECT\n",
    "    merchant_id,\n",
    "    DATE(merchant_created_at) as onboarding_date\n",
    "  FROM\n",
    "    `bharatpe-analytics-prod.bharatpe_data_platfrom.universal_merchant_data_mart`\n",
    "  WHERE\n",
    "    DATE(merchant_created_at) >= DATE_SUB(CURRENT_DATE(), INTERVAL 60 DAY)),\n",
    "\n",
    "  txn_temp AS (\n",
    "  SELECT\n",
    "    merchant_id,\n",
    "    DATE(payment_timestamp) AS payment_date,\n",
    "    SUM(amount) AS daily_tpv,\n",
    "    COUNT(DISTINCT id) AS daily_txns,\n",
    "    CURRENT_DATE() AS today\n",
    "  FROM\n",
    "    `bharatpe-analytics-prod.payin.transactions`\n",
    "  WHERE\n",
    "    status = \"SUCCESS\"\n",
    "    AND merchant_id IN (\n",
    "    SELECT\n",
    "      merchant_id\n",
    "    FROM\n",
    "      merchant_list )\n",
    "    group by 1,2)\n",
    "\n",
    "\n",
    "    select tt.merchant_id,\n",
    "        MAX(CASE\n",
    "        WHEN tt.payment_date >= ml.onboarding_date AND tt.payment_date < DATE_SUB(DATE(ml.onboarding_date), INTERVAL -7 DAY) THEN daily_txns\n",
    "      ELSE\n",
    "      0\n",
    "    END\n",
    "      ) AS w1_max_daily_txns\n",
    "\n",
    "    from txn_temp tt\n",
    "    join merchant_list ml\n",
    "    on tt.merchant_id = ml.merchant_id\n",
    "    group by 1\n",
    "    order by 2 desc\n",
    "\"\"\""
   ]
  },
  {
   "cell_type": "code",
   "execution_count": 7,
   "id": "a6885f0b-c238-463b-b764-e3f328853e82",
   "metadata": {},
   "outputs": [
    {
     "name": "stderr",
     "output_type": "stream",
     "text": [
      "Downloading: 100%|██████████| 730742/730742 [00:09<00:00, 78311.95rows/s]\n"
     ]
    }
   ],
   "source": [
    "max_daily_txn = pandas_gbq.read_gbq(max_daily_txn)"
   ]
  },
  {
   "cell_type": "code",
   "execution_count": 8,
   "id": "03b075a1-019b-4d6b-a2c1-0ed47ff0e401",
   "metadata": {},
   "outputs": [],
   "source": [
    "tickets_full = \"\"\"\n",
    "SELECT\n",
    "  merchant_id,\n",
    "  subject,\n",
    "  type,\n",
    "  count(id) as tickets\n",
    "\n",
    "FROM\n",
    "  `bharatpe-analytics-prod.bharatpe_analytics_data.fw_tickets`\n",
    "WHERE\n",
    "  DATE(created_at) >= DATE_SUB(CURRENT_DATE(), INTERVAL 60 DAY) \n",
    "  and merchant_id is not Null\n",
    "group by 1,2,3\n",
    "\"\"\""
   ]
  },
  {
   "cell_type": "code",
   "execution_count": 9,
   "id": "6385ea2c-0e72-4c8b-a031-4dd4f7bb9bb9",
   "metadata": {},
   "outputs": [
    {
     "name": "stderr",
     "output_type": "stream",
     "text": [
      "Downloading: 100%|██████████| 718877/718877 [00:19<00:00, 36887.29rows/s]\n"
     ]
    }
   ],
   "source": [
    "tickets_full = pandas_gbq.read_gbq(tickets_full)"
   ]
  },
  {
   "cell_type": "code",
   "execution_count": 10,
   "id": "7af4f48d-6e8a-4bf4-9337-0c43ca5c27fa",
   "metadata": {},
   "outputs": [],
   "source": [
    "tickets= \"\"\"\n",
    "with  unresolved as (\n",
    "\n",
    "SELECT\n",
    "  merchant_id,\n",
    "  count(id) as unresolved_tickets\n",
    "\n",
    "FROM\n",
    "  `bharatpe-analytics-prod.bharatpe_analytics_data.fw_tickets`\n",
    "WHERE\n",
    "  DATE(created_at) >= DATE_SUB(CURRENT_DATE(), INTERVAL 60 DAY) \n",
    "  and merchant_id is not Null\n",
    "  and resolved_at is NULL\n",
    "  group by 1\n",
    "),\n",
    "total as (\n",
    "\n",
    "select merchant_id, count(id) as total_tickets\n",
    "FROM\n",
    "  `bharatpe-analytics-prod.bharatpe_analytics_data.fw_tickets`\n",
    "\n",
    "WHERE\n",
    "  DATE(created_at) >= DATE_SUB(CURRENT_DATE(), INTERVAL 60 DAY) \n",
    "  and merchant_id is not Null\n",
    "  group by 1\n",
    ")\n",
    "\n",
    "select total.merchant_id, total_tickets, unresolved_tickets,COALESCE(cast(100*unresolved_tickets/total_tickets as int), 0 ) unresolved_percent\n",
    "\n",
    "from total\n",
    "left join unresolved\n",
    "on total.merchant_id = unresolved.merchant_id\n",
    "\"\"\""
   ]
  },
  {
   "cell_type": "code",
   "execution_count": 11,
   "id": "fa9635fa-6a44-43de-8806-cc69b323d678",
   "metadata": {},
   "outputs": [
    {
     "name": "stderr",
     "output_type": "stream",
     "text": [
      "Downloading: 100%|██████████| 286140/286140 [00:06<00:00, 42166.27rows/s]\n"
     ]
    }
   ],
   "source": [
    "tickets = pandas_gbq.read_gbq(tickets)"
   ]
  },
  {
   "cell_type": "code",
   "execution_count": 12,
   "id": "68735de5-11e9-4e12-97d4-f4f77b956e28",
   "metadata": {},
   "outputs": [],
   "source": [
    "c1 = new_merchants['tpv'] >= 500\n",
    "c2 = new_merchants['txns'] >= 15\n",
    "c = c1 & c2\n",
    "new_merchants['Active'] = np.where(c, 1, 0)"
   ]
  },
  {
   "cell_type": "code",
   "execution_count": 13,
   "id": "e2bc6229-977a-48eb-b39a-6f076adefda2",
   "metadata": {},
   "outputs": [],
   "source": [
    "act_dic = new_merchants.set_index(['merchant_id'])['Active'].to_dict()"
   ]
  },
  {
   "cell_type": "code",
   "execution_count": 14,
   "id": "414bb0d3-3dff-49f3-a300-5f1d548c3f2c",
   "metadata": {},
   "outputs": [],
   "source": [
    "def apps(x): \n",
    "    try:\n",
    "        ev = eval(x[1:-1])\n",
    "        result = [ev[i]['appName'] for i in range(0,len(ev))]\n",
    "    except:\n",
    "        result = []\n",
    "    return result  "
   ]
  },
  {
   "cell_type": "code",
   "execution_count": 15,
   "id": "decf9c2d-36f8-42c9-a214-24095dcfddd6",
   "metadata": {},
   "outputs": [],
   "source": [
    "df['app_names'] = df['app_details'].apply(lambda x :apps(x))"
   ]
  },
  {
   "cell_type": "code",
   "execution_count": 16,
   "id": "a887a7c9-7e07-4594-887d-f2df3ddce645",
   "metadata": {},
   "outputs": [],
   "source": [
    "d = {}\n",
    "for item in df['app_names']:\n",
    "    for el in item:\n",
    "        if el in d:\n",
    "            d[el] +=1\n",
    "        else:\n",
    "            d[el]=1      "
   ]
  },
  {
   "cell_type": "code",
   "execution_count": 17,
   "id": "ad6abd4a-c17b-4d0e-8c63-eb3f64c74451",
   "metadata": {},
   "outputs": [
    {
     "data": {
      "text/plain": [
       "[('BharatPe', 722895),\n",
       " ('WhatsApp', 647548),\n",
       " ('PhonePe', 562438),\n",
       " ('Drive', 468046),\n",
       " ('Instagram', 467647),\n",
       " ('Truecaller', 450455),\n",
       " ('Paytm', 438394)]"
      ]
     },
     "execution_count": 17,
     "metadata": {},
     "output_type": "execute_result"
    }
   ],
   "source": [
    "sorted(d.items(), key=lambda x: -x[1])[:7]\n",
    "# [i[0] for i in  sorted(d.items(), key=lambda x: -x[1])[:100]]"
   ]
  },
  {
   "cell_type": "code",
   "execution_count": 18,
   "id": "1639d782-16cd-4b6f-8cb5-719d91fde6be",
   "metadata": {},
   "outputs": [],
   "source": [
    "tickets_full = tickets_full.merge(tickets, how = 'left', left_on = \"merchant_id\", right_on = \"merchant_id\")"
   ]
  },
  {
   "cell_type": "code",
   "execution_count": 19,
   "id": "d381464b-5db9-4037-9db8-c73cf50a01d2",
   "metadata": {},
   "outputs": [
    {
     "data": {
      "text/html": [
       "\n",
       "<div id=\"altair-viz-eda293268bad48aea628d82cc80a2ec2\"></div>\n",
       "<script type=\"text/javascript\">\n",
       "  var VEGA_DEBUG = (typeof VEGA_DEBUG == \"undefined\") ? {} : VEGA_DEBUG;\n",
       "  (function(spec, embedOpt){\n",
       "    let outputDiv = document.currentScript.previousElementSibling;\n",
       "    if (outputDiv.id !== \"altair-viz-eda293268bad48aea628d82cc80a2ec2\") {\n",
       "      outputDiv = document.getElementById(\"altair-viz-eda293268bad48aea628d82cc80a2ec2\");\n",
       "    }\n",
       "    const paths = {\n",
       "      \"vega\": \"https://cdn.jsdelivr.net/npm//vega@5?noext\",\n",
       "      \"vega-lib\": \"https://cdn.jsdelivr.net/npm//vega-lib?noext\",\n",
       "      \"vega-lite\": \"https://cdn.jsdelivr.net/npm//vega-lite@4.17.0?noext\",\n",
       "      \"vega-embed\": \"https://cdn.jsdelivr.net/npm//vega-embed@6?noext\",\n",
       "    };\n",
       "\n",
       "    function maybeLoadScript(lib, version) {\n",
       "      var key = `${lib.replace(\"-\", \"\")}_version`;\n",
       "      return (VEGA_DEBUG[key] == version) ?\n",
       "        Promise.resolve(paths[lib]) :\n",
       "        new Promise(function(resolve, reject) {\n",
       "          var s = document.createElement('script');\n",
       "          document.getElementsByTagName(\"head\")[0].appendChild(s);\n",
       "          s.async = true;\n",
       "          s.onload = () => {\n",
       "            VEGA_DEBUG[key] = version;\n",
       "            return resolve(paths[lib]);\n",
       "          };\n",
       "          s.onerror = () => reject(`Error loading script: ${paths[lib]}`);\n",
       "          s.src = paths[lib];\n",
       "        });\n",
       "    }\n",
       "\n",
       "    function showError(err) {\n",
       "      outputDiv.innerHTML = `<div class=\"error\" style=\"color:red;\">${err}</div>`;\n",
       "      throw err;\n",
       "    }\n",
       "\n",
       "    function displayChart(vegaEmbed) {\n",
       "      vegaEmbed(outputDiv, spec, embedOpt)\n",
       "        .catch(err => showError(`Javascript Error: ${err.message}<br>This usually means there's a typo in your chart specification. See the javascript console for the full traceback.`));\n",
       "    }\n",
       "\n",
       "    if(typeof define === \"function\" && define.amd) {\n",
       "      requirejs.config({paths});\n",
       "      require([\"vega-embed\"], displayChart, err => showError(`Error loading script: ${err.message}`));\n",
       "    } else {\n",
       "      maybeLoadScript(\"vega\", \"5\")\n",
       "        .then(() => maybeLoadScript(\"vega-lite\", \"4.17.0\"))\n",
       "        .then(() => maybeLoadScript(\"vega-embed\", \"6\"))\n",
       "        .catch(showError)\n",
       "        .then(() => displayChart(vegaEmbed));\n",
       "    }\n",
       "  })({\"usermeta\": {\"embedOptions\": {\"theme\": \"fivethirtyeight\"}}, \"config\": {\"view\": {\"continuousWidth\": 400, \"continuousHeight\": 300}, \"axis\": {\"labelLimit\": 1000}}, \"layer\": [{\"mark\": {\"type\": \"bar\", \"color\": \"lightgrey\"}, \"encoding\": {\"tooltip\": [{\"field\": \"Type\", \"type\": \"nominal\"}], \"x\": {\"axis\": {\"title\": \"Issue Count\"}, \"field\": \"Count\", \"type\": \"quantitative\"}, \"y\": {\"axis\": {\"title\": \"\"}, \"field\": \"Type\", \"sort\": \"-x\", \"stack\": \"normalize\", \"type\": \"nominal\"}}}, {\"mark\": {\"type\": \"text\", \"align\": \"right\", \"angle\": 0, \"baseline\": \"middle\"}, \"encoding\": {\"text\": {\"field\": \"Count\", \"format\": \"1.0d\", \"type\": \"quantitative\"}, \"tooltip\": [{\"field\": \"Type\", \"type\": \"nominal\"}], \"x\": {\"axis\": {\"labels\": true, \"ticks\": true, \"title\": \"\"}, \"field\": \"Count\", \"type\": \"quantitative\"}, \"y\": {\"axis\": {\"title\": \"\"}, \"field\": \"Type\", \"sort\": \"-x\", \"stack\": \"normalize\", \"type\": \"nominal\"}}}], \"data\": {\"name\": \"data-3832d8d34d9c3fcf69824b65126eecb0\"}, \"height\": 500, \"width\": 400, \"$schema\": \"https://vega.github.io/schema/vega-lite/v4.17.0.json\", \"datasets\": {\"data-3832d8d34d9c3fcf69824b65126eecb0\": [{\"Type\": \"Settlement Status -Pending\", \"Count\": 3005, \"Activation\": 0.6921797004991681}, {\"Type\": \"Overall features of BharatPe Speaker\", \"Count\": 2750, \"Activation\": 0.7934545454545454}, {\"Type\": \"Status of Withdrawal - Pending / Failed\", \"Count\": 2089, \"Activation\": 0.7046433700335089}, {\"Type\": \"Other\", \"Count\": 2021, \"Activation\": 0.6833250865907966}, {\"Type\": \"New App - Features & Benefits\", \"Count\": 1729, \"Activation\": 0.2533256217466744}, {\"Type\": \"Other Complaint\", \"Count\": 1497, \"Activation\": 0.48296593186372744}, {\"Type\": \"BharatPe Card Application on Hold\", \"Count\": 1251, \"Activation\": 0.601119104716227}, {\"Type\": \"Not able to see any transactions in the app\", \"Count\": 1205, \"Activation\": 0.6904564315352697}, {\"Type\": \"Need Information about Charges applied\", \"Count\": 1183, \"Activation\": 0.4184277261200338}, {\"Type\": \"Reason for Ineligible\", \"Count\": 1174, \"Activation\": 0.5928449744463373}, {\"Type\": \"Information on withdrawal\", \"Count\": 1092, \"Activation\": 0.5283882783882784}, {\"Type\": \"Information on Settings/Usage - Speaker Active\", \"Count\": 1077, \"Activation\": 0.8440111420612814}, {\"Type\": \"Speaker not delivered Within TAT\", \"Count\": 1072, \"Activation\": 0.8666044776119403}, {\"Type\": \"Settlement Status- Block\", \"Count\": 919, \"Activation\": 0.9357997823721437}, {\"Type\": \"Enquiry about another number\", \"Count\": 798, \"Activation\": 0.3684210526315789}, {\"Type\": \"Info - Status of Application\", \"Count\": 796, \"Activation\": 0.8291457286432161}, {\"Type\": \"Status of Withdrawal\", \"Count\": 763, \"Activation\": 0.6579292267365662}, {\"Type\": \"Transfer Success but not reflecting in Bank\", \"Count\": 751, \"Activation\": 0.6564580559254327}, {\"Type\": \"Information about BharaPe Loan\", \"Count\": 732, \"Activation\": 0.6038251366120219}, {\"Type\": \"Speaker Delivered But Showing Ordered on CRM\", \"Count\": 696, \"Activation\": 0.8778735632183908}, {\"Type\": \"Reason for Rejection/ Expiry\", \"Count\": 679, \"Activation\": 0.8777614138438881}, {\"Type\": \"Blank Call\", \"Count\": 669, \"Activation\": 0.6322869955156951}, {\"Type\": \"Book A Return\", \"Count\": 659, \"Activation\": 0.38088012139605465}, {\"Type\": \"Information about Eligibility Criteria\", \"Count\": 606, \"Activation\": 0.6270627062706271}, {\"Type\": \"Interest amount calculation\", \"Count\": 588, \"Activation\": 0.5272108843537415}, {\"Type\": \"Set Up Information\", \"Count\": 560, \"Activation\": 0.3678571428571429}, {\"Type\": \"Speaker not delivered Beyond TAT\", \"Count\": 534, \"Activation\": 0.8707865168539326}, {\"Type\": \"Return Request - Speaker\", \"Count\": 492, \"Activation\": 0.7764227642276422}, {\"Type\": \"Information About Application Process\", \"Count\": 480, \"Activation\": 0.76875}, {\"Type\": \"Voice notification not working No sound at all - Speaker\", \"Count\": 464, \"Activation\": 0.9504310344827587}]}}, {\"mode\": \"vega-lite\"});\n",
       "</script>"
      ],
      "text/plain": [
       "alt.LayerChart(...)"
      ]
     },
     "execution_count": 19,
     "metadata": {},
     "output_type": "execute_result"
    }
   ],
   "source": [
    "tickets_full['Active'] = tickets_full['merchant_id'].map(act_dic)\n",
    "tickets_full = tickets_full[~tickets_full['Active'].isna()]\n",
    "\n",
    "tic_act_dic = tickets_full.groupby(['type'])['Active'].mean().to_dict()\n",
    "\n",
    "vis1 = pd.DataFrame(tickets_full['type'].value_counts()[:30]).reset_index()\n",
    "vis1.columns = ['Type','Count']\n",
    "vis1['Activation'] = vis1['Type'].map(tic_act_dic)\n",
    "alt.themes.enable('fivethirtyeight')\n",
    "base = alt.Chart(vis1).encode(y=alt.Y('Type:N',axis=alt.Axis(title=\"\"), sort = \"-x\",stack='normalize'),\n",
    "                             tooltip = ['Type'])\n",
    "\n",
    "bar = base.mark_bar(color = 'lightgrey').encode(x=alt.X('Count:Q',axis=alt.Axis(title=\"Issue Count\")))\n",
    "\n",
    "txt_bar = bar.mark_text(align='right',\n",
    "        baseline='middle',angle = 0\n",
    ").encode(\n",
    "    x=alt.X('Count:Q',axis=alt.Axis(title=\"\",labels=True,ticks=True)),\n",
    "    text=alt.Text('Count:Q',format='1.0d')\n",
    ")\n",
    "\n",
    "(bar + txt_bar).properties(height = 500, width = 400).configure_axis(labelLimit=1000)"
   ]
  },
  {
   "cell_type": "code",
   "execution_count": 20,
   "id": "49d2f43a-771b-41e1-9e60-28a94947da6e",
   "metadata": {},
   "outputs": [],
   "source": [
    "final = df.merge(new_merchants, how = 'left', left_on = \"merchant_id\", right_on = \"merchant_id\")\n",
    "final = final.merge(max_daily_txn, how = 'left', left_on = \"merchant_id\", right_on = \"merchant_id\")\n",
    "final = final.merge(tickets, how = 'left', left_on = \"merchant_id\", right_on = \"merchant_id\")"
   ]
  },
  {
   "cell_type": "code",
   "execution_count": 21,
   "id": "0bdc8bc1-9010-4a4c-96c6-9cd8c49ec4f7",
   "metadata": {},
   "outputs": [],
   "source": [
    "final = final[final['merchant_id'].isin(new_merchants['merchant_id'])]   #final[~final['Active'].isna()]"
   ]
  },
  {
   "cell_type": "code",
   "execution_count": 22,
   "id": "671228fd-2484-4a2d-b052-d79c8d2f25ea",
   "metadata": {},
   "outputs": [
    {
     "data": {
      "text/plain": [
       "(395167, 10)"
      ]
     },
     "execution_count": 22,
     "metadata": {},
     "output_type": "execute_result"
    }
   ],
   "source": [
    "final.shape"
   ]
  },
  {
   "cell_type": "code",
   "execution_count": 23,
   "id": "5782e6a4-a312-4e67-9cfb-1f22733ec6ab",
   "metadata": {},
   "outputs": [],
   "source": [
    "final['Issue_Raised'] = np.where(final['merchant_id'].isin(tickets['merchant_id']),1,0)"
   ]
  },
  {
   "cell_type": "code",
   "execution_count": 24,
   "id": "bd6f0bda-14a1-45b1-80d1-e2a2e69bdf38",
   "metadata": {},
   "outputs": [],
   "source": [
    "freq_apps = [i[0] for i in  sorted(d.items(), key=lambda x: -x[1])[:100]]"
   ]
  },
  {
   "cell_type": "code",
   "execution_count": 25,
   "id": "cdcf5cd8-e8d3-47a0-8a50-a6b47df88228",
   "metadata": {},
   "outputs": [],
   "source": [
    "for k in freq_apps:\n",
    "    final[k] = final['app_names'].apply(lambda x:1*(x.count(k)>0))"
   ]
  },
  {
   "cell_type": "code",
   "execution_count": 26,
   "id": "3779b42d-0e40-4760-87d0-b3b09d2268b9",
   "metadata": {},
   "outputs": [],
   "source": [
    "d2 = {}\n",
    "for k in freq_apps[1:]:\n",
    "    d2[k] = final[final[k]==1]['Active'].mean()"
   ]
  },
  {
   "cell_type": "code",
   "execution_count": 27,
   "id": "7e4d7a94-8ee0-40a7-8f5b-e04bc4dca335",
   "metadata": {},
   "outputs": [
    {
     "data": {
      "text/plain": [
       "0.2965100830787996"
      ]
     },
     "execution_count": 27,
     "metadata": {},
     "output_type": "execute_result"
    }
   ],
   "source": [
    "final['Active'].mean()"
   ]
  },
  {
   "cell_type": "code",
   "execution_count": 28,
   "id": "22c8372e-e674-4971-a12f-f710c7797f04",
   "metadata": {},
   "outputs": [
    {
     "data": {
      "text/plain": [
       "[('Paytm for Business', 0.4006145119357126),\n",
       " ('HDFC Bank', 0.36359576109464453),\n",
       " ('Ola', 0.3614317747695374),\n",
       " ('nxt', 0.36140370026742347),\n",
       " ('Axis Mobile', 0.3610368786745056)]"
      ]
     },
     "execution_count": 28,
     "metadata": {},
     "output_type": "execute_result"
    }
   ],
   "source": [
    "sorted(d2.items(), key=lambda x: -x[1])[:5]"
   ]
  },
  {
   "cell_type": "code",
   "execution_count": 29,
   "id": "549a4b8f-0a2d-43e1-b904-a93eee91510b",
   "metadata": {},
   "outputs": [],
   "source": [
    "# ['Paytm for Business','PhonePe Business','Khatabook','WhatsApp\\xa0Business','Google Pay for Business','Amazon Pay for Business']\n",
    "final['num_business_apps'] = final[['Paytm for Business','PhonePe Business','Khatabook']].sum(axis=1)"
   ]
  },
  {
   "cell_type": "code",
   "execution_count": 30,
   "id": "ba31df48-394c-42f2-84a7-f9e9851efa1d",
   "metadata": {},
   "outputs": [
    {
     "data": {
      "text/html": [
       "<div>\n",
       "<style scoped>\n",
       "    .dataframe tbody tr th:only-of-type {\n",
       "        vertical-align: middle;\n",
       "    }\n",
       "\n",
       "    .dataframe tbody tr th {\n",
       "        vertical-align: top;\n",
       "    }\n",
       "\n",
       "    .dataframe thead th {\n",
       "        text-align: right;\n",
       "    }\n",
       "</style>\n",
       "<table border=\"1\" class=\"dataframe\">\n",
       "  <thead>\n",
       "    <tr style=\"text-align: right;\">\n",
       "      <th></th>\n",
       "      <th>mean</th>\n",
       "      <th>count</th>\n",
       "    </tr>\n",
       "    <tr>\n",
       "      <th>num_business_apps</th>\n",
       "      <th></th>\n",
       "      <th></th>\n",
       "    </tr>\n",
       "  </thead>\n",
       "  <tbody>\n",
       "    <tr>\n",
       "      <th>0</th>\n",
       "      <td>0.257604</td>\n",
       "      <td>240513</td>\n",
       "    </tr>\n",
       "    <tr>\n",
       "      <th>1</th>\n",
       "      <td>0.338452</td>\n",
       "      <td>111035</td>\n",
       "    </tr>\n",
       "    <tr>\n",
       "      <th>2</th>\n",
       "      <td>0.400681</td>\n",
       "      <td>38482</td>\n",
       "    </tr>\n",
       "    <tr>\n",
       "      <th>3</th>\n",
       "      <td>0.431186</td>\n",
       "      <td>5137</td>\n",
       "    </tr>\n",
       "  </tbody>\n",
       "</table>\n",
       "</div>"
      ],
      "text/plain": [
       "                       mean   count\n",
       "num_business_apps                  \n",
       "0                  0.257604  240513\n",
       "1                  0.338452  111035\n",
       "2                  0.400681   38482\n",
       "3                  0.431186    5137"
      ]
     },
     "execution_count": 30,
     "metadata": {},
     "output_type": "execute_result"
    }
   ],
   "source": [
    "final.groupby(['num_business_apps'])['Active'].agg(['mean','count'])"
   ]
  },
  {
   "cell_type": "code",
   "execution_count": 31,
   "id": "4aec8499-d664-4c76-b80c-a70ae9eeb852",
   "metadata": {},
   "outputs": [],
   "source": [
    "# data = final[['merchant_id','Active','w1_max_daily_txns','num_business_apps']]\n",
    "# 'WhatsApp\\xa0Business'\n",
    "data = final[['merchant_id','Active','w1_max_daily_txns','Paytm for Business','PhonePe Business','Khatabook',\\\n",
    "              'WhatsApp\\xa0Business','Google Pay for Business','Amazon Pay for Business']]"
   ]
  },
  {
   "cell_type": "code",
   "execution_count": 32,
   "id": "614ba269-96e4-468a-8689-8985c1b94616",
   "metadata": {},
   "outputs": [],
   "source": [
    "# data['tickets'] = data['tickets'].fillna(0)\n",
    "data['Active'] = data['Active'].astype('int')"
   ]
  },
  {
   "cell_type": "code",
   "execution_count": 33,
   "id": "a62a0ea4-2560-4b3a-84e6-13f5525e38c6",
   "metadata": {},
   "outputs": [],
   "source": [
    "from sklearn.model_selection import train_test_split\n",
    "from sklearn.ensemble import RandomForestClassifier\n",
    "from sklearn.linear_model import LogisticRegression\n",
    "from sklearn.metrics import roc_auc_score\n",
    "from sklearn.metrics import confusion_matrix,ConfusionMatrixDisplay\n",
    "from xgboost import XGBClassifier, plot_importance\n",
    "from sklearn.metrics import plot_confusion_matrix\n",
    "import pickle"
   ]
  },
  {
   "cell_type": "code",
   "execution_count": 34,
   "id": "27862d2d-439d-4f40-841e-9cc81df56024",
   "metadata": {},
   "outputs": [
    {
     "data": {
      "text/plain": [
       "0    277996\n",
       "1    117171\n",
       "Name: Active, dtype: int64"
      ]
     },
     "execution_count": 34,
     "metadata": {},
     "output_type": "execute_result"
    }
   ],
   "source": [
    "data['Active'].value_counts()"
   ]
  },
  {
   "cell_type": "code",
   "execution_count": 35,
   "id": "7a3403f6-e756-4b22-9bc6-03ee091ebd89",
   "metadata": {},
   "outputs": [],
   "source": [
    "y = data['Active']\n",
    "X = data[['w1_max_daily_txns','Paytm for Business','PhonePe Business','Khatabook',\\\n",
    "              'WhatsApp\\xa0Business','Google Pay for Business','Amazon Pay for Business']]"
   ]
  },
  {
   "cell_type": "code",
   "execution_count": 36,
   "id": "2281d396-a39d-4fce-9e8f-bd478b6a9698",
   "metadata": {},
   "outputs": [],
   "source": [
    "X_train, X_test, y_train, y_test = train_test_split(X,y ,test_size=0.25,stratify=y,shuffle = True)"
   ]
  },
  {
   "cell_type": "code",
   "execution_count": 37,
   "id": "567cfa03-4787-463f-82e2-4a924fd48356",
   "metadata": {},
   "outputs": [
    {
     "name": "stdout",
     "output_type": "stream",
     "text": [
      "[0]\tvalidation_0-auc:0.56819\tvalidation_0-error:0.29651\n",
      "[1]\tvalidation_0-auc:0.56810\tvalidation_0-error:0.29651\n",
      "[2]\tvalidation_0-auc:0.85333\tvalidation_0-error:0.21103\n",
      "[3]\tvalidation_0-auc:0.84362\tvalidation_0-error:0.25450\n",
      "[4]\tvalidation_0-auc:0.83330\tvalidation_0-error:0.26929\n",
      "[5]\tvalidation_0-auc:0.85555\tvalidation_0-error:0.19658\n",
      "[6]\tvalidation_0-auc:0.86202\tvalidation_0-error:0.18345\n",
      "[7]\tvalidation_0-auc:0.86390\tvalidation_0-error:0.17589\n",
      "[8]\tvalidation_0-auc:0.86494\tvalidation_0-error:0.17515\n",
      "[9]\tvalidation_0-auc:0.86460\tvalidation_0-error:0.17585\n",
      "[10]\tvalidation_0-auc:0.86554\tvalidation_0-error:0.17527\n",
      "[11]\tvalidation_0-auc:0.86607\tvalidation_0-error:0.17459\n",
      "[12]\tvalidation_0-auc:0.86637\tvalidation_0-error:0.17398\n",
      "[13]\tvalidation_0-auc:0.86657\tvalidation_0-error:0.17294\n",
      "[14]\tvalidation_0-auc:0.86682\tvalidation_0-error:0.17294\n",
      "[15]\tvalidation_0-auc:0.86693\tvalidation_0-error:0.17274\n",
      "[16]\tvalidation_0-auc:0.86698\tvalidation_0-error:0.17265\n",
      "[17]\tvalidation_0-auc:0.86710\tvalidation_0-error:0.17243\n",
      "[18]\tvalidation_0-auc:0.86713\tvalidation_0-error:0.17243\n",
      "[19]\tvalidation_0-auc:0.86708\tvalidation_0-error:0.17265\n"
     ]
    },
    {
     "data": {
      "text/plain": [
       "XGBClassifier(base_score=0.5, booster='gbtree', callbacks=None,\n",
       "              colsample_bylevel=1, colsample_bynode=1, colsample_bytree=0.8,\n",
       "              early_stopping_rounds=None, enable_categorical=True,\n",
       "              eval_metric=['auc', 'error'], gamma=1.5, gpu_id=-1,\n",
       "              grow_policy='depthwise', importance_type=None,\n",
       "              interaction_constraints='', learning_rate=0.1, max_bin=256,\n",
       "              max_cat_to_onehot=4, max_delta_step=0, max_depth=6, max_leaves=0,\n",
       "              min_child_weight=1, missing=nan, monotone_constraints='()',\n",
       "              n_estimators=20, n_jobs=0, num_parallel_tree=1, predictor='auto',\n",
       "              random_state=0, reg_alpha=0, reg_lambda=1, ...)"
      ]
     },
     "execution_count": 37,
     "metadata": {},
     "output_type": "execute_result"
    }
   ],
   "source": [
    "params={'n_estimators':20,'colsample_bytree': 0.8, 'gamma': 1.5, 'learning_rate': 0.1, 'max_depth': 6 ,'subsample': 1.0}\n",
    "clf = XGBClassifier(objective=\"binary:logistic\", eval_metric=[\"auc\",\"error\"], use_label_encoder=False, random_state = 0, enable_categorical=True,\\\n",
    "                    tree_method=\"approx\")\n",
    "clf.set_params(**params)\n",
    "eval_set = [(X_test, y_test)]\n",
    "clf.fit(X_train, y_train,eval_set=eval_set,verbose=True)"
   ]
  },
  {
   "cell_type": "code",
   "execution_count": 38,
   "id": "c6e0ce7a-5b30-4841-b883-e2a393963bf4",
   "metadata": {},
   "outputs": [],
   "source": [
    "y_pred = clf.predict(X_test)"
   ]
  },
  {
   "cell_type": "code",
   "execution_count": 39,
   "id": "b4354cbc-6ebe-44a0-8c09-b095f7a84ea8",
   "metadata": {},
   "outputs": [],
   "source": [
    "pickle.dump(clf, open(\"active_model\", 'wb'))"
   ]
  },
  {
   "cell_type": "code",
   "execution_count": 40,
   "id": "b689dc4b-e4d0-4c5f-9647-f96fc85f3088",
   "metadata": {},
   "outputs": [],
   "source": [
    "clf = pickle.load(open(\"active_model\", 'rb'))"
   ]
  },
  {
   "cell_type": "code",
   "execution_count": 41,
   "id": "1b2164d8-89fa-4409-8689-a6e1e9fbbc11",
   "metadata": {},
   "outputs": [
    {
     "data": {
      "text/plain": [
       "0.8670767344071846"
      ]
     },
     "execution_count": 41,
     "metadata": {},
     "output_type": "execute_result"
    }
   ],
   "source": [
    "roc_auc_score(y_test, clf.predict_proba(X_test)[:,1])"
   ]
  },
  {
   "cell_type": "code",
   "execution_count": 42,
   "id": "d2cd9aae-417c-4337-8a3c-55b0782835e3",
   "metadata": {},
   "outputs": [],
   "source": [
    "d = {}\n",
    "for thres in range(20,90,5):\n",
    "    # print(thres/100)\n",
    "    y_pred = 1*(clf.predict_proba(X_test)[:,1]>thres/100)\n",
    "    d[thres] = pd.DataFrame([thres/100, sum(y_pred ==1),sum(y_test[y_pred==1]==1)/ sum(y_pred),\\\n",
    "                            sum(y_pred[y_test==1]==1)/sum(y_test==1)],index = ['threshold','predicted_positive','precision','recall']).T"
   ]
  },
  {
   "cell_type": "code",
   "execution_count": 43,
   "id": "19a073cf-be58-477a-8198-7281d4a8b405",
   "metadata": {},
   "outputs": [],
   "source": [
    "res = pd.concat([d[k] for k in d.keys()], axis = 0).reset_index(drop = True)"
   ]
  },
  {
   "cell_type": "code",
   "execution_count": 44,
   "id": "78063759-bb62-4a31-adbf-0bd60a486419",
   "metadata": {},
   "outputs": [
    {
     "data": {
      "text/html": [
       "\n",
       "<div id=\"altair-viz-98b3a8e897444d389e2ccd0b366e5519\"></div>\n",
       "<script type=\"text/javascript\">\n",
       "  var VEGA_DEBUG = (typeof VEGA_DEBUG == \"undefined\") ? {} : VEGA_DEBUG;\n",
       "  (function(spec, embedOpt){\n",
       "    let outputDiv = document.currentScript.previousElementSibling;\n",
       "    if (outputDiv.id !== \"altair-viz-98b3a8e897444d389e2ccd0b366e5519\") {\n",
       "      outputDiv = document.getElementById(\"altair-viz-98b3a8e897444d389e2ccd0b366e5519\");\n",
       "    }\n",
       "    const paths = {\n",
       "      \"vega\": \"https://cdn.jsdelivr.net/npm//vega@5?noext\",\n",
       "      \"vega-lib\": \"https://cdn.jsdelivr.net/npm//vega-lib?noext\",\n",
       "      \"vega-lite\": \"https://cdn.jsdelivr.net/npm//vega-lite@4.17.0?noext\",\n",
       "      \"vega-embed\": \"https://cdn.jsdelivr.net/npm//vega-embed@6?noext\",\n",
       "    };\n",
       "\n",
       "    function maybeLoadScript(lib, version) {\n",
       "      var key = `${lib.replace(\"-\", \"\")}_version`;\n",
       "      return (VEGA_DEBUG[key] == version) ?\n",
       "        Promise.resolve(paths[lib]) :\n",
       "        new Promise(function(resolve, reject) {\n",
       "          var s = document.createElement('script');\n",
       "          document.getElementsByTagName(\"head\")[0].appendChild(s);\n",
       "          s.async = true;\n",
       "          s.onload = () => {\n",
       "            VEGA_DEBUG[key] = version;\n",
       "            return resolve(paths[lib]);\n",
       "          };\n",
       "          s.onerror = () => reject(`Error loading script: ${paths[lib]}`);\n",
       "          s.src = paths[lib];\n",
       "        });\n",
       "    }\n",
       "\n",
       "    function showError(err) {\n",
       "      outputDiv.innerHTML = `<div class=\"error\" style=\"color:red;\">${err}</div>`;\n",
       "      throw err;\n",
       "    }\n",
       "\n",
       "    function displayChart(vegaEmbed) {\n",
       "      vegaEmbed(outputDiv, spec, embedOpt)\n",
       "        .catch(err => showError(`Javascript Error: ${err.message}<br>This usually means there's a typo in your chart specification. See the javascript console for the full traceback.`));\n",
       "    }\n",
       "\n",
       "    if(typeof define === \"function\" && define.amd) {\n",
       "      requirejs.config({paths});\n",
       "      require([\"vega-embed\"], displayChart, err => showError(`Error loading script: ${err.message}`));\n",
       "    } else {\n",
       "      maybeLoadScript(\"vega\", \"5\")\n",
       "        .then(() => maybeLoadScript(\"vega-lite\", \"4.17.0\"))\n",
       "        .then(() => maybeLoadScript(\"vega-embed\", \"6\"))\n",
       "        .catch(showError)\n",
       "        .then(() => displayChart(vegaEmbed));\n",
       "    }\n",
       "  })({\"usermeta\": {\"embedOptions\": {\"theme\": \"fivethirtyeight\"}}, \"config\": {\"view\": {\"continuousWidth\": 400, \"continuousHeight\": 300}}, \"hconcat\": [{\"layer\": [{\"mark\": {\"type\": \"line\", \"color\": \"blue\"}, \"encoding\": {\"x\": {\"field\": \"threshold\", \"type\": \"quantitative\"}, \"y\": {\"field\": \"precision\", \"type\": \"quantitative\"}}, \"title\": \"Precision of Positive Class\"}, {\"mark\": {\"type\": \"line\", \"color\": \"red\"}, \"encoding\": {\"x\": {\"field\": \"threshold\", \"type\": \"quantitative\"}, \"y\": {\"field\": \"recall\", \"type\": \"quantitative\"}}}]}, {\"mark\": {\"type\": \"bar\", \"color\": \"black\"}, \"encoding\": {\"x\": {\"field\": \"threshold\", \"type\": \"quantitative\"}, \"y\": {\"field\": \"predicted_positive\", \"type\": \"quantitative\"}}}], \"data\": {\"name\": \"data-82b0ad5297f2072dcfe810fd32bf2182\"}, \"$schema\": \"https://vega.github.io/schema/vega-lite/v4.17.0.json\", \"datasets\": {\"data-82b0ad5297f2072dcfe810fd32bf2182\": [{\"threshold\": 0.2, \"predicted_positive\": 53079.0, \"precision\": 0.49222856496919687, \"recall\": 0.8919195712286212}, {\"threshold\": 0.25, \"predicted_positive\": 49623.0, \"precision\": 0.5160510247264374, \"recall\": 0.8742020277882088}, {\"threshold\": 0.3, \"predicted_positive\": 36823.0, \"precision\": 0.6159465551421666, \"recall\": 0.7742805448400641}, {\"threshold\": 0.35, \"predicted_positive\": 29326.0, \"precision\": 0.6919798131351019, \"recall\": 0.6927593623049876}, {\"threshold\": 0.4, \"predicted_positive\": 26807.0, \"precision\": 0.7212295296004775, \"recall\": 0.6600211654661523}, {\"threshold\": 0.45, \"predicted_positive\": 24922.0, \"precision\": 0.7443222855308562, \"recall\": 0.6332570921380535}, {\"threshold\": 0.5, \"predicted_positive\": 19575.0, \"precision\": 0.8125670498084291, \"recall\": 0.5429966203529853}, {\"threshold\": 0.55, \"predicted_positive\": 17438.0, \"precision\": 0.8431012730817754, \"recall\": 0.5018946505991192}, {\"threshold\": 0.6, \"predicted_positive\": 15797.0, \"precision\": 0.8681395201620561, \"recall\": 0.4681664561499334}, {\"threshold\": 0.65, \"predicted_positive\": 13809.0, \"precision\": 0.8952132667101166, \"recall\": 0.422012084798416}, {\"threshold\": 0.7, \"predicted_positive\": 11932.0, \"precision\": 0.9174488769694938, \"recall\": 0.3737070289830335}, {\"threshold\": 0.75, \"predicted_positive\": 10012.0, \"precision\": 0.9398721534159009, \"recall\": 0.32123715563445193}, {\"threshold\": 0.8, \"predicted_positive\": 7123.0, \"precision\": 0.9602695493471852, \"recall\": 0.23350288464820948}, {\"threshold\": 0.85, \"predicted_positive\": 1302.0, \"precision\": 0.9761904761904762, \"recall\": 0.04338920561226232}]}}, {\"mode\": \"vega-lite\"});\n",
       "</script>"
      ],
      "text/plain": [
       "alt.HConcatChart(...)"
      ]
     },
     "execution_count": 44,
     "metadata": {},
     "output_type": "execute_result"
    }
   ],
   "source": [
    "c1 = alt.Chart(res, title = \"Precision of Positive Class\").mark_line(color = 'blue',).encode(\n",
    "x = 'threshold:Q',\n",
    "    y = alt.Y('precision:Q')\n",
    ")\n",
    "\n",
    "c2 = alt.Chart(res).mark_line(color = 'red').encode(\n",
    "x = 'threshold',\n",
    "    y = alt.Y('recall')\n",
    ")\n",
    "\n",
    "c3 = alt.Chart(res).mark_bar(color = 'black').encode(\n",
    "x = 'threshold',\n",
    "    y = alt.Y('predicted_positive:Q')\n",
    ")\n",
    "(c1+c2) | c3"
   ]
  },
  {
   "cell_type": "code",
   "execution_count": 45,
   "id": "06e0fd59-2476-4ca2-94e7-4f161daf2841",
   "metadata": {},
   "outputs": [
    {
     "data": {
      "text/html": [
       "<div>\n",
       "<style scoped>\n",
       "    .dataframe tbody tr th:only-of-type {\n",
       "        vertical-align: middle;\n",
       "    }\n",
       "\n",
       "    .dataframe tbody tr th {\n",
       "        vertical-align: top;\n",
       "    }\n",
       "\n",
       "    .dataframe thead th {\n",
       "        text-align: right;\n",
       "    }\n",
       "</style>\n",
       "<table border=\"1\" class=\"dataframe\">\n",
       "  <thead>\n",
       "    <tr style=\"text-align: right;\">\n",
       "      <th></th>\n",
       "      <th>Varname</th>\n",
       "      <th>Imp</th>\n",
       "    </tr>\n",
       "  </thead>\n",
       "  <tbody>\n",
       "    <tr>\n",
       "      <th>0</th>\n",
       "      <td>w1_max_daily_txns</td>\n",
       "      <td>0.930437</td>\n",
       "    </tr>\n",
       "    <tr>\n",
       "      <th>1</th>\n",
       "      <td>Paytm for Business</td>\n",
       "      <td>0.046508</td>\n",
       "    </tr>\n",
       "    <tr>\n",
       "      <th>2</th>\n",
       "      <td>PhonePe Business</td>\n",
       "      <td>0.015646</td>\n",
       "    </tr>\n",
       "    <tr>\n",
       "      <th>6</th>\n",
       "      <td>Amazon Pay for Business</td>\n",
       "      <td>0.002109</td>\n",
       "    </tr>\n",
       "    <tr>\n",
       "      <th>5</th>\n",
       "      <td>Google Pay for Business</td>\n",
       "      <td>0.001977</td>\n",
       "    </tr>\n",
       "    <tr>\n",
       "      <th>4</th>\n",
       "      <td>WhatsApp Business</td>\n",
       "      <td>0.001740</td>\n",
       "    </tr>\n",
       "    <tr>\n",
       "      <th>3</th>\n",
       "      <td>Khatabook</td>\n",
       "      <td>0.001583</td>\n",
       "    </tr>\n",
       "  </tbody>\n",
       "</table>\n",
       "</div>"
      ],
      "text/plain": [
       "                   Varname       Imp\n",
       "0        w1_max_daily_txns  0.930437\n",
       "1       Paytm for Business  0.046508\n",
       "2         PhonePe Business  0.015646\n",
       "6  Amazon Pay for Business  0.002109\n",
       "5  Google Pay for Business  0.001977\n",
       "4        WhatsApp Business  0.001740\n",
       "3                Khatabook  0.001583"
      ]
     },
     "execution_count": 45,
     "metadata": {},
     "output_type": "execute_result"
    }
   ],
   "source": [
    "imp_df = pd.DataFrame({\n",
    "    \"Varname\": X_train.columns,\n",
    "    \"Imp\": clf.feature_importances_\n",
    "})\n",
    "imp_df.sort_values(by=\"Imp\", ascending=False).iloc[:,:]"
   ]
  },
  {
   "cell_type": "code",
   "execution_count": 46,
   "id": "a9c8eb29-e2c5-4c16-b867-f7273e220b5d",
   "metadata": {},
   "outputs": [
    {
     "data": {
      "image/png": "[encoded data removed]",
      "text/plain": [
       "<Figure size 640x480 with 1 Axes>"
      ]
     },
     "metadata": {},
     "output_type": "display_data"
    }
   ],
   "source": [
    "import sklearn.metrics as metrics\n",
    "# calculate the fpr and tpr for all thresholds of the classification\n",
    "\n",
    "preds = clf.predict_proba(X_test)[:,1]\n",
    "fpr, tpr, threshold = metrics.roc_curve(y_test, preds)\n",
    "roc_auc = metrics.auc(fpr, tpr)\n",
    "plt.title('Receiver Operating Characteristic')\n",
    "plt.plot(fpr, tpr, 'b', label = 'AUC = %0.2f' % roc_auc)\n",
    "plt.legend(loc = 'lower right')\n",
    "plt.plot([0, 1], [0, 1],'r--')\n",
    "plt.xlim([0, 1])\n",
    "plt.ylim([0, 1])\n",
    "plt.ylabel('True Positive Rate')\n",
    "plt.xlabel('False Positive Rate')\n",
    "plt.show()"
   ]
  },
  {
   "cell_type": "code",
   "execution_count": 47,
   "id": "ce5ce134-fdf4-4773-9652-11e6f6bfd449",
   "metadata": {},
   "outputs": [],
   "source": [
    "# num_df = data[['merchant_id','w1_max_daily_txns', 'num_business_apps','Active']]\n",
    "num_df = data[['merchant_id','w1_max_daily_txns','Active','Paytm for Business','PhonePe Business','Khatabook',\\\n",
    "              'WhatsApp\\xa0Business','Google Pay for Business','Amazon Pay for Business']]"
   ]
  },
  {
   "cell_type": "code",
   "execution_count": 48,
   "id": "54bf0eaf-e1e2-4637-9615-1c3fc0034641",
   "metadata": {},
   "outputs": [],
   "source": [
    "def num_alt(col):\n",
    "    bins = [-.01,int(num_df[col].describe()['min']),int(num_df[col].describe()['25%']),int(num_df[col].describe()['50%']),\\\n",
    "           int(num_df[col].describe()['75%']),int(num_df[col].describe()['max'])]\n",
    "\n",
    "    num_df[col]=pd.cut(x = num_df[col],bins = bins, duplicates = 'drop')\n",
    "    df = (100*num_df.groupby(col)[\"Active\"].mean()).to_frame().reset_index()\n",
    "    df[col] = df[col].astype('str')\n",
    "    df['Count of Merchants'] = list(num_df.groupby(col)[\"merchant_id\"].count())\n",
    "    \n",
    "    alt.themes.enable('fivethirtyeight')\n",
    "    base = alt.Chart(df).encode(x=alt.X(f'{col}:O',axis=alt.Axis(title=\"\"), sort = bins ))\n",
    "\n",
    "    bar = base.mark_bar(color = 'lightgrey').encode(y=alt.Y('Active:Q',axis=alt.Axis(title=\"Activation %\")))\n",
    "\n",
    "    line =  base.mark_line(color='aqua').encode(\n",
    "        y='Count of Merchants:Q'\n",
    "    )\n",
    "    txt_bar = bar.mark_text(align='center',\n",
    "            baseline='middle',\n",
    "            dy=-6\n",
    "    ).encode(\n",
    "        y=alt.Y('Active:Q',axis=alt.Axis(title=\"\",labels=False,ticks=False)),\n",
    "        text=alt.Text('Active:Q',format='.0f')\n",
    "    )\n",
    "\n",
    "    txt_line = line.mark_text(align='center',\n",
    "            baseline='middle',\n",
    "            dy=-6, angle = 80, color = 'black'\n",
    "    ).encode(\n",
    "        text=alt.Text('Count of Merchants:Q',format='.0f')\n",
    "    )\n",
    "\n",
    "    c = (bar + txt_bar+ line +txt_line).resolve_scale(y='independent').properties(width=170, height = 170, title = f\"{col}\")\n",
    "    return c"
   ]
  },
  {
   "cell_type": "code",
   "execution_count": 49,
   "id": "63a371fd-59dc-4950-961a-31185990fd9d",
   "metadata": {},
   "outputs": [],
   "source": [
    "num1 = num_alt('w1_max_daily_txns')"
   ]
  },
  {
   "cell_type": "code",
   "execution_count": 50,
   "id": "87d9a888-3d76-418b-a664-a45fd2fc8d6e",
   "metadata": {},
   "outputs": [
    {
     "data": {
      "text/html": [
       "\n",
       "<div id=\"altair-viz-f92bc740407146bba8fe0e28dc8df0e8\"></div>\n",
       "<script type=\"text/javascript\">\n",
       "  var VEGA_DEBUG = (typeof VEGA_DEBUG == \"undefined\") ? {} : VEGA_DEBUG;\n",
       "  (function(spec, embedOpt){\n",
       "    let outputDiv = document.currentScript.previousElementSibling;\n",
       "    if (outputDiv.id !== \"altair-viz-f92bc740407146bba8fe0e28dc8df0e8\") {\n",
       "      outputDiv = document.getElementById(\"altair-viz-f92bc740407146bba8fe0e28dc8df0e8\");\n",
       "    }\n",
       "    const paths = {\n",
       "      \"vega\": \"https://cdn.jsdelivr.net/npm//vega@5?noext\",\n",
       "      \"vega-lib\": \"https://cdn.jsdelivr.net/npm//vega-lib?noext\",\n",
       "      \"vega-lite\": \"https://cdn.jsdelivr.net/npm//vega-lite@4.17.0?noext\",\n",
       "      \"vega-embed\": \"https://cdn.jsdelivr.net/npm//vega-embed@6?noext\",\n",
       "    };\n",
       "\n",
       "    function maybeLoadScript(lib, version) {\n",
       "      var key = `${lib.replace(\"-\", \"\")}_version`;\n",
       "      return (VEGA_DEBUG[key] == version) ?\n",
       "        Promise.resolve(paths[lib]) :\n",
       "        new Promise(function(resolve, reject) {\n",
       "          var s = document.createElement('script');\n",
       "          document.getElementsByTagName(\"head\")[0].appendChild(s);\n",
       "          s.async = true;\n",
       "          s.onload = () => {\n",
       "            VEGA_DEBUG[key] = version;\n",
       "            return resolve(paths[lib]);\n",
       "          };\n",
       "          s.onerror = () => reject(`Error loading script: ${paths[lib]}`);\n",
       "          s.src = paths[lib];\n",
       "        });\n",
       "    }\n",
       "\n",
       "    function showError(err) {\n",
       "      outputDiv.innerHTML = `<div class=\"error\" style=\"color:red;\">${err}</div>`;\n",
       "      throw err;\n",
       "    }\n",
       "\n",
       "    function displayChart(vegaEmbed) {\n",
       "      vegaEmbed(outputDiv, spec, embedOpt)\n",
       "        .catch(err => showError(`Javascript Error: ${err.message}<br>This usually means there's a typo in your chart specification. See the javascript console for the full traceback.`));\n",
       "    }\n",
       "\n",
       "    if(typeof define === \"function\" && define.amd) {\n",
       "      requirejs.config({paths});\n",
       "      require([\"vega-embed\"], displayChart, err => showError(`Error loading script: ${err.message}`));\n",
       "    } else {\n",
       "      maybeLoadScript(\"vega\", \"5\")\n",
       "        .then(() => maybeLoadScript(\"vega-lite\", \"4.17.0\"))\n",
       "        .then(() => maybeLoadScript(\"vega-embed\", \"6\"))\n",
       "        .catch(showError)\n",
       "        .then(() => displayChart(vegaEmbed));\n",
       "    }\n",
       "  })({\"usermeta\": {\"embedOptions\": {\"theme\": \"fivethirtyeight\"}}, \"config\": {\"view\": {\"continuousWidth\": 400, \"continuousHeight\": 300}}, \"layer\": [{\"mark\": {\"type\": \"bar\", \"color\": \"lightgrey\"}, \"encoding\": {\"x\": {\"axis\": {\"title\": \"\"}, \"field\": \"w1_max_daily_txns\", \"sort\": [-0.01, 0, 1, 2, 5, 1962], \"type\": \"ordinal\"}, \"y\": {\"axis\": {\"title\": \"Activation %\"}, \"field\": \"Active\", \"type\": \"quantitative\"}}}, {\"mark\": {\"type\": \"text\", \"align\": \"center\", \"baseline\": \"middle\", \"dy\": -6}, \"encoding\": {\"text\": {\"field\": \"Active\", \"format\": \".0f\", \"type\": \"quantitative\"}, \"x\": {\"axis\": {\"title\": \"\"}, \"field\": \"w1_max_daily_txns\", \"sort\": [-0.01, 0, 1, 2, 5, 1962], \"type\": \"ordinal\"}, \"y\": {\"axis\": {\"labels\": false, \"ticks\": false, \"title\": \"\"}, \"field\": \"Active\", \"type\": \"quantitative\"}}}, {\"mark\": {\"type\": \"line\", \"color\": \"aqua\"}, \"encoding\": {\"x\": {\"axis\": {\"title\": \"\"}, \"field\": \"w1_max_daily_txns\", \"sort\": [-0.01, 0, 1, 2, 5, 1962], \"type\": \"ordinal\"}, \"y\": {\"field\": \"Count of Merchants\", \"type\": \"quantitative\"}}}, {\"mark\": {\"type\": \"text\", \"align\": \"center\", \"angle\": 80, \"baseline\": \"middle\", \"color\": \"black\", \"dy\": -6}, \"encoding\": {\"text\": {\"field\": \"Count of Merchants\", \"format\": \".0f\", \"type\": \"quantitative\"}, \"x\": {\"axis\": {\"title\": \"\"}, \"field\": \"w1_max_daily_txns\", \"sort\": [-0.01, 0, 1, 2, 5, 1962], \"type\": \"ordinal\"}, \"y\": {\"field\": \"Count of Merchants\", \"type\": \"quantitative\"}}}], \"data\": {\"name\": \"data-12114c692f32b5dda105faf4708b1b19\"}, \"height\": 300, \"resolve\": {\"scale\": {\"y\": \"independent\"}}, \"title\": \"w1_max_daily_txns\", \"width\": 500, \"$schema\": \"https://vega.github.io/schema/vega-lite/v4.17.0.json\", \"datasets\": {\"data-12114c692f32b5dda105faf4708b1b19\": [{\"w1_max_daily_txns\": \"(-0.01, 0.0]\", \"Active\": 25.555443852417813, \"Count of Merchants\": 9947}, {\"w1_max_daily_txns\": \"(0.0, 1.0]\", \"Active\": 4.275136598069754, \"Count of Merchants\": 97915}, {\"w1_max_daily_txns\": \"(1.0, 2.0]\", \"Active\": 10.575898159521659, \"Count of Merchants\": 98507}, {\"w1_max_daily_txns\": \"(2.0, 5.0]\", \"Active\": 33.300395256917, \"Count of Merchants\": 111320}, {\"w1_max_daily_txns\": \"(5.0, 1962.0]\", \"Active\": 81.25532409200031, \"Count of Merchants\": 77478}]}}, {\"mode\": \"vega-lite\"});\n",
       "</script>"
      ],
      "text/plain": [
       "alt.LayerChart(...)"
      ]
     },
     "execution_count": 50,
     "metadata": {},
     "output_type": "execute_result"
    }
   ],
   "source": [
    "num1.properties(height = 300, width = 500)"
   ]
  },
  {
   "cell_type": "code",
   "execution_count": 51,
   "id": "2336d653-978a-4932-b127-7c0890fabaff",
   "metadata": {},
   "outputs": [],
   "source": [
    "data['prob_active'] = clf.predict_proba(data[['w1_max_daily_txns', 'Paytm for Business', 'PhonePe Business',\n",
    "       'Khatabook', 'WhatsApp\\xa0Business', 'Google Pay for Business',\n",
    "       'Amazon Pay for Business']])[:,1]\n"
   ]
  },
  {
   "cell_type": "code",
   "execution_count": 52,
   "id": "3633a39e-5e00-438d-90c9-85bcb4b950c7",
   "metadata": {},
   "outputs": [
    {
     "data": {
      "text/plain": [
       "nan"
      ]
     },
     "execution_count": 52,
     "metadata": {},
     "output_type": "execute_result"
    }
   ],
   "source": [
    "data[data['prob_active'] > .9]['Active'].mean()"
   ]
  },
  {
   "cell_type": "code",
   "execution_count": 53,
   "id": "d0a8ee2a-e7cf-453e-ae19-196ed958428d",
   "metadata": {},
   "outputs": [
    {
     "data": {
      "text/plain": [
       "0.2965100830787996"
      ]
     },
     "execution_count": 53,
     "metadata": {},
     "output_type": "execute_result"
    }
   ],
   "source": [
    "data[data['prob_active'] > 0]['Active'].mean()"
   ]
  },
  {
   "cell_type": "code",
   "execution_count": 54,
   "id": "df417905-c7ef-47ff-a096-55ccfc9b2d75",
   "metadata": {},
   "outputs": [],
   "source": [
    "data = data.sample(frac = 1)"
   ]
  },
  {
   "cell_type": "code",
   "execution_count": 55,
   "id": "691dd4ed-af36-4816-8fa8-05b63824a559",
   "metadata": {},
   "outputs": [
    {
     "data": {
      "text/plain": [
       "Index(['merchant_id', 'Active', 'w1_max_daily_txns', 'Paytm for Business',\n",
       "       'PhonePe Business', 'Khatabook', 'WhatsApp Business',\n",
       "       'Google Pay for Business', 'Amazon Pay for Business', 'prob_active'],\n",
       "      dtype='object')"
      ]
     },
     "execution_count": 55,
     "metadata": {},
     "output_type": "execute_result"
    }
   ],
   "source": [
    "data.columns"
   ]
  },
  {
   "cell_type": "code",
   "execution_count": 56,
   "id": "700c6c2c-fd12-4e3b-b000-83603c78c565",
   "metadata": {},
   "outputs": [],
   "source": [
    "data.rename(columns = {'Paytm for Business':'Paytm_Business','PhonePe Business':'PhonePe_Business','WhatsApp\\xa0Business':'Whatsapp_Business',\\\n",
    "                      'Google Pay for Business':'GPay_Business','Amazon Pay for Business':'Amazon_Pay_Business'}, inplace = True)"
   ]
  },
  {
   "cell_type": "code",
   "execution_count": 58,
   "id": "da813222-055c-4b45-9e7c-31371e2b63a5",
   "metadata": {},
   "outputs": [
    {
     "name": "stderr",
     "output_type": "stream",
     "text": [
      "100%|██████████| 1/1 [00:00<00:00, 11949.58it/s]\n"
     ]
    }
   ],
   "source": [
    "data.to_gbq(\"bharatpe_ml_data.new_active_merchants\", project_id=\"bharatpe-analytics-prod\",if_exists='replace')"
   ]
  },
  {
   "cell_type": "code",
   "execution_count": 60,
   "id": "476767c6-3d90-4a60-8e2c-3f63e63c9b0b",
   "metadata": {},
   "outputs": [
    {
     "data": {
      "text/plain": [
       "<AxesSubplot:>"
      ]
     },
     "execution_count": 60,
     "metadata": {},
     "output_type": "execute_result"
    },
    {
     "data": {
      "image/png": "[encoded data removed]",
      "text/plain": [
       "<Figure size 640x480 with 1 Axes>"
      ]
     },
     "metadata": {},
     "output_type": "display_data"
    }
   ],
   "source": [
    "data['prob_active'].hist()"
   ]
  },
  {
   "cell_type": "code",
   "execution_count": 61,
   "id": "e7e8957f-b638-47bb-8c0f-970786f3152f",
   "metadata": {},
   "outputs": [],
   "source": [
    "def cat_alt(col):\n",
    "    df = (100*num_df.groupby(col)[\"Active\"].mean()).to_frame().reset_index()\n",
    "    df[col] = df[col].astype('str')\n",
    "    df['Count of Merchants'] = list(num_df.groupby(col)[\"merchant_id\"].count())\n",
    "\n",
    "    alt.themes.enable('fivethirtyeight')\n",
    "    base = alt.Chart(df).encode(x=alt.X(f'{col}:O',axis=alt.Axis(title=\"\")))\n",
    "\n",
    "    bar = base.mark_bar(color = 'lightgrey').encode(y=alt.Y('Active:Q',axis=alt.Axis(title=\"Activation %\")))\n",
    "\n",
    "    line =  base.mark_line(color='aqua').encode(\n",
    "        y='Count of Merchants:Q'\n",
    "    )\n",
    "    txt_bar = bar.mark_text(align='center',\n",
    "            baseline='middle',\n",
    "            dy=-6\n",
    "    ).encode(\n",
    "        y=alt.Y('Active:Q',axis=alt.Axis(title=\"\",labels=False,ticks=False)),\n",
    "        text=alt.Text('Active:Q',format='.0f')\n",
    "    )\n",
    "\n",
    "    txt_line = line.mark_text(align='center',\n",
    "            baseline='middle',\n",
    "            dy=-6, angle = 80, color = 'black'\n",
    "    ).encode(\n",
    "        text=alt.Text('Count of Merchants:Q',format='.0f')\n",
    "    )\n",
    "\n",
    "    c = (bar + txt_bar+ line +txt_line).resolve_scale(y='independent').properties(width=170, height = 170, title = f\"{col}\")\n",
    "\n",
    "    return c"
   ]
  },
  {
   "cell_type": "code",
   "execution_count": 62,
   "id": "a6fee61d-f085-4fc2-b579-dd3ef189f581",
   "metadata": {},
   "outputs": [],
   "source": [
    "cat1 = cat_alt('Paytm for Business')\n",
    "cat2 = cat_alt('PhonePe Business')\n",
    "cat3 = cat_alt('Khatabook')\n",
    "cat4 = cat_alt('WhatsApp\\xa0Business')\n",
    "cat5 = cat_alt('Google Pay for Business')\n",
    "cat6 = cat_alt('Amazon Pay for Business')"
   ]
  },
  {
   "cell_type": "code",
   "execution_count": 63,
   "id": "b36f3bcf-180f-4699-a22b-aca344a6c8f3",
   "metadata": {},
   "outputs": [
    {
     "data": {
      "text/html": [
       "\n",
       "<div id=\"altair-viz-53513498188f46d2832f4674819d96f0\"></div>\n",
       "<script type=\"text/javascript\">\n",
       "  var VEGA_DEBUG = (typeof VEGA_DEBUG == \"undefined\") ? {} : VEGA_DEBUG;\n",
       "  (function(spec, embedOpt){\n",
       "    let outputDiv = document.currentScript.previousElementSibling;\n",
       "    if (outputDiv.id !== \"altair-viz-53513498188f46d2832f4674819d96f0\") {\n",
       "      outputDiv = document.getElementById(\"altair-viz-53513498188f46d2832f4674819d96f0\");\n",
       "    }\n",
       "    const paths = {\n",
       "      \"vega\": \"https://cdn.jsdelivr.net/npm//vega@5?noext\",\n",
       "      \"vega-lib\": \"https://cdn.jsdelivr.net/npm//vega-lib?noext\",\n",
       "      \"vega-lite\": \"https://cdn.jsdelivr.net/npm//vega-lite@4.17.0?noext\",\n",
       "      \"vega-embed\": \"https://cdn.jsdelivr.net/npm//vega-embed@6?noext\",\n",
       "    };\n",
       "\n",
       "    function maybeLoadScript(lib, version) {\n",
       "      var key = `${lib.replace(\"-\", \"\")}_version`;\n",
       "      return (VEGA_DEBUG[key] == version) ?\n",
       "        Promise.resolve(paths[lib]) :\n",
       "        new Promise(function(resolve, reject) {\n",
       "          var s = document.createElement('script');\n",
       "          document.getElementsByTagName(\"head\")[0].appendChild(s);\n",
       "          s.async = true;\n",
       "          s.onload = () => {\n",
       "            VEGA_DEBUG[key] = version;\n",
       "            return resolve(paths[lib]);\n",
       "          };\n",
       "          s.onerror = () => reject(`Error loading script: ${paths[lib]}`);\n",
       "          s.src = paths[lib];\n",
       "        });\n",
       "    }\n",
       "\n",
       "    function showError(err) {\n",
       "      outputDiv.innerHTML = `<div class=\"error\" style=\"color:red;\">${err}</div>`;\n",
       "      throw err;\n",
       "    }\n",
       "\n",
       "    function displayChart(vegaEmbed) {\n",
       "      vegaEmbed(outputDiv, spec, embedOpt)\n",
       "        .catch(err => showError(`Javascript Error: ${err.message}<br>This usually means there's a typo in your chart specification. See the javascript console for the full traceback.`));\n",
       "    }\n",
       "\n",
       "    if(typeof define === \"function\" && define.amd) {\n",
       "      requirejs.config({paths});\n",
       "      require([\"vega-embed\"], displayChart, err => showError(`Error loading script: ${err.message}`));\n",
       "    } else {\n",
       "      maybeLoadScript(\"vega\", \"5\")\n",
       "        .then(() => maybeLoadScript(\"vega-lite\", \"4.17.0\"))\n",
       "        .then(() => maybeLoadScript(\"vega-embed\", \"6\"))\n",
       "        .catch(showError)\n",
       "        .then(() => displayChart(vegaEmbed));\n",
       "    }\n",
       "  })({\"usermeta\": {\"embedOptions\": {\"theme\": \"fivethirtyeight\"}}, \"config\": {\"view\": {\"continuousWidth\": 400, \"continuousHeight\": 300}}, \"vconcat\": [{\"hconcat\": [{\"layer\": [{\"mark\": {\"type\": \"bar\", \"color\": \"lightgrey\"}, \"encoding\": {\"x\": {\"axis\": {\"title\": \"\"}, \"field\": \"Paytm for Business\", \"type\": \"ordinal\"}, \"y\": {\"axis\": {\"title\": \"Activation %\"}, \"field\": \"Active\", \"type\": \"quantitative\"}}}, {\"mark\": {\"type\": \"text\", \"align\": \"center\", \"baseline\": \"middle\", \"dy\": -6}, \"encoding\": {\"text\": {\"field\": \"Active\", \"format\": \".0f\", \"type\": \"quantitative\"}, \"x\": {\"axis\": {\"title\": \"\"}, \"field\": \"Paytm for Business\", \"type\": \"ordinal\"}, \"y\": {\"axis\": {\"labels\": false, \"ticks\": false, \"title\": \"\"}, \"field\": \"Active\", \"type\": \"quantitative\"}}}, {\"mark\": {\"type\": \"line\", \"color\": \"aqua\"}, \"encoding\": {\"x\": {\"axis\": {\"title\": \"\"}, \"field\": \"Paytm for Business\", \"type\": \"ordinal\"}, \"y\": {\"field\": \"Count of Merchants\", \"type\": \"quantitative\"}}}, {\"mark\": {\"type\": \"text\", \"align\": \"center\", \"angle\": 80, \"baseline\": \"middle\", \"color\": \"black\", \"dy\": -6}, \"encoding\": {\"text\": {\"field\": \"Count of Merchants\", \"format\": \".0f\", \"type\": \"quantitative\"}, \"x\": {\"axis\": {\"title\": \"\"}, \"field\": \"Paytm for Business\", \"type\": \"ordinal\"}, \"y\": {\"field\": \"Count of Merchants\", \"type\": \"quantitative\"}}}], \"data\": {\"name\": \"data-35aa21badef39df8f3bee50bfda5a84b\"}, \"height\": 170, \"resolve\": {\"scale\": {\"y\": \"independent\"}}, \"title\": \"Paytm for Business\", \"width\": 170}, {\"layer\": [{\"mark\": {\"type\": \"bar\", \"color\": \"lightgrey\"}, \"encoding\": {\"x\": {\"axis\": {\"title\": \"\"}, \"field\": \"PhonePe Business\", \"type\": \"ordinal\"}, \"y\": {\"axis\": {\"title\": \"Activation %\"}, \"field\": \"Active\", \"type\": \"quantitative\"}}}, {\"mark\": {\"type\": \"text\", \"align\": \"center\", \"baseline\": \"middle\", \"dy\": -6}, \"encoding\": {\"text\": {\"field\": \"Active\", \"format\": \".0f\", \"type\": \"quantitative\"}, \"x\": {\"axis\": {\"title\": \"\"}, \"field\": \"PhonePe Business\", \"type\": \"ordinal\"}, \"y\": {\"axis\": {\"labels\": false, \"ticks\": false, \"title\": \"\"}, \"field\": \"Active\", \"type\": \"quantitative\"}}}, {\"mark\": {\"type\": \"line\", \"color\": \"aqua\"}, \"encoding\": {\"x\": {\"axis\": {\"title\": \"\"}, \"field\": \"PhonePe Business\", \"type\": \"ordinal\"}, \"y\": {\"field\": \"Count of Merchants\", \"type\": \"quantitative\"}}}, {\"mark\": {\"type\": \"text\", \"align\": \"center\", \"angle\": 80, \"baseline\": \"middle\", \"color\": \"black\", \"dy\": -6}, \"encoding\": {\"text\": {\"field\": \"Count of Merchants\", \"format\": \".0f\", \"type\": \"quantitative\"}, \"x\": {\"axis\": {\"title\": \"\"}, \"field\": \"PhonePe Business\", \"type\": \"ordinal\"}, \"y\": {\"field\": \"Count of Merchants\", \"type\": \"quantitative\"}}}], \"data\": {\"name\": \"data-dcfd6003a972328a94e1b878dd998424\"}, \"height\": 170, \"resolve\": {\"scale\": {\"y\": \"independent\"}}, \"title\": \"PhonePe Business\", \"width\": 170}, {\"layer\": [{\"mark\": {\"type\": \"bar\", \"color\": \"lightgrey\"}, \"encoding\": {\"x\": {\"axis\": {\"title\": \"\"}, \"field\": \"Khatabook\", \"type\": \"ordinal\"}, \"y\": {\"axis\": {\"title\": \"Activation %\"}, \"field\": \"Active\", \"type\": \"quantitative\"}}}, {\"mark\": {\"type\": \"text\", \"align\": \"center\", \"baseline\": \"middle\", \"dy\": -6}, \"encoding\": {\"text\": {\"field\": \"Active\", \"format\": \".0f\", \"type\": \"quantitative\"}, \"x\": {\"axis\": {\"title\": \"\"}, \"field\": \"Khatabook\", \"type\": \"ordinal\"}, \"y\": {\"axis\": {\"labels\": false, \"ticks\": false, \"title\": \"\"}, \"field\": \"Active\", \"type\": \"quantitative\"}}}, {\"mark\": {\"type\": \"line\", \"color\": \"aqua\"}, \"encoding\": {\"x\": {\"axis\": {\"title\": \"\"}, \"field\": \"Khatabook\", \"type\": \"ordinal\"}, \"y\": {\"field\": \"Count of Merchants\", \"type\": \"quantitative\"}}}, {\"mark\": {\"type\": \"text\", \"align\": \"center\", \"angle\": 80, \"baseline\": \"middle\", \"color\": \"black\", \"dy\": -6}, \"encoding\": {\"text\": {\"field\": \"Count of Merchants\", \"format\": \".0f\", \"type\": \"quantitative\"}, \"x\": {\"axis\": {\"title\": \"\"}, \"field\": \"Khatabook\", \"type\": \"ordinal\"}, \"y\": {\"field\": \"Count of Merchants\", \"type\": \"quantitative\"}}}], \"data\": {\"name\": \"data-e50a7c1d1818f1bd0aab73f43674fc2a\"}, \"height\": 170, \"resolve\": {\"scale\": {\"y\": \"independent\"}}, \"title\": \"Khatabook\", \"width\": 170}]}, {\"hconcat\": [{\"layer\": [{\"mark\": {\"type\": \"bar\", \"color\": \"lightgrey\"}, \"encoding\": {\"x\": {\"axis\": {\"title\": \"\"}, \"field\": \"WhatsApp\\u00a0Business\", \"type\": \"ordinal\"}, \"y\": {\"axis\": {\"title\": \"Activation %\"}, \"field\": \"Active\", \"type\": \"quantitative\"}}}, {\"mark\": {\"type\": \"text\", \"align\": \"center\", \"baseline\": \"middle\", \"dy\": -6}, \"encoding\": {\"text\": {\"field\": \"Active\", \"format\": \".0f\", \"type\": \"quantitative\"}, \"x\": {\"axis\": {\"title\": \"\"}, \"field\": \"WhatsApp\\u00a0Business\", \"type\": \"ordinal\"}, \"y\": {\"axis\": {\"labels\": false, \"ticks\": false, \"title\": \"\"}, \"field\": \"Active\", \"type\": \"quantitative\"}}}, {\"mark\": {\"type\": \"line\", \"color\": \"aqua\"}, \"encoding\": {\"x\": {\"axis\": {\"title\": \"\"}, \"field\": \"WhatsApp\\u00a0Business\", \"type\": \"ordinal\"}, \"y\": {\"field\": \"Count of Merchants\", \"type\": \"quantitative\"}}}, {\"mark\": {\"type\": \"text\", \"align\": \"center\", \"angle\": 80, \"baseline\": \"middle\", \"color\": \"black\", \"dy\": -6}, \"encoding\": {\"text\": {\"field\": \"Count of Merchants\", \"format\": \".0f\", \"type\": \"quantitative\"}, \"x\": {\"axis\": {\"title\": \"\"}, \"field\": \"WhatsApp\\u00a0Business\", \"type\": \"ordinal\"}, \"y\": {\"field\": \"Count of Merchants\", \"type\": \"quantitative\"}}}], \"data\": {\"name\": \"data-c519b12a48a0a99f8334164bbc256cb2\"}, \"height\": 170, \"resolve\": {\"scale\": {\"y\": \"independent\"}}, \"title\": \"WhatsApp\\u00a0Business\", \"width\": 170}, {\"layer\": [{\"mark\": {\"type\": \"bar\", \"color\": \"lightgrey\"}, \"encoding\": {\"x\": {\"axis\": {\"title\": \"\"}, \"field\": \"Google Pay for Business\", \"type\": \"ordinal\"}, \"y\": {\"axis\": {\"title\": \"Activation %\"}, \"field\": \"Active\", \"type\": \"quantitative\"}}}, {\"mark\": {\"type\": \"text\", \"align\": \"center\", \"baseline\": \"middle\", \"dy\": -6}, \"encoding\": {\"text\": {\"field\": \"Active\", \"format\": \".0f\", \"type\": \"quantitative\"}, \"x\": {\"axis\": {\"title\": \"\"}, \"field\": \"Google Pay for Business\", \"type\": \"ordinal\"}, \"y\": {\"axis\": {\"labels\": false, \"ticks\": false, \"title\": \"\"}, \"field\": \"Active\", \"type\": \"quantitative\"}}}, {\"mark\": {\"type\": \"line\", \"color\": \"aqua\"}, \"encoding\": {\"x\": {\"axis\": {\"title\": \"\"}, \"field\": \"Google Pay for Business\", \"type\": \"ordinal\"}, \"y\": {\"field\": \"Count of Merchants\", \"type\": \"quantitative\"}}}, {\"mark\": {\"type\": \"text\", \"align\": \"center\", \"angle\": 80, \"baseline\": \"middle\", \"color\": \"black\", \"dy\": -6}, \"encoding\": {\"text\": {\"field\": \"Count of Merchants\", \"format\": \".0f\", \"type\": \"quantitative\"}, \"x\": {\"axis\": {\"title\": \"\"}, \"field\": \"Google Pay for Business\", \"type\": \"ordinal\"}, \"y\": {\"field\": \"Count of Merchants\", \"type\": \"quantitative\"}}}], \"data\": {\"name\": \"data-c7d6f9cd92fb3db2f5257977727c2050\"}, \"height\": 170, \"resolve\": {\"scale\": {\"y\": \"independent\"}}, \"title\": \"Google Pay for Business\", \"width\": 170}, {\"layer\": [{\"mark\": {\"type\": \"bar\", \"color\": \"lightgrey\"}, \"encoding\": {\"x\": {\"axis\": {\"title\": \"\"}, \"field\": \"Amazon Pay for Business\", \"type\": \"ordinal\"}, \"y\": {\"axis\": {\"title\": \"Activation %\"}, \"field\": \"Active\", \"type\": \"quantitative\"}}}, {\"mark\": {\"type\": \"text\", \"align\": \"center\", \"baseline\": \"middle\", \"dy\": -6}, \"encoding\": {\"text\": {\"field\": \"Active\", \"format\": \".0f\", \"type\": \"quantitative\"}, \"x\": {\"axis\": {\"title\": \"\"}, \"field\": \"Amazon Pay for Business\", \"type\": \"ordinal\"}, \"y\": {\"axis\": {\"labels\": false, \"ticks\": false, \"title\": \"\"}, \"field\": \"Active\", \"type\": \"quantitative\"}}}, {\"mark\": {\"type\": \"line\", \"color\": \"aqua\"}, \"encoding\": {\"x\": {\"axis\": {\"title\": \"\"}, \"field\": \"Amazon Pay for Business\", \"type\": \"ordinal\"}, \"y\": {\"field\": \"Count of Merchants\", \"type\": \"quantitative\"}}}, {\"mark\": {\"type\": \"text\", \"align\": \"center\", \"angle\": 80, \"baseline\": \"middle\", \"color\": \"black\", \"dy\": -6}, \"encoding\": {\"text\": {\"field\": \"Count of Merchants\", \"format\": \".0f\", \"type\": \"quantitative\"}, \"x\": {\"axis\": {\"title\": \"\"}, \"field\": \"Amazon Pay for Business\", \"type\": \"ordinal\"}, \"y\": {\"field\": \"Count of Merchants\", \"type\": \"quantitative\"}}}], \"data\": {\"name\": \"data-c16e4daf6fa290ab601ec0e8494dfad9\"}, \"height\": 170, \"resolve\": {\"scale\": {\"y\": \"independent\"}}, \"title\": \"Amazon Pay for Business\", \"width\": 170}]}], \"$schema\": \"https://vega.github.io/schema/vega-lite/v4.17.0.json\", \"datasets\": {\"data-35aa21badef39df8f3bee50bfda5a84b\": [{\"Paytm for Business\": \"0\", \"Active\": 27.65916394836329, \"Count of Merchants\": 331702}, {\"Paytm for Business\": \"1\", \"Active\": 40.061451193571266, \"Count of Merchants\": 63465}], \"data-dcfd6003a972328a94e1b878dd998424\": [{\"PhonePe Business\": \"0\", \"Active\": 27.246360625298845, \"Count of Merchants\": 286519}, {\"PhonePe Business\": \"1\", \"Active\": 35.99237905897946, \"Count of Merchants\": 108648}], \"data-e50a7c1d1818f1bd0aab73f43674fc2a\": [{\"Khatabook\": \"0\", \"Active\": 29.30662049633111, \"Count of Merchants\": 363870}, {\"Khatabook\": \"1\", \"Active\": 33.654982905709815, \"Count of Merchants\": 31297}], \"data-c519b12a48a0a99f8334164bbc256cb2\": [{\"WhatsApp\\u00a0Business\": \"0\", \"Active\": 29.79925693018888, \"Count of Merchants\": 315179}, {\"WhatsApp\\u00a0Business\": \"1\", \"Active\": 29.06686002900435, \"Count of Merchants\": 79988}], \"data-c7d6f9cd92fb3db2f5257977727c2050\": [{\"Google Pay for Business\": \"0\", \"Active\": 29.07229052091654, \"Count of Merchants\": 326751}, {\"Google Pay for Business\": \"1\", \"Active\": 32.414932179607106, \"Count of Merchants\": 68416}], \"data-c16e4daf6fa290ab601ec0e8494dfad9\": [{\"Amazon Pay for Business\": \"0\", \"Active\": 29.51374464515822, \"Count of Merchants\": 377929}, {\"Amazon Pay for Business\": \"1\", \"Active\": 32.66040143868198, \"Count of Merchants\": 17238}]}}, {\"mode\": \"vega-lite\"});\n",
       "</script>"
      ],
      "text/plain": [
       "alt.VConcatChart(...)"
      ]
     },
     "execution_count": 63,
     "metadata": {},
     "output_type": "execute_result"
    }
   ],
   "source": [
    "(cat1| cat2| cat3) & (cat4| cat5| cat6)"
   ]
  }
 ],
 "metadata": {
  "environment": {
   "kernel": "python3",
   "name": "common-cpu.m98",
   "type": "gcloud",
   "uri": "gcr.io/deeplearning-platform-release/base-cpu:m98"
  },
  "kernelspec": {
   "display_name": "Python 3",
   "language": "python",
   "name": "python3"
  },
  "language_info": {
   "codemirror_mode": {
    "name": "ipython",
    "version": 3
   },
   "file_extension": ".py",
   "mimetype": "text/x-python",
   "name": "python",
   "nbconvert_exporter": "python",
   "pygments_lexer": "ipython3",
   "version": "3.7.12"
  }
 },
 "nbformat": 4,
 "nbformat_minor": 5
}
