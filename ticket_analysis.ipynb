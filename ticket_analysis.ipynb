{
 "cells": [
  {
   "cell_type": "code",
   "execution_count": 1,
   "id": "eaec0bef-e52a-40d6-9c2f-4bb76d69bab5",
   "metadata": {},
   "outputs": [],
   "source": [
    "import pandas as pd\n",
    "import numpy as np\n",
    "import pandas_gbq\n",
    "import os.path\n",
    "from pandas.io.json import json_normalize\n",
    "from datetime import datetime\n",
    "pd.options.display.max_columns = None\n",
    "import altair as alt\n",
    "import warnings\n",
    "warnings.filterwarnings(\"ignore\")\n",
    "import matplotlib.pyplot as plt\n",
    "import random"
   ]
  },
  {
   "cell_type": "code",
   "execution_count": 2,
   "id": "eec770ba-210a-40c4-a377-68063e11a911",
   "metadata": {},
   "outputs": [],
   "source": [
    "# tickets = \"\"\"\n",
    "# WITH\n",
    "#   recent_merchants AS (\n",
    "#   SELECT\n",
    "#     merchant_id,\n",
    "#     date(merchant_created_at) onboarding\n",
    "# from\n",
    "#     `bharatpe-analytics-prod.bharatpe_data_platfrom.universal_merchant_data_mart`\n",
    "\n",
    "#   WHERE\n",
    "\n",
    "# DATE(merchant_created_at) >= DATE_SUB(CURRENT_DATE(), INTERVAL 60 DAY)\n",
    "\n",
    "# ),\n",
    "\n",
    "# ticket as (\n",
    "# SELECT\n",
    "#   t.merchant_id,\n",
    "#   rm.onboarding,\n",
    "#   t.type,\n",
    "#   date(t.created_at) ticket_created,\n",
    "#   count(t.id) as tickets\n",
    "\n",
    "# FROM\n",
    "#   `bharatpe-analytics-prod.bharatpe_analytics_data.fw_tickets` t\n",
    "# inner join recent_merchants rm\n",
    "# on rm.merchant_id = t.merchant_id\n",
    "# WHERE\n",
    "#   DATE(t.created_at) >= DATE_SUB(CURRENT_DATE(), INTERVAL 60 DAY) \n",
    "# group by 1,2,3,4),\n",
    "\n",
    "# final as (\n",
    "\n",
    "# select merchant_id,onboarding, type, ticket_created, tickets, \n",
    "# case when ticket_created >= onboarding and ticket_created < DATE_SUB(onboarding, INTERVAL -3 DAY) then tickets else 0 end as d3_tickets,\n",
    "# case when ticket_created >= DATE_SUB(onboarding, INTERVAL -3 DAY) and ticket_created < DATE_SUB(onboarding, INTERVAL -7 DAY) then tickets else 0 end as d7_tickets,\n",
    "# case when ticket_created >= DATE_SUB(onboarding, INTERVAL -7 DAY) and ticket_created < DATE_SUB(onboarding, INTERVAL -14 DAY) then tickets else 0 end as d14_tickets,\n",
    "# case when ticket_created >= DATE_SUB(onboarding, INTERVAL -14 DAY) and ticket_created < DATE_SUB(onboarding, INTERVAL -21 DAY) then tickets else 0 end as d21_tickets,\n",
    "# case when ticket_created >= DATE_SUB(onboarding, INTERVAL -21 DAY) and ticket_created < DATE_SUB(onboarding, INTERVAL -30 DAY) then tickets else 0 end as d30_tickets,\n",
    "# case when ticket_created >= DATE_SUB(onboarding, INTERVAL -30 DAY) and ticket_created < DATE_SUB(onboarding, INTERVAL -60 DAY) then tickets else 0 end as d60_tickets\n",
    "# from ticket\n",
    "# )\n",
    "\n",
    "# select type,\n",
    "# sum(d3_tickets) d3,\n",
    "# sum(d7_tickets) d7,\n",
    "# sum(d14_tickets) d14,\n",
    "# sum(d21_tickets) d21,\n",
    "# sum(d30_tickets) d30,\n",
    "# sum(d60_tickets) d60\n",
    "\n",
    "# from final\n",
    "# group by 1\n",
    "\n",
    "# \"\"\""
   ]
  },
  {
   "cell_type": "code",
   "execution_count": 3,
   "id": "d9e9c9c6-a848-4f35-8058-4db37dfdc121",
   "metadata": {},
   "outputs": [],
   "source": [
    "tickets = \"\"\"\n",
    "WITH\n",
    "  recent_merchants AS (\n",
    "  SELECT\n",
    "    merchant_id,\n",
    "    date(merchant_created_at) onboarding\n",
    "from\n",
    "    `bharatpe-analytics-prod.bharatpe_data_platfrom.universal_merchant_data_mart`\n",
    "\n",
    "  WHERE\n",
    "\n",
    "DATE(merchant_created_at) >= DATE_SUB(CURRENT_DATE(), INTERVAL 60 DAY)\n",
    "\n",
    "),\n",
    "\n",
    "ticket as (\n",
    "SELECT\n",
    "  t.merchant_id,\n",
    "  rm.onboarding,\n",
    "  t.type,\n",
    "  date(t.created_at) ticket_created,\n",
    "  count(t.id) as tickets\n",
    "\n",
    "FROM\n",
    "  `bharatpe-analytics-prod.bharatpe_analytics_data.fw_tickets` t\n",
    "inner join recent_merchants rm\n",
    "on rm.merchant_id = t.merchant_id\n",
    "WHERE\n",
    "  DATE(t.created_at) >= DATE_SUB(CURRENT_DATE(), INTERVAL 60 DAY) \n",
    "group by 1,2,3,4),\n",
    "\n",
    "final as (\n",
    "\n",
    "select merchant_id,onboarding, type, ticket_created, tickets, \n",
    "case when ticket_created >= onboarding and ticket_created < DATE_SUB(onboarding, INTERVAL -7 DAY) then tickets else 0 end as day07_tickets,\n",
    "case when ticket_created >= DATE_SUB(onboarding, INTERVAL -7 DAY) and ticket_created < DATE_SUB(onboarding, INTERVAL -14 DAY) then tickets else 0 end as day14_tickets,\n",
    "case when ticket_created >= DATE_SUB(onboarding, INTERVAL -14 DAY) and ticket_created < DATE_SUB(onboarding, INTERVAL -30 DAY) then tickets else 0 end as day30_tickets,\n",
    "case when ticket_created >= DATE_SUB(onboarding, INTERVAL -30 DAY) and ticket_created < DATE_SUB(onboarding, INTERVAL -60 DAY) then tickets else 0 end as day60_tickets,\n",
    "from ticket\n",
    ")\n",
    "\n",
    "select type,\n",
    "\n",
    "sum(day07_tickets) day_07,\n",
    "sum(day14_tickets) day_14,\n",
    "sum(day30_tickets) day_30,\n",
    "sum(day60_tickets) day_60\n",
    "\n",
    "from final\n",
    "group by 1\n",
    "\n",
    "\"\"\""
   ]
  },
  {
   "cell_type": "code",
   "execution_count": 4,
   "id": "aee20b1c-fb05-402a-88e6-627aa8b546a8",
   "metadata": {},
   "outputs": [
    {
     "name": "stderr",
     "output_type": "stream",
     "text": [
      "Downloading: 100%|██████████| 318/318 [00:00<00:00, 2488.64rows/s]\n"
     ]
    }
   ],
   "source": [
    "tickets = pandas_gbq.read_gbq(tickets)"
   ]
  },
  {
   "cell_type": "code",
   "execution_count": 5,
   "id": "dbd6930c-9c13-4de5-9fb0-45e96f155ced",
   "metadata": {},
   "outputs": [],
   "source": [
    "new_merchants = \"\"\"\n",
    "WITH\n",
    "  recent_merchants AS (\n",
    "  SELECT\n",
    "    pt.merchant_id,\n",
    "    COUNT(DISTINCT id) AS txns,\n",
    "    cast(SUM(amount) as int) AS tpv\n",
    "  FROM\n",
    "    bharatpe-analytics-prod.payin.transactions pt\n",
    "  JOIN\n",
    "    `bharatpe-analytics-prod.bharatpe_data_platfrom.universal_merchant_data_mart` dm\n",
    "  ON\n",
    "    pt.merchant_id = dm.merchant_id\n",
    "  WHERE\n",
    "    status = \"SUCCESS\"\n",
    "    AND DATE(dm.merchant_created_at) >= DATE_SUB(CURRENT_DATE(), INTERVAL 60 DAY)\n",
    "    AND DATE(payment_timestamp) >= DATE_SUB(CURRENT_DATE(), INTERVAL 30 DAY)\n",
    "  GROUP BY\n",
    "    1\n",
    ")\n",
    "\n",
    "select * from recent_merchants\n",
    "\n",
    "\"\"\""
   ]
  },
  {
   "cell_type": "code",
   "execution_count": 6,
   "id": "ebfe34f2-8a28-46af-afa0-67f5cf0192d3",
   "metadata": {},
   "outputs": [
    {
     "name": "stderr",
     "output_type": "stream",
     "text": [
      "Downloading: 100%|██████████| 567610/567610 [00:10<00:00, 52801.80rows/s]\n"
     ]
    }
   ],
   "source": [
    "new_merchants = pandas_gbq.read_gbq(new_merchants)"
   ]
  },
  {
   "cell_type": "code",
   "execution_count": 7,
   "id": "5dd9fd4d-7986-47b3-84b5-eac742d752ae",
   "metadata": {},
   "outputs": [],
   "source": [
    "c1 = new_merchants['tpv'] >= 500\n",
    "c2 = new_merchants['txns'] >= 15\n",
    "c = c1 & c2\n",
    "new_merchants['Active'] = np.where(c, 1, 0)"
   ]
  },
  {
   "cell_type": "code",
   "execution_count": 8,
   "id": "196e7eff-aa85-4d1b-9b1d-debce31da5be",
   "metadata": {},
   "outputs": [],
   "source": [
    "mer_type = \"\"\"\n",
    "with mer_type as (\n",
    "SELECT\n",
    "  merchant_id,\n",
    "  type\n",
    "\n",
    "FROM\n",
    "  `bharatpe-analytics-prod.bharatpe_analytics_data.fw_tickets` \n",
    "\n",
    "WHERE\n",
    "  DATE(created_at) >= DATE_SUB(CURRENT_DATE(), INTERVAL 60 DAY) \n",
    "  and merchant_id is not null\n",
    "  order by merchant_id desc\n",
    ")\n",
    "\n",
    "select * from mer_type\n",
    "\"\"\""
   ]
  },
  {
   "cell_type": "code",
   "execution_count": 9,
   "id": "116ac8b0-8e97-449c-aa10-de2e236d538a",
   "metadata": {},
   "outputs": [
    {
     "name": "stderr",
     "output_type": "stream",
     "text": [
      "Downloading: 100%|██████████| 857492/857492 [00:14<00:00, 58545.88rows/s]\n"
     ]
    }
   ],
   "source": [
    "mer_type = pandas_gbq.read_gbq(mer_type)"
   ]
  },
  {
   "cell_type": "code",
   "execution_count": 10,
   "id": "52fb7cbf-69ea-4c37-aa7d-681c4e8ad333",
   "metadata": {},
   "outputs": [],
   "source": [
    "act_dic = new_merchants.set_index('merchant_id')['Active'].to_dict()"
   ]
  },
  {
   "cell_type": "code",
   "execution_count": 11,
   "id": "991348d9-0ce2-4941-8291-0b7fb7720e91",
   "metadata": {},
   "outputs": [],
   "source": [
    "mer_type['Active'] = mer_type['merchant_id'].map(act_dic)"
   ]
  },
  {
   "cell_type": "code",
   "execution_count": 12,
   "id": "48dbff8b-a3e3-40e8-8964-07cc54832fb1",
   "metadata": {},
   "outputs": [],
   "source": [
    "# ticket = pd.melt(tickets, id_vars =['type'], value_vars =['d3','d7','d14','d21','d30','d60'],\n",
    "#               var_name ='Vintage', value_name ='Value')\n",
    "ticket = pd.melt(tickets, id_vars =['type'], value_vars =['day_07','day_14','day_30','day_60'],\n",
    "              var_name ='Vintage', value_name ='Value')"
   ]
  },
  {
   "cell_type": "code",
   "execution_count": 13,
   "id": "1f2b988d-1a9f-4523-ac60-064942d3b610",
   "metadata": {},
   "outputs": [],
   "source": [
    "top_type = list(ticket.groupby(['type'])['Value'].sum().sort_values(ascending = False)[:20].index)"
   ]
  },
  {
   "cell_type": "code",
   "execution_count": 14,
   "id": "97697c8c-c256-4f4f-8888-df3d69f6e452",
   "metadata": {},
   "outputs": [],
   "source": [
    "type_act = pd.DataFrame(100*mer_type[mer_type['type'].isin(top_type)].groupby('type')['Active'].mean()).reset_index()"
   ]
  },
  {
   "cell_type": "code",
   "execution_count": 15,
   "id": "a170ac0c-6aa0-4112-850d-3ab8070b7157",
   "metadata": {},
   "outputs": [],
   "source": [
    "mer_type = mer_type[mer_type['merchant_id'].isin(new_merchants['merchant_id'])]"
   ]
  },
  {
   "cell_type": "code",
   "execution_count": 16,
   "id": "50f37b15-1966-4d8c-b4fd-f0ae2dddd52a",
   "metadata": {},
   "outputs": [],
   "source": [
    "ticket = ticket[ticket['type'].isin(top_type)]"
   ]
  },
  {
   "cell_type": "code",
   "execution_count": 17,
   "id": "2575f3e6-5a16-401b-a5c8-b9c4cc2ef24a",
   "metadata": {},
   "outputs": [],
   "source": [
    "tot_types = ['Voice notification not working No sound at all - Speaker',\n",
    " 'BharatPe Card Application on Hold',\n",
    " 'Other Complaint',\n",
    " 'Return Request - Speaker',\n",
    " 'Unable to do KYC',\n",
    " 'Information about BharaPe Loan',\n",
    " 'Settlement Status- Block',\n",
    " 'Settlement Status -Pending',\n",
    " 'Info -Features and Charges of Bharatswipe (New Machine)',\n",
    " 'Speaker not delivered Within TAT',\n",
    " 'Book A Return',\n",
    " 'Incomplete call',\n",
    " 'How to Order Physical QR code',\n",
    " 'New App - Features & Benefits',\n",
    " 'Info - Status of Application',\n",
    " 'Status of Withdrawal',\n",
    " 'Status of Withdrawal - Pending / Failed',\n",
    " 'Speaker Delivered But Showing Ordered on CRM',\n",
    " 'Language Barrier',\n",
    " 'Interest amount calculation',\n",
    " 'Information on Settings/Usage - Speaker Active',\n",
    " 'Need Information about Charges applied',\n",
    " 'Not able to see any transactions in the app',\n",
    " 'Information on withdrawal',\n",
    " 'Enquiry about another number',\n",
    " 'Transfer Success but not reflecting in Bank',\n",
    " 'Information about Eligibility Criteria',\n",
    " 'Set Up Information',\n",
    " 'Reason for Ineligible',\n",
    " 'Other',\n",
    " 'Blank Call',\n",
    " 'Speaker not delivered Beyond TAT',\n",
    " 'Speaker - Application/Profile Download failed',\n",
    " 'Reason for Rejection/ Expiry',\n",
    " 'Overall features of BharatPe Speaker']"
   ]
  },
  {
   "cell_type": "code",
   "execution_count": 18,
   "id": "109d6ac6-1f63-4ba4-b068-39046f6923ef",
   "metadata": {},
   "outputs": [],
   "source": [
    "color = ['#D1FBEF',\n",
    " '#75AD66',\n",
    " '#5F11D9',\n",
    " '#119DBA',\n",
    " '#96C35F',\n",
    " '#46F2ED',\n",
    " '#E28D81',\n",
    " '#16D3B4',\n",
    " '#246217',\n",
    " '#BCCB51',\n",
    " '#260B10',\n",
    " '#D38AF6',\n",
    " '#1A5B48',\n",
    " '#D795B6',\n",
    " '#CE8BD2',\n",
    " '#70FC9B',\n",
    " '#C3A378',\n",
    " '#97133A',\n",
    " '#EDBB8C',\n",
    " '#E63B55',\n",
    " '#2EE284',\n",
    " '#DE5136',\n",
    " '#71407C',\n",
    " '#DFA6ED',\n",
    " '#4DF874',\n",
    " '#6EF4BC',\n",
    " '#6FF85C',\n",
    " '#CACBE7',\n",
    " '#90BD1A',\n",
    " '#62E9A7',\n",
    " '#681FB4',\n",
    " '#81FBE7',\n",
    " '#5650BF',\n",
    " '#4CBD96',\n",
    " '#D79E45']"
   ]
  },
  {
   "cell_type": "code",
   "execution_count": 19,
   "id": "912f9c31-4f53-4c5f-bd59-ebefed8b3ca8",
   "metadata": {},
   "outputs": [],
   "source": [
    "color_scale = alt.Scale(\n",
    "    domain=tot_types,\n",
    "    range=color,\n",
    ")"
   ]
  },
  {
   "cell_type": "code",
   "execution_count": 31,
   "id": "27f0c8ec-42ef-4bc8-87df-61ec04894ff1",
   "metadata": {},
   "outputs": [],
   "source": [
    "def chart(fil):\n",
    "    # fil = \"d3\"\n",
    "    alt.themes.enable('fivethirtyeight')\n",
    "    d3_type = list(ticket[ticket['Vintage'] == fil].groupby('type')['Value'].sum().sort_values(ascending = False).index[:20])\n",
    "    base = alt.Chart(ticket[ticket['Vintage'] == fil], title = f\"Top Issues till Day {fil[4:]}\").encode(y=alt.Y('type:N',axis=alt.Axis(title=\"\"), sort = \"-x\",stack='normalize'),\n",
    "                                 tooltip = ['type'], color=alt.Color(\"type:N\", scale=color_scale, legend = None)).transform_window(\n",
    "        rank='rank(Value)',\n",
    "        sort=[alt.SortField('Value', order='descending')]\n",
    "    ).transform_filter(\n",
    "        (alt.datum.rank < 20)\n",
    "    )\n",
    "\n",
    "    bar = base.mark_bar(color = 'lightgrey').encode(x=alt.X('Value:Q',axis=alt.Axis(title=\"Issue Count\")))\n",
    "\n",
    "    txt_bar = bar.mark_text(align='left',\n",
    "            baseline='middle',angle = 0\n",
    "    ).encode(\n",
    "        x=alt.X('Value:Q',axis=alt.Axis(title=\"\",labels=False,ticks=True)),\n",
    "        text=alt.Text('Value:Q',format='1.0d')\n",
    "    )\n",
    "\n",
    "    d3 = (bar + txt_bar).properties(height = 500, width = 45)\n",
    "    return d3, d3_type"
   ]
  },
  {
   "cell_type": "code",
   "execution_count": 32,
   "id": "90d3e5a7-dff4-4384-8643-32d17e2a8be3",
   "metadata": {},
   "outputs": [],
   "source": [
    "# d3 = chart('d3')[0]\n",
    "d7 = chart('day_07')[0]\n",
    "d14 = chart('day_14')[0]\n",
    "# d21 = chart('d21')[0]\n",
    "d30 = chart('day_30')[0]\n",
    "d60 = chart('day_60')[0]"
   ]
  },
  {
   "cell_type": "code",
   "execution_count": 33,
   "id": "a44a85f3-11b1-48df-9ed8-e4aefe4652b1",
   "metadata": {},
   "outputs": [
    {
     "data": {
      "text/html": [
       "\n",
       "<div id=\"altair-viz-3a143cd65d6c4a1aa19e982ec12198cb\"></div>\n",
       "<script type=\"text/javascript\">\n",
       "  var VEGA_DEBUG = (typeof VEGA_DEBUG == \"undefined\") ? {} : VEGA_DEBUG;\n",
       "  (function(spec, embedOpt){\n",
       "    let outputDiv = document.currentScript.previousElementSibling;\n",
       "    if (outputDiv.id !== \"altair-viz-3a143cd65d6c4a1aa19e982ec12198cb\") {\n",
       "      outputDiv = document.getElementById(\"altair-viz-3a143cd65d6c4a1aa19e982ec12198cb\");\n",
       "    }\n",
       "    const paths = {\n",
       "      \"vega\": \"https://cdn.jsdelivr.net/npm//vega@5?noext\",\n",
       "      \"vega-lib\": \"https://cdn.jsdelivr.net/npm//vega-lib?noext\",\n",
       "      \"vega-lite\": \"https://cdn.jsdelivr.net/npm//vega-lite@4.17.0?noext\",\n",
       "      \"vega-embed\": \"https://cdn.jsdelivr.net/npm//vega-embed@6?noext\",\n",
       "    };\n",
       "\n",
       "    function maybeLoadScript(lib, version) {\n",
       "      var key = `${lib.replace(\"-\", \"\")}_version`;\n",
       "      return (VEGA_DEBUG[key] == version) ?\n",
       "        Promise.resolve(paths[lib]) :\n",
       "        new Promise(function(resolve, reject) {\n",
       "          var s = document.createElement('script');\n",
       "          document.getElementsByTagName(\"head\")[0].appendChild(s);\n",
       "          s.async = true;\n",
       "          s.onload = () => {\n",
       "            VEGA_DEBUG[key] = version;\n",
       "            return resolve(paths[lib]);\n",
       "          };\n",
       "          s.onerror = () => reject(`Error loading script: ${paths[lib]}`);\n",
       "          s.src = paths[lib];\n",
       "        });\n",
       "    }\n",
       "\n",
       "    function showError(err) {\n",
       "      outputDiv.innerHTML = `<div class=\"error\" style=\"color:red;\">${err}</div>`;\n",
       "      throw err;\n",
       "    }\n",
       "\n",
       "    function displayChart(vegaEmbed) {\n",
       "      vegaEmbed(outputDiv, spec, embedOpt)\n",
       "        .catch(err => showError(`Javascript Error: ${err.message}<br>This usually means there's a typo in your chart specification. See the javascript console for the full traceback.`));\n",
       "    }\n",
       "\n",
       "    if(typeof define === \"function\" && define.amd) {\n",
       "      requirejs.config({paths});\n",
       "      require([\"vega-embed\"], displayChart, err => showError(`Error loading script: ${err.message}`));\n",
       "    } else {\n",
       "      maybeLoadScript(\"vega\", \"5\")\n",
       "        .then(() => maybeLoadScript(\"vega-lite\", \"4.17.0\"))\n",
       "        .then(() => maybeLoadScript(\"vega-embed\", \"6\"))\n",
       "        .catch(showError)\n",
       "        .then(() => displayChart(vegaEmbed));\n",
       "    }\n",
       "  })({\"usermeta\": {\"embedOptions\": {\"theme\": \"fivethirtyeight\"}}, \"config\": {\"view\": {\"continuousWidth\": 400, \"continuousHeight\": 300}}, \"hconcat\": [{\"layer\": [{\"mark\": {\"type\": \"bar\", \"color\": \"lightgrey\"}, \"encoding\": {\"color\": {\"field\": \"type\", \"legend\": null, \"scale\": {\"domain\": [\"Voice notification not working No sound at all - Speaker\", \"BharatPe Card Application on Hold\", \"Other Complaint\", \"Return Request - Speaker\", \"Unable to do KYC\", \"Information about BharaPe Loan\", \"Settlement Status- Block\", \"Settlement Status -Pending\", \"Info -Features and Charges of Bharatswipe (New Machine)\", \"Speaker not delivered Within TAT\", \"Book A Return\", \"Incomplete call\", \"How to Order Physical QR code\", \"New App - Features & Benefits\", \"Info - Status of Application\", \"Status of Withdrawal\", \"Status of Withdrawal - Pending / Failed\", \"Speaker Delivered But Showing Ordered on CRM\", \"Language Barrier\", \"Interest amount calculation\", \"Information on Settings/Usage - Speaker Active\", \"Need Information about Charges applied\", \"Not able to see any transactions in the app\", \"Information on withdrawal\", \"Enquiry about another number\", \"Transfer Success but not reflecting in Bank\", \"Information about Eligibility Criteria\", \"Set Up Information\", \"Reason for Ineligible\", \"Other\", \"Blank Call\", \"Speaker not delivered Beyond TAT\", \"Speaker - Application/Profile Download failed\", \"Reason for Rejection/ Expiry\", \"Overall features of BharatPe Speaker\"], \"range\": [\"#D1FBEF\", \"#75AD66\", \"#5F11D9\", \"#119DBA\", \"#96C35F\", \"#46F2ED\", \"#E28D81\", \"#16D3B4\", \"#246217\", \"#BCCB51\", \"#260B10\", \"#D38AF6\", \"#1A5B48\", \"#D795B6\", \"#CE8BD2\", \"#70FC9B\", \"#C3A378\", \"#97133A\", \"#EDBB8C\", \"#E63B55\", \"#2EE284\", \"#DE5136\", \"#71407C\", \"#DFA6ED\", \"#4DF874\", \"#6EF4BC\", \"#6FF85C\", \"#CACBE7\", \"#90BD1A\", \"#62E9A7\", \"#681FB4\", \"#81FBE7\", \"#5650BF\", \"#4CBD96\", \"#D79E45\"]}, \"type\": \"nominal\"}, \"tooltip\": [{\"field\": \"type\", \"type\": \"nominal\"}], \"x\": {\"axis\": {\"title\": \"Issue Count\"}, \"field\": \"Value\", \"type\": \"quantitative\"}, \"y\": {\"axis\": {\"title\": \"\"}, \"field\": \"type\", \"sort\": \"-x\", \"stack\": \"normalize\", \"type\": \"nominal\"}}, \"title\": \"Top Issues till Day 07\", \"transform\": [{\"window\": [{\"op\": \"rank\", \"field\": \"Value\", \"as\": \"rank\"}], \"sort\": [{\"field\": \"Value\", \"order\": \"descending\"}]}, {\"filter\": \"(datum.rank < 20)\"}]}, {\"mark\": {\"type\": \"text\", \"align\": \"left\", \"angle\": 0, \"baseline\": \"middle\"}, \"encoding\": {\"color\": {\"field\": \"type\", \"legend\": null, \"scale\": {\"domain\": [\"Voice notification not working No sound at all - Speaker\", \"BharatPe Card Application on Hold\", \"Other Complaint\", \"Return Request - Speaker\", \"Unable to do KYC\", \"Information about BharaPe Loan\", \"Settlement Status- Block\", \"Settlement Status -Pending\", \"Info -Features and Charges of Bharatswipe (New Machine)\", \"Speaker not delivered Within TAT\", \"Book A Return\", \"Incomplete call\", \"How to Order Physical QR code\", \"New App - Features & Benefits\", \"Info - Status of Application\", \"Status of Withdrawal\", \"Status of Withdrawal - Pending / Failed\", \"Speaker Delivered But Showing Ordered on CRM\", \"Language Barrier\", \"Interest amount calculation\", \"Information on Settings/Usage - Speaker Active\", \"Need Information about Charges applied\", \"Not able to see any transactions in the app\", \"Information on withdrawal\", \"Enquiry about another number\", \"Transfer Success but not reflecting in Bank\", \"Information about Eligibility Criteria\", \"Set Up Information\", \"Reason for Ineligible\", \"Other\", \"Blank Call\", \"Speaker not delivered Beyond TAT\", \"Speaker - Application/Profile Download failed\", \"Reason for Rejection/ Expiry\", \"Overall features of BharatPe Speaker\"], \"range\": [\"#D1FBEF\", \"#75AD66\", \"#5F11D9\", \"#119DBA\", \"#96C35F\", \"#46F2ED\", \"#E28D81\", \"#16D3B4\", \"#246217\", \"#BCCB51\", \"#260B10\", \"#D38AF6\", \"#1A5B48\", \"#D795B6\", \"#CE8BD2\", \"#70FC9B\", \"#C3A378\", \"#97133A\", \"#EDBB8C\", \"#E63B55\", \"#2EE284\", \"#DE5136\", \"#71407C\", \"#DFA6ED\", \"#4DF874\", \"#6EF4BC\", \"#6FF85C\", \"#CACBE7\", \"#90BD1A\", \"#62E9A7\", \"#681FB4\", \"#81FBE7\", \"#5650BF\", \"#4CBD96\", \"#D79E45\"]}, \"type\": \"nominal\"}, \"text\": {\"field\": \"Value\", \"format\": \"1.0d\", \"type\": \"quantitative\"}, \"tooltip\": [{\"field\": \"type\", \"type\": \"nominal\"}], \"x\": {\"axis\": {\"labels\": false, \"ticks\": true, \"title\": \"\"}, \"field\": \"Value\", \"type\": \"quantitative\"}, \"y\": {\"axis\": {\"title\": \"\"}, \"field\": \"type\", \"sort\": \"-x\", \"stack\": \"normalize\", \"type\": \"nominal\"}}, \"title\": \"Top Issues till Day 07\", \"transform\": [{\"window\": [{\"op\": \"rank\", \"field\": \"Value\", \"as\": \"rank\"}], \"sort\": [{\"field\": \"Value\", \"order\": \"descending\"}]}, {\"filter\": \"(datum.rank < 20)\"}]}], \"data\": {\"name\": \"data-1381c1c6ae5d9675578eb78e96f24ef5\"}, \"height\": 500, \"width\": 45}, {\"layer\": [{\"mark\": {\"type\": \"bar\", \"color\": \"lightgrey\"}, \"encoding\": {\"color\": {\"field\": \"type\", \"legend\": null, \"scale\": {\"domain\": [\"Voice notification not working No sound at all - Speaker\", \"BharatPe Card Application on Hold\", \"Other Complaint\", \"Return Request - Speaker\", \"Unable to do KYC\", \"Information about BharaPe Loan\", \"Settlement Status- Block\", \"Settlement Status -Pending\", \"Info -Features and Charges of Bharatswipe (New Machine)\", \"Speaker not delivered Within TAT\", \"Book A Return\", \"Incomplete call\", \"How to Order Physical QR code\", \"New App - Features & Benefits\", \"Info - Status of Application\", \"Status of Withdrawal\", \"Status of Withdrawal - Pending / Failed\", \"Speaker Delivered But Showing Ordered on CRM\", \"Language Barrier\", \"Interest amount calculation\", \"Information on Settings/Usage - Speaker Active\", \"Need Information about Charges applied\", \"Not able to see any transactions in the app\", \"Information on withdrawal\", \"Enquiry about another number\", \"Transfer Success but not reflecting in Bank\", \"Information about Eligibility Criteria\", \"Set Up Information\", \"Reason for Ineligible\", \"Other\", \"Blank Call\", \"Speaker not delivered Beyond TAT\", \"Speaker - Application/Profile Download failed\", \"Reason for Rejection/ Expiry\", \"Overall features of BharatPe Speaker\"], \"range\": [\"#D1FBEF\", \"#75AD66\", \"#5F11D9\", \"#119DBA\", \"#96C35F\", \"#46F2ED\", \"#E28D81\", \"#16D3B4\", \"#246217\", \"#BCCB51\", \"#260B10\", \"#D38AF6\", \"#1A5B48\", \"#D795B6\", \"#CE8BD2\", \"#70FC9B\", \"#C3A378\", \"#97133A\", \"#EDBB8C\", \"#E63B55\", \"#2EE284\", \"#DE5136\", \"#71407C\", \"#DFA6ED\", \"#4DF874\", \"#6EF4BC\", \"#6FF85C\", \"#CACBE7\", \"#90BD1A\", \"#62E9A7\", \"#681FB4\", \"#81FBE7\", \"#5650BF\", \"#4CBD96\", \"#D79E45\"]}, \"type\": \"nominal\"}, \"tooltip\": [{\"field\": \"type\", \"type\": \"nominal\"}], \"x\": {\"axis\": {\"title\": \"Issue Count\"}, \"field\": \"Value\", \"type\": \"quantitative\"}, \"y\": {\"axis\": {\"title\": \"\"}, \"field\": \"type\", \"sort\": \"-x\", \"stack\": \"normalize\", \"type\": \"nominal\"}}, \"title\": \"Top Issues till Day 14\", \"transform\": [{\"window\": [{\"op\": \"rank\", \"field\": \"Value\", \"as\": \"rank\"}], \"sort\": [{\"field\": \"Value\", \"order\": \"descending\"}]}, {\"filter\": \"(datum.rank < 20)\"}]}, {\"mark\": {\"type\": \"text\", \"align\": \"left\", \"angle\": 0, \"baseline\": \"middle\"}, \"encoding\": {\"color\": {\"field\": \"type\", \"legend\": null, \"scale\": {\"domain\": [\"Voice notification not working No sound at all - Speaker\", \"BharatPe Card Application on Hold\", \"Other Complaint\", \"Return Request - Speaker\", \"Unable to do KYC\", \"Information about BharaPe Loan\", \"Settlement Status- Block\", \"Settlement Status -Pending\", \"Info -Features and Charges of Bharatswipe (New Machine)\", \"Speaker not delivered Within TAT\", \"Book A Return\", \"Incomplete call\", \"How to Order Physical QR code\", \"New App - Features & Benefits\", \"Info - Status of Application\", \"Status of Withdrawal\", \"Status of Withdrawal - Pending / Failed\", \"Speaker Delivered But Showing Ordered on CRM\", \"Language Barrier\", \"Interest amount calculation\", \"Information on Settings/Usage - Speaker Active\", \"Need Information about Charges applied\", \"Not able to see any transactions in the app\", \"Information on withdrawal\", \"Enquiry about another number\", \"Transfer Success but not reflecting in Bank\", \"Information about Eligibility Criteria\", \"Set Up Information\", \"Reason for Ineligible\", \"Other\", \"Blank Call\", \"Speaker not delivered Beyond TAT\", \"Speaker - Application/Profile Download failed\", \"Reason for Rejection/ Expiry\", \"Overall features of BharatPe Speaker\"], \"range\": [\"#D1FBEF\", \"#75AD66\", \"#5F11D9\", \"#119DBA\", \"#96C35F\", \"#46F2ED\", \"#E28D81\", \"#16D3B4\", \"#246217\", \"#BCCB51\", \"#260B10\", \"#D38AF6\", \"#1A5B48\", \"#D795B6\", \"#CE8BD2\", \"#70FC9B\", \"#C3A378\", \"#97133A\", \"#EDBB8C\", \"#E63B55\", \"#2EE284\", \"#DE5136\", \"#71407C\", \"#DFA6ED\", \"#4DF874\", \"#6EF4BC\", \"#6FF85C\", \"#CACBE7\", \"#90BD1A\", \"#62E9A7\", \"#681FB4\", \"#81FBE7\", \"#5650BF\", \"#4CBD96\", \"#D79E45\"]}, \"type\": \"nominal\"}, \"text\": {\"field\": \"Value\", \"format\": \"1.0d\", \"type\": \"quantitative\"}, \"tooltip\": [{\"field\": \"type\", \"type\": \"nominal\"}], \"x\": {\"axis\": {\"labels\": false, \"ticks\": true, \"title\": \"\"}, \"field\": \"Value\", \"type\": \"quantitative\"}, \"y\": {\"axis\": {\"title\": \"\"}, \"field\": \"type\", \"sort\": \"-x\", \"stack\": \"normalize\", \"type\": \"nominal\"}}, \"title\": \"Top Issues till Day 14\", \"transform\": [{\"window\": [{\"op\": \"rank\", \"field\": \"Value\", \"as\": \"rank\"}], \"sort\": [{\"field\": \"Value\", \"order\": \"descending\"}]}, {\"filter\": \"(datum.rank < 20)\"}]}], \"data\": {\"name\": \"data-d478a074a72d25d4fdb88344f1cd2318\"}, \"height\": 500, \"width\": 45}, {\"layer\": [{\"mark\": {\"type\": \"bar\", \"color\": \"lightgrey\"}, \"encoding\": {\"color\": {\"field\": \"type\", \"legend\": null, \"scale\": {\"domain\": [\"Voice notification not working No sound at all - Speaker\", \"BharatPe Card Application on Hold\", \"Other Complaint\", \"Return Request - Speaker\", \"Unable to do KYC\", \"Information about BharaPe Loan\", \"Settlement Status- Block\", \"Settlement Status -Pending\", \"Info -Features and Charges of Bharatswipe (New Machine)\", \"Speaker not delivered Within TAT\", \"Book A Return\", \"Incomplete call\", \"How to Order Physical QR code\", \"New App - Features & Benefits\", \"Info - Status of Application\", \"Status of Withdrawal\", \"Status of Withdrawal - Pending / Failed\", \"Speaker Delivered But Showing Ordered on CRM\", \"Language Barrier\", \"Interest amount calculation\", \"Information on Settings/Usage - Speaker Active\", \"Need Information about Charges applied\", \"Not able to see any transactions in the app\", \"Information on withdrawal\", \"Enquiry about another number\", \"Transfer Success but not reflecting in Bank\", \"Information about Eligibility Criteria\", \"Set Up Information\", \"Reason for Ineligible\", \"Other\", \"Blank Call\", \"Speaker not delivered Beyond TAT\", \"Speaker - Application/Profile Download failed\", \"Reason for Rejection/ Expiry\", \"Overall features of BharatPe Speaker\"], \"range\": [\"#D1FBEF\", \"#75AD66\", \"#5F11D9\", \"#119DBA\", \"#96C35F\", \"#46F2ED\", \"#E28D81\", \"#16D3B4\", \"#246217\", \"#BCCB51\", \"#260B10\", \"#D38AF6\", \"#1A5B48\", \"#D795B6\", \"#CE8BD2\", \"#70FC9B\", \"#C3A378\", \"#97133A\", \"#EDBB8C\", \"#E63B55\", \"#2EE284\", \"#DE5136\", \"#71407C\", \"#DFA6ED\", \"#4DF874\", \"#6EF4BC\", \"#6FF85C\", \"#CACBE7\", \"#90BD1A\", \"#62E9A7\", \"#681FB4\", \"#81FBE7\", \"#5650BF\", \"#4CBD96\", \"#D79E45\"]}, \"type\": \"nominal\"}, \"tooltip\": [{\"field\": \"type\", \"type\": \"nominal\"}], \"x\": {\"axis\": {\"title\": \"Issue Count\"}, \"field\": \"Value\", \"type\": \"quantitative\"}, \"y\": {\"axis\": {\"title\": \"\"}, \"field\": \"type\", \"sort\": \"-x\", \"stack\": \"normalize\", \"type\": \"nominal\"}}, \"title\": \"Top Issues till Day 30\", \"transform\": [{\"window\": [{\"op\": \"rank\", \"field\": \"Value\", \"as\": \"rank\"}], \"sort\": [{\"field\": \"Value\", \"order\": \"descending\"}]}, {\"filter\": \"(datum.rank < 20)\"}]}, {\"mark\": {\"type\": \"text\", \"align\": \"left\", \"angle\": 0, \"baseline\": \"middle\"}, \"encoding\": {\"color\": {\"field\": \"type\", \"legend\": null, \"scale\": {\"domain\": [\"Voice notification not working No sound at all - Speaker\", \"BharatPe Card Application on Hold\", \"Other Complaint\", \"Return Request - Speaker\", \"Unable to do KYC\", \"Information about BharaPe Loan\", \"Settlement Status- Block\", \"Settlement Status -Pending\", \"Info -Features and Charges of Bharatswipe (New Machine)\", \"Speaker not delivered Within TAT\", \"Book A Return\", \"Incomplete call\", \"How to Order Physical QR code\", \"New App - Features & Benefits\", \"Info - Status of Application\", \"Status of Withdrawal\", \"Status of Withdrawal - Pending / Failed\", \"Speaker Delivered But Showing Ordered on CRM\", \"Language Barrier\", \"Interest amount calculation\", \"Information on Settings/Usage - Speaker Active\", \"Need Information about Charges applied\", \"Not able to see any transactions in the app\", \"Information on withdrawal\", \"Enquiry about another number\", \"Transfer Success but not reflecting in Bank\", \"Information about Eligibility Criteria\", \"Set Up Information\", \"Reason for Ineligible\", \"Other\", \"Blank Call\", \"Speaker not delivered Beyond TAT\", \"Speaker - Application/Profile Download failed\", \"Reason for Rejection/ Expiry\", \"Overall features of BharatPe Speaker\"], \"range\": [\"#D1FBEF\", \"#75AD66\", \"#5F11D9\", \"#119DBA\", \"#96C35F\", \"#46F2ED\", \"#E28D81\", \"#16D3B4\", \"#246217\", \"#BCCB51\", \"#260B10\", \"#D38AF6\", \"#1A5B48\", \"#D795B6\", \"#CE8BD2\", \"#70FC9B\", \"#C3A378\", \"#97133A\", \"#EDBB8C\", \"#E63B55\", \"#2EE284\", \"#DE5136\", \"#71407C\", \"#DFA6ED\", \"#4DF874\", \"#6EF4BC\", \"#6FF85C\", \"#CACBE7\", \"#90BD1A\", \"#62E9A7\", \"#681FB4\", \"#81FBE7\", \"#5650BF\", \"#4CBD96\", \"#D79E45\"]}, \"type\": \"nominal\"}, \"text\": {\"field\": \"Value\", \"format\": \"1.0d\", \"type\": \"quantitative\"}, \"tooltip\": [{\"field\": \"type\", \"type\": \"nominal\"}], \"x\": {\"axis\": {\"labels\": false, \"ticks\": true, \"title\": \"\"}, \"field\": \"Value\", \"type\": \"quantitative\"}, \"y\": {\"axis\": {\"title\": \"\"}, \"field\": \"type\", \"sort\": \"-x\", \"stack\": \"normalize\", \"type\": \"nominal\"}}, \"title\": \"Top Issues till Day 30\", \"transform\": [{\"window\": [{\"op\": \"rank\", \"field\": \"Value\", \"as\": \"rank\"}], \"sort\": [{\"field\": \"Value\", \"order\": \"descending\"}]}, {\"filter\": \"(datum.rank < 20)\"}]}], \"data\": {\"name\": \"data-364d892ec4b9f6efb40f2a80f44ab6d2\"}, \"height\": 500, \"width\": 45}, {\"layer\": [{\"mark\": {\"type\": \"bar\", \"color\": \"lightgrey\"}, \"encoding\": {\"color\": {\"field\": \"type\", \"legend\": null, \"scale\": {\"domain\": [\"Voice notification not working No sound at all - Speaker\", \"BharatPe Card Application on Hold\", \"Other Complaint\", \"Return Request - Speaker\", \"Unable to do KYC\", \"Information about BharaPe Loan\", \"Settlement Status- Block\", \"Settlement Status -Pending\", \"Info -Features and Charges of Bharatswipe (New Machine)\", \"Speaker not delivered Within TAT\", \"Book A Return\", \"Incomplete call\", \"How to Order Physical QR code\", \"New App - Features & Benefits\", \"Info - Status of Application\", \"Status of Withdrawal\", \"Status of Withdrawal - Pending / Failed\", \"Speaker Delivered But Showing Ordered on CRM\", \"Language Barrier\", \"Interest amount calculation\", \"Information on Settings/Usage - Speaker Active\", \"Need Information about Charges applied\", \"Not able to see any transactions in the app\", \"Information on withdrawal\", \"Enquiry about another number\", \"Transfer Success but not reflecting in Bank\", \"Information about Eligibility Criteria\", \"Set Up Information\", \"Reason for Ineligible\", \"Other\", \"Blank Call\", \"Speaker not delivered Beyond TAT\", \"Speaker - Application/Profile Download failed\", \"Reason for Rejection/ Expiry\", \"Overall features of BharatPe Speaker\"], \"range\": [\"#D1FBEF\", \"#75AD66\", \"#5F11D9\", \"#119DBA\", \"#96C35F\", \"#46F2ED\", \"#E28D81\", \"#16D3B4\", \"#246217\", \"#BCCB51\", \"#260B10\", \"#D38AF6\", \"#1A5B48\", \"#D795B6\", \"#CE8BD2\", \"#70FC9B\", \"#C3A378\", \"#97133A\", \"#EDBB8C\", \"#E63B55\", \"#2EE284\", \"#DE5136\", \"#71407C\", \"#DFA6ED\", \"#4DF874\", \"#6EF4BC\", \"#6FF85C\", \"#CACBE7\", \"#90BD1A\", \"#62E9A7\", \"#681FB4\", \"#81FBE7\", \"#5650BF\", \"#4CBD96\", \"#D79E45\"]}, \"type\": \"nominal\"}, \"tooltip\": [{\"field\": \"type\", \"type\": \"nominal\"}], \"x\": {\"axis\": {\"title\": \"Issue Count\"}, \"field\": \"Value\", \"type\": \"quantitative\"}, \"y\": {\"axis\": {\"title\": \"\"}, \"field\": \"type\", \"sort\": \"-x\", \"stack\": \"normalize\", \"type\": \"nominal\"}}, \"title\": \"Top Issues till Day 60\", \"transform\": [{\"window\": [{\"op\": \"rank\", \"field\": \"Value\", \"as\": \"rank\"}], \"sort\": [{\"field\": \"Value\", \"order\": \"descending\"}]}, {\"filter\": \"(datum.rank < 20)\"}]}, {\"mark\": {\"type\": \"text\", \"align\": \"left\", \"angle\": 0, \"baseline\": \"middle\"}, \"encoding\": {\"color\": {\"field\": \"type\", \"legend\": null, \"scale\": {\"domain\": [\"Voice notification not working No sound at all - Speaker\", \"BharatPe Card Application on Hold\", \"Other Complaint\", \"Return Request - Speaker\", \"Unable to do KYC\", \"Information about BharaPe Loan\", \"Settlement Status- Block\", \"Settlement Status -Pending\", \"Info -Features and Charges of Bharatswipe (New Machine)\", \"Speaker not delivered Within TAT\", \"Book A Return\", \"Incomplete call\", \"How to Order Physical QR code\", \"New App - Features & Benefits\", \"Info - Status of Application\", \"Status of Withdrawal\", \"Status of Withdrawal - Pending / Failed\", \"Speaker Delivered But Showing Ordered on CRM\", \"Language Barrier\", \"Interest amount calculation\", \"Information on Settings/Usage - Speaker Active\", \"Need Information about Charges applied\", \"Not able to see any transactions in the app\", \"Information on withdrawal\", \"Enquiry about another number\", \"Transfer Success but not reflecting in Bank\", \"Information about Eligibility Criteria\", \"Set Up Information\", \"Reason for Ineligible\", \"Other\", \"Blank Call\", \"Speaker not delivered Beyond TAT\", \"Speaker - Application/Profile Download failed\", \"Reason for Rejection/ Expiry\", \"Overall features of BharatPe Speaker\"], \"range\": [\"#D1FBEF\", \"#75AD66\", \"#5F11D9\", \"#119DBA\", \"#96C35F\", \"#46F2ED\", \"#E28D81\", \"#16D3B4\", \"#246217\", \"#BCCB51\", \"#260B10\", \"#D38AF6\", \"#1A5B48\", \"#D795B6\", \"#CE8BD2\", \"#70FC9B\", \"#C3A378\", \"#97133A\", \"#EDBB8C\", \"#E63B55\", \"#2EE284\", \"#DE5136\", \"#71407C\", \"#DFA6ED\", \"#4DF874\", \"#6EF4BC\", \"#6FF85C\", \"#CACBE7\", \"#90BD1A\", \"#62E9A7\", \"#681FB4\", \"#81FBE7\", \"#5650BF\", \"#4CBD96\", \"#D79E45\"]}, \"type\": \"nominal\"}, \"text\": {\"field\": \"Value\", \"format\": \"1.0d\", \"type\": \"quantitative\"}, \"tooltip\": [{\"field\": \"type\", \"type\": \"nominal\"}], \"x\": {\"axis\": {\"labels\": false, \"ticks\": true, \"title\": \"\"}, \"field\": \"Value\", \"type\": \"quantitative\"}, \"y\": {\"axis\": {\"title\": \"\"}, \"field\": \"type\", \"sort\": \"-x\", \"stack\": \"normalize\", \"type\": \"nominal\"}}, \"title\": \"Top Issues till Day 60\", \"transform\": [{\"window\": [{\"op\": \"rank\", \"field\": \"Value\", \"as\": \"rank\"}], \"sort\": [{\"field\": \"Value\", \"order\": \"descending\"}]}, {\"filter\": \"(datum.rank < 20)\"}]}], \"data\": {\"name\": \"data-6cccd93280f2313abc2999552fc5e65b\"}, \"height\": 500, \"width\": 45}], \"$schema\": \"https://vega.github.io/schema/vega-lite/v4.17.0.json\", \"datasets\": {\"data-1381c1c6ae5d9675578eb78e96f24ef5\": [{\"type\": \"Settlement Status- Block\", \"Vintage\": \"day_07\", \"Value\": 327}, {\"type\": \"New App - Features & Benefits\", \"Vintage\": \"day_07\", \"Value\": 8280}, {\"type\": \"BharatPe Card Application on Hold\", \"Vintage\": \"day_07\", \"Value\": 652}, {\"type\": \"Blank Call\", \"Vintage\": \"day_07\", \"Value\": 663}, {\"type\": \"Reason for Ineligible\", \"Vintage\": \"day_07\", \"Value\": 1075}, {\"type\": \"Status of Withdrawal - Pending / Failed\", \"Vintage\": \"day_07\", \"Value\": 1267}, {\"type\": \"Speaker not delivered Within TAT\", \"Vintage\": \"day_07\", \"Value\": 347}, {\"type\": \"Information on Settings/Usage - Speaker Active\", \"Vintage\": \"day_07\", \"Value\": 410}, {\"type\": \"Other\", \"Vintage\": \"day_07\", \"Value\": 1233}, {\"type\": \"Set Up Information\", \"Vintage\": \"day_07\", \"Value\": 1873}, {\"type\": \"Not able to see any transactions in the app\", \"Vintage\": \"day_07\", \"Value\": 797}, {\"type\": \"Other Complaint\", \"Vintage\": \"day_07\", \"Value\": 3161}, {\"type\": \"Information on withdrawal\", \"Vintage\": \"day_07\", \"Value\": 721}, {\"type\": \"Enquiry about another number\", \"Vintage\": \"day_07\", \"Value\": 3124}, {\"type\": \"Information about BharaPe Loan\", \"Vintage\": \"day_07\", \"Value\": 1396}, {\"type\": \"Overall features of BharatPe Speaker\", \"Vintage\": \"day_07\", \"Value\": 1104}, {\"type\": \"Need Information about Charges applied\", \"Vintage\": \"day_07\", \"Value\": 565}, {\"type\": \"Settlement Status -Pending\", \"Vintage\": \"day_07\", \"Value\": 2180}, {\"type\": \"Info - Status of Application\", \"Vintage\": \"day_07\", \"Value\": 174}, {\"type\": \"Transfer Success but not reflecting in Bank\", \"Vintage\": \"day_07\", \"Value\": 477}], \"data-d478a074a72d25d4fdb88344f1cd2318\": [{\"type\": \"Settlement Status- Block\", \"Vintage\": \"day_14\", \"Value\": 713}, {\"type\": \"New App - Features & Benefits\", \"Vintage\": \"day_14\", \"Value\": 446}, {\"type\": \"BharatPe Card Application on Hold\", \"Vintage\": \"day_14\", \"Value\": 313}, {\"type\": \"Blank Call\", \"Vintage\": \"day_14\", \"Value\": 197}, {\"type\": \"Reason for Ineligible\", \"Vintage\": \"day_14\", \"Value\": 234}, {\"type\": \"Status of Withdrawal - Pending / Failed\", \"Vintage\": \"day_14\", \"Value\": 528}, {\"type\": \"Speaker not delivered Within TAT\", \"Vintage\": \"day_14\", \"Value\": 625}, {\"type\": \"Information on Settings/Usage - Speaker Active\", \"Vintage\": \"day_14\", \"Value\": 468}, {\"type\": \"Other\", \"Vintage\": \"day_14\", \"Value\": 670}, {\"type\": \"Set Up Information\", \"Vintage\": \"day_14\", \"Value\": 148}, {\"type\": \"Not able to see any transactions in the app\", \"Vintage\": \"day_14\", \"Value\": 407}, {\"type\": \"Other Complaint\", \"Vintage\": \"day_14\", \"Value\": 426}, {\"type\": \"Information on withdrawal\", \"Vintage\": \"day_14\", \"Value\": 267}, {\"type\": \"Enquiry about another number\", \"Vintage\": \"day_14\", \"Value\": 744}, {\"type\": \"Information about BharaPe Loan\", \"Vintage\": \"day_14\", \"Value\": 171}, {\"type\": \"Overall features of BharatPe Speaker\", \"Vintage\": \"day_14\", \"Value\": 826}, {\"type\": \"Need Information about Charges applied\", \"Vintage\": \"day_14\", \"Value\": 421}, {\"type\": \"Settlement Status -Pending\", \"Vintage\": \"day_14\", \"Value\": 1030}, {\"type\": \"Info - Status of Application\", \"Vintage\": \"day_14\", \"Value\": 132}, {\"type\": \"Transfer Success but not reflecting in Bank\", \"Vintage\": \"day_14\", \"Value\": 256}], \"data-364d892ec4b9f6efb40f2a80f44ab6d2\": [{\"type\": \"Settlement Status- Block\", \"Vintage\": \"day_30\", \"Value\": 1393}, {\"type\": \"New App - Features & Benefits\", \"Vintage\": \"day_30\", \"Value\": 372}, {\"type\": \"BharatPe Card Application on Hold\", \"Vintage\": \"day_30\", \"Value\": 443}, {\"type\": \"Blank Call\", \"Vintage\": \"day_30\", \"Value\": 228}, {\"type\": \"Reason for Ineligible\", \"Vintage\": \"day_30\", \"Value\": 381}, {\"type\": \"Status of Withdrawal - Pending / Failed\", \"Vintage\": \"day_30\", \"Value\": 704}, {\"type\": \"Speaker not delivered Within TAT\", \"Vintage\": \"day_30\", \"Value\": 188}, {\"type\": \"Information on Settings/Usage - Speaker Active\", \"Vintage\": \"day_30\", \"Value\": 239}, {\"type\": \"Other\", \"Vintage\": \"day_30\", \"Value\": 819}, {\"type\": \"Set Up Information\", \"Vintage\": \"day_30\", \"Value\": 126}, {\"type\": \"Not able to see any transactions in the app\", \"Vintage\": \"day_30\", \"Value\": 518}, {\"type\": \"Other Complaint\", \"Vintage\": \"day_30\", \"Value\": 367}, {\"type\": \"Information on withdrawal\", \"Vintage\": \"day_30\", \"Value\": 301}, {\"type\": \"Enquiry about another number\", \"Vintage\": \"day_30\", \"Value\": 409}, {\"type\": \"Information about BharaPe Loan\", \"Vintage\": \"day_30\", \"Value\": 175}, {\"type\": \"Overall features of BharatPe Speaker\", \"Vintage\": \"day_30\", \"Value\": 937}, {\"type\": \"Need Information about Charges applied\", \"Vintage\": \"day_30\", \"Value\": 366}, {\"type\": \"Settlement Status -Pending\", \"Vintage\": \"day_30\", \"Value\": 1195}, {\"type\": \"Info - Status of Application\", \"Vintage\": \"day_30\", \"Value\": 485}, {\"type\": \"Transfer Success but not reflecting in Bank\", \"Vintage\": \"day_30\", \"Value\": 224}], \"data-6cccd93280f2313abc2999552fc5e65b\": [{\"type\": \"Settlement Status- Block\", \"Vintage\": \"day_60\", \"Value\": 593}, {\"type\": \"New App - Features & Benefits\", \"Vintage\": \"day_60\", \"Value\": 12}, {\"type\": \"BharatPe Card Application on Hold\", \"Vintage\": \"day_60\", \"Value\": 269}, {\"type\": \"Blank Call\", \"Vintage\": \"day_60\", \"Value\": 108}, {\"type\": \"Reason for Ineligible\", \"Vintage\": \"day_60\", \"Value\": 256}, {\"type\": \"Status of Withdrawal - Pending / Failed\", \"Vintage\": \"day_60\", \"Value\": 361}, {\"type\": \"Speaker not delivered Within TAT\", \"Vintage\": \"day_60\", \"Value\": 59}, {\"type\": \"Information on Settings/Usage - Speaker Active\", \"Vintage\": \"day_60\", \"Value\": 70}, {\"type\": \"Other\", \"Vintage\": \"day_60\", \"Value\": 480}, {\"type\": \"Set Up Information\", \"Vintage\": \"day_60\", \"Value\": 33}, {\"type\": \"Not able to see any transactions in the app\", \"Vintage\": \"day_60\", \"Value\": 142}, {\"type\": \"Other Complaint\", \"Vintage\": \"day_60\", \"Value\": 124}, {\"type\": \"Information on withdrawal\", \"Vintage\": \"day_60\", \"Value\": 114}, {\"type\": \"Enquiry about another number\", \"Vintage\": \"day_60\", \"Value\": 141}, {\"type\": \"Information about BharaPe Loan\", \"Vintage\": \"day_60\", \"Value\": 114}, {\"type\": \"Overall features of BharatPe Speaker\", \"Vintage\": \"day_60\", \"Value\": 411}, {\"type\": \"Need Information about Charges applied\", \"Vintage\": \"day_60\", \"Value\": 191}, {\"type\": \"Settlement Status -Pending\", \"Vintage\": \"day_60\", \"Value\": 283}, {\"type\": \"Info - Status of Application\", \"Vintage\": \"day_60\", \"Value\": 289}, {\"type\": \"Transfer Success but not reflecting in Bank\", \"Vintage\": \"day_60\", \"Value\": 183}]}}, {\"mode\": \"vega-lite\"});\n",
       "</script>"
      ],
      "text/plain": [
       "alt.HConcatChart(...)"
      ]
     },
     "execution_count": 33,
     "metadata": {},
     "output_type": "execute_result"
    }
   ],
   "source": [
    "# (d3 | d7 | d14 | d21 |d30 |d60)\n",
    "(d7 | d14 |d30 |d60)"
   ]
  },
  {
   "cell_type": "code",
   "execution_count": 23,
   "id": "a5dfddc5-bfe4-45aa-885f-ad7846482ab7",
   "metadata": {},
   "outputs": [],
   "source": [
    "# tot_types = list(set(chart('d3')[1]).union(set(chart('d7')[1])).union(set(chart('d14')[1])).union(set(chart('d21')[1])).union(set(chart('d30')[1])).union(set(chart('d60')[1])))"
   ]
  },
  {
   "cell_type": "code",
   "execution_count": 24,
   "id": "3c7e6494-9f9b-4478-837d-7de6ee7d8852",
   "metadata": {},
   "outputs": [],
   "source": [
    "# import random\n",
    "\n",
    "# number_of_colors = len(tot_types)\n",
    "\n",
    "# color = [\"#\"+''.join([random.choice('0123456789ABCDEF') for j in range(6)])\n",
    "#              for i in range(number_of_colors)]"
   ]
  },
  {
   "cell_type": "code",
   "execution_count": 25,
   "id": "8bcd63bc-3e72-4e0b-83ef-1926b146ecb0",
   "metadata": {},
   "outputs": [
    {
     "data": {
      "text/html": [
       "<div>\n",
       "<style scoped>\n",
       "    .dataframe tbody tr th:only-of-type {\n",
       "        vertical-align: middle;\n",
       "    }\n",
       "\n",
       "    .dataframe tbody tr th {\n",
       "        vertical-align: top;\n",
       "    }\n",
       "\n",
       "    .dataframe thead th {\n",
       "        text-align: right;\n",
       "    }\n",
       "</style>\n",
       "<table border=\"1\" class=\"dataframe\">\n",
       "  <thead>\n",
       "    <tr style=\"text-align: right;\">\n",
       "      <th></th>\n",
       "      <th>type</th>\n",
       "      <th>Vintage</th>\n",
       "      <th>Value</th>\n",
       "    </tr>\n",
       "  </thead>\n",
       "  <tbody>\n",
       "    <tr>\n",
       "      <th>1</th>\n",
       "      <td>Settlement Status- Block</td>\n",
       "      <td>day_07</td>\n",
       "      <td>327</td>\n",
       "    </tr>\n",
       "    <tr>\n",
       "      <th>2</th>\n",
       "      <td>New App - Features &amp; Benefits</td>\n",
       "      <td>day_07</td>\n",
       "      <td>8280</td>\n",
       "    </tr>\n",
       "    <tr>\n",
       "      <th>3</th>\n",
       "      <td>BharatPe Card Application on Hold</td>\n",
       "      <td>day_07</td>\n",
       "      <td>652</td>\n",
       "    </tr>\n",
       "    <tr>\n",
       "      <th>7</th>\n",
       "      <td>Blank Call</td>\n",
       "      <td>day_07</td>\n",
       "      <td>663</td>\n",
       "    </tr>\n",
       "    <tr>\n",
       "      <th>10</th>\n",
       "      <td>Reason for Ineligible</td>\n",
       "      <td>day_07</td>\n",
       "      <td>1075</td>\n",
       "    </tr>\n",
       "  </tbody>\n",
       "</table>\n",
       "</div>"
      ],
      "text/plain": [
       "                                 type Vintage Value\n",
       "1            Settlement Status- Block  day_07   327\n",
       "2       New App - Features & Benefits  day_07  8280\n",
       "3   BharatPe Card Application on Hold  day_07   652\n",
       "7                          Blank Call  day_07   663\n",
       "10              Reason for Ineligible  day_07  1075"
      ]
     },
     "execution_count": 25,
     "metadata": {},
     "output_type": "execute_result"
    }
   ],
   "source": [
    "ticket.head()"
   ]
  },
  {
   "cell_type": "code",
   "execution_count": 26,
   "id": "e8e8040f-da74-4349-ac9d-52b901984e73",
   "metadata": {},
   "outputs": [],
   "source": [
    "alt.themes.enable('fivethirtyeight')\n",
    "bump = alt.Chart(ticket).mark_line(point=True).encode(\n",
    " x = alt.X(\"Vintage:O\", title = 'Vintage in Days'),\n",
    " y = alt.Y('rank:O', title = 'Ranking'),\n",
    " color = alt.Color('type:N', legend=None)\n",
    ").transform_window(\n",
    " rank = \"rank()\",\n",
    " sort=[alt.SortField('Value', order=\"descending\")],\n",
    " groupby=[\"Vintage\"]\n",
    ").properties(\n",
    " title = 'Rank Plot for Tickets Raised Vs Merchant Vintage',\n",
    "    width = 800, height = 600\n",
    ")"
   ]
  },
  {
   "cell_type": "code",
   "execution_count": 27,
   "id": "5baad3d0-9c35-4bf9-987e-49bbbc91d889",
   "metadata": {},
   "outputs": [],
   "source": [
    "labels = alt.Chart(ticket).mark_text(align='left', dx=12).encode(\n",
    " x = alt.X(\"Vintage:O\", title = 'Vintage in Days', aggregate='max'),\n",
    " y = alt.Y('rank:O', title = 'Ranking', aggregate={'argmax': 'Vintage'}),\n",
    " text = alt.Text('type:N'),\n",
    " color = alt.Color('type:N', legend=None)\n",
    ").transform_window(\n",
    " rank = \"rank()\",\n",
    " sort=[alt.SortField('Value', order=\"descending\")],\n",
    " groupby=[\"Vintage\"]\n",
    ")"
   ]
  },
  {
   "cell_type": "code",
   "execution_count": 28,
   "id": "e8f0d1d0-11bd-4633-a091-dec4f3d81be0",
   "metadata": {},
   "outputs": [
    {
     "data": {
      "text/html": [
       "\n",
       "<div id=\"altair-viz-233c7d3b3c914a959b67786714f8402c\"></div>\n",
       "<script type=\"text/javascript\">\n",
       "  var VEGA_DEBUG = (typeof VEGA_DEBUG == \"undefined\") ? {} : VEGA_DEBUG;\n",
       "  (function(spec, embedOpt){\n",
       "    let outputDiv = document.currentScript.previousElementSibling;\n",
       "    if (outputDiv.id !== \"altair-viz-233c7d3b3c914a959b67786714f8402c\") {\n",
       "      outputDiv = document.getElementById(\"altair-viz-233c7d3b3c914a959b67786714f8402c\");\n",
       "    }\n",
       "    const paths = {\n",
       "      \"vega\": \"https://cdn.jsdelivr.net/npm//vega@5?noext\",\n",
       "      \"vega-lib\": \"https://cdn.jsdelivr.net/npm//vega-lib?noext\",\n",
       "      \"vega-lite\": \"https://cdn.jsdelivr.net/npm//vega-lite@4.17.0?noext\",\n",
       "      \"vega-embed\": \"https://cdn.jsdelivr.net/npm//vega-embed@6?noext\",\n",
       "    };\n",
       "\n",
       "    function maybeLoadScript(lib, version) {\n",
       "      var key = `${lib.replace(\"-\", \"\")}_version`;\n",
       "      return (VEGA_DEBUG[key] == version) ?\n",
       "        Promise.resolve(paths[lib]) :\n",
       "        new Promise(function(resolve, reject) {\n",
       "          var s = document.createElement('script');\n",
       "          document.getElementsByTagName(\"head\")[0].appendChild(s);\n",
       "          s.async = true;\n",
       "          s.onload = () => {\n",
       "            VEGA_DEBUG[key] = version;\n",
       "            return resolve(paths[lib]);\n",
       "          };\n",
       "          s.onerror = () => reject(`Error loading script: ${paths[lib]}`);\n",
       "          s.src = paths[lib];\n",
       "        });\n",
       "    }\n",
       "\n",
       "    function showError(err) {\n",
       "      outputDiv.innerHTML = `<div class=\"error\" style=\"color:red;\">${err}</div>`;\n",
       "      throw err;\n",
       "    }\n",
       "\n",
       "    function displayChart(vegaEmbed) {\n",
       "      vegaEmbed(outputDiv, spec, embedOpt)\n",
       "        .catch(err => showError(`Javascript Error: ${err.message}<br>This usually means there's a typo in your chart specification. See the javascript console for the full traceback.`));\n",
       "    }\n",
       "\n",
       "    if(typeof define === \"function\" && define.amd) {\n",
       "      requirejs.config({paths});\n",
       "      require([\"vega-embed\"], displayChart, err => showError(`Error loading script: ${err.message}`));\n",
       "    } else {\n",
       "      maybeLoadScript(\"vega\", \"5\")\n",
       "        .then(() => maybeLoadScript(\"vega-lite\", \"4.17.0\"))\n",
       "        .then(() => maybeLoadScript(\"vega-embed\", \"6\"))\n",
       "        .catch(showError)\n",
       "        .then(() => displayChart(vegaEmbed));\n",
       "    }\n",
       "  })({\"usermeta\": {\"embedOptions\": {\"theme\": \"fivethirtyeight\"}}, \"config\": {\"view\": {\"continuousWidth\": 400, \"continuousHeight\": 300}}, \"layer\": [{\"mark\": {\"type\": \"line\", \"point\": true}, \"encoding\": {\"color\": {\"field\": \"type\", \"legend\": null, \"type\": \"nominal\"}, \"x\": {\"field\": \"Vintage\", \"title\": \"Vintage in Days\", \"type\": \"ordinal\"}, \"y\": {\"field\": \"rank\", \"title\": \"Ranking\", \"type\": \"ordinal\"}}, \"height\": 600, \"title\": \"Rank Plot for Tickets Raised Vs Merchant Vintage\", \"transform\": [{\"window\": [{\"op\": \"rank\", \"field\": \"\", \"as\": \"rank\"}], \"groupby\": [\"Vintage\"], \"sort\": [{\"field\": \"Value\", \"order\": \"descending\"}]}], \"width\": 800}, {\"mark\": {\"type\": \"text\", \"align\": \"left\", \"dx\": 12}, \"encoding\": {\"color\": {\"field\": \"type\", \"legend\": null, \"type\": \"nominal\"}, \"text\": {\"field\": \"type\", \"type\": \"nominal\"}, \"x\": {\"aggregate\": \"max\", \"field\": \"Vintage\", \"title\": \"Vintage in Days\", \"type\": \"ordinal\"}, \"y\": {\"aggregate\": {\"argmax\": \"Vintage\"}, \"field\": \"rank\", \"title\": \"Ranking\", \"type\": \"ordinal\"}}, \"transform\": [{\"window\": [{\"op\": \"rank\", \"field\": \"\", \"as\": \"rank\"}], \"groupby\": [\"Vintage\"], \"sort\": [{\"field\": \"Value\", \"order\": \"descending\"}]}]}], \"data\": {\"name\": \"data-6ec66da52f6c9d53f9bac5e9134d1289\"}, \"$schema\": \"https://vega.github.io/schema/vega-lite/v4.17.0.json\", \"datasets\": {\"data-6ec66da52f6c9d53f9bac5e9134d1289\": [{\"type\": \"Settlement Status- Block\", \"Vintage\": \"day_07\", \"Value\": 327}, {\"type\": \"New App - Features & Benefits\", \"Vintage\": \"day_07\", \"Value\": 8280}, {\"type\": \"BharatPe Card Application on Hold\", \"Vintage\": \"day_07\", \"Value\": 652}, {\"type\": \"Blank Call\", \"Vintage\": \"day_07\", \"Value\": 663}, {\"type\": \"Reason for Ineligible\", \"Vintage\": \"day_07\", \"Value\": 1075}, {\"type\": \"Status of Withdrawal - Pending / Failed\", \"Vintage\": \"day_07\", \"Value\": 1267}, {\"type\": \"Speaker not delivered Within TAT\", \"Vintage\": \"day_07\", \"Value\": 347}, {\"type\": \"Information on Settings/Usage - Speaker Active\", \"Vintage\": \"day_07\", \"Value\": 410}, {\"type\": \"Other\", \"Vintage\": \"day_07\", \"Value\": 1233}, {\"type\": \"Set Up Information\", \"Vintage\": \"day_07\", \"Value\": 1873}, {\"type\": \"Not able to see any transactions in the app\", \"Vintage\": \"day_07\", \"Value\": 797}, {\"type\": \"Other Complaint\", \"Vintage\": \"day_07\", \"Value\": 3161}, {\"type\": \"Information on withdrawal\", \"Vintage\": \"day_07\", \"Value\": 721}, {\"type\": \"Enquiry about another number\", \"Vintage\": \"day_07\", \"Value\": 3124}, {\"type\": \"Information about BharaPe Loan\", \"Vintage\": \"day_07\", \"Value\": 1396}, {\"type\": \"Overall features of BharatPe Speaker\", \"Vintage\": \"day_07\", \"Value\": 1104}, {\"type\": \"Need Information about Charges applied\", \"Vintage\": \"day_07\", \"Value\": 565}, {\"type\": \"Settlement Status -Pending\", \"Vintage\": \"day_07\", \"Value\": 2180}, {\"type\": \"Info - Status of Application\", \"Vintage\": \"day_07\", \"Value\": 174}, {\"type\": \"Transfer Success but not reflecting in Bank\", \"Vintage\": \"day_07\", \"Value\": 477}, {\"type\": \"Settlement Status- Block\", \"Vintage\": \"day_14\", \"Value\": 713}, {\"type\": \"New App - Features & Benefits\", \"Vintage\": \"day_14\", \"Value\": 446}, {\"type\": \"BharatPe Card Application on Hold\", \"Vintage\": \"day_14\", \"Value\": 313}, {\"type\": \"Blank Call\", \"Vintage\": \"day_14\", \"Value\": 197}, {\"type\": \"Reason for Ineligible\", \"Vintage\": \"day_14\", \"Value\": 234}, {\"type\": \"Status of Withdrawal - Pending / Failed\", \"Vintage\": \"day_14\", \"Value\": 528}, {\"type\": \"Speaker not delivered Within TAT\", \"Vintage\": \"day_14\", \"Value\": 625}, {\"type\": \"Information on Settings/Usage - Speaker Active\", \"Vintage\": \"day_14\", \"Value\": 468}, {\"type\": \"Other\", \"Vintage\": \"day_14\", \"Value\": 670}, {\"type\": \"Set Up Information\", \"Vintage\": \"day_14\", \"Value\": 148}, {\"type\": \"Not able to see any transactions in the app\", \"Vintage\": \"day_14\", \"Value\": 407}, {\"type\": \"Other Complaint\", \"Vintage\": \"day_14\", \"Value\": 426}, {\"type\": \"Information on withdrawal\", \"Vintage\": \"day_14\", \"Value\": 267}, {\"type\": \"Enquiry about another number\", \"Vintage\": \"day_14\", \"Value\": 744}, {\"type\": \"Information about BharaPe Loan\", \"Vintage\": \"day_14\", \"Value\": 171}, {\"type\": \"Overall features of BharatPe Speaker\", \"Vintage\": \"day_14\", \"Value\": 826}, {\"type\": \"Need Information about Charges applied\", \"Vintage\": \"day_14\", \"Value\": 421}, {\"type\": \"Settlement Status -Pending\", \"Vintage\": \"day_14\", \"Value\": 1030}, {\"type\": \"Info - Status of Application\", \"Vintage\": \"day_14\", \"Value\": 132}, {\"type\": \"Transfer Success but not reflecting in Bank\", \"Vintage\": \"day_14\", \"Value\": 256}, {\"type\": \"Settlement Status- Block\", \"Vintage\": \"day_30\", \"Value\": 1393}, {\"type\": \"New App - Features & Benefits\", \"Vintage\": \"day_30\", \"Value\": 372}, {\"type\": \"BharatPe Card Application on Hold\", \"Vintage\": \"day_30\", \"Value\": 443}, {\"type\": \"Blank Call\", \"Vintage\": \"day_30\", \"Value\": 228}, {\"type\": \"Reason for Ineligible\", \"Vintage\": \"day_30\", \"Value\": 381}, {\"type\": \"Status of Withdrawal - Pending / Failed\", \"Vintage\": \"day_30\", \"Value\": 704}, {\"type\": \"Speaker not delivered Within TAT\", \"Vintage\": \"day_30\", \"Value\": 188}, {\"type\": \"Information on Settings/Usage - Speaker Active\", \"Vintage\": \"day_30\", \"Value\": 239}, {\"type\": \"Other\", \"Vintage\": \"day_30\", \"Value\": 819}, {\"type\": \"Set Up Information\", \"Vintage\": \"day_30\", \"Value\": 126}, {\"type\": \"Not able to see any transactions in the app\", \"Vintage\": \"day_30\", \"Value\": 518}, {\"type\": \"Other Complaint\", \"Vintage\": \"day_30\", \"Value\": 367}, {\"type\": \"Information on withdrawal\", \"Vintage\": \"day_30\", \"Value\": 301}, {\"type\": \"Enquiry about another number\", \"Vintage\": \"day_30\", \"Value\": 409}, {\"type\": \"Information about BharaPe Loan\", \"Vintage\": \"day_30\", \"Value\": 175}, {\"type\": \"Overall features of BharatPe Speaker\", \"Vintage\": \"day_30\", \"Value\": 937}, {\"type\": \"Need Information about Charges applied\", \"Vintage\": \"day_30\", \"Value\": 366}, {\"type\": \"Settlement Status -Pending\", \"Vintage\": \"day_30\", \"Value\": 1195}, {\"type\": \"Info - Status of Application\", \"Vintage\": \"day_30\", \"Value\": 485}, {\"type\": \"Transfer Success but not reflecting in Bank\", \"Vintage\": \"day_30\", \"Value\": 224}, {\"type\": \"Settlement Status- Block\", \"Vintage\": \"day_60\", \"Value\": 593}, {\"type\": \"New App - Features & Benefits\", \"Vintage\": \"day_60\", \"Value\": 12}, {\"type\": \"BharatPe Card Application on Hold\", \"Vintage\": \"day_60\", \"Value\": 269}, {\"type\": \"Blank Call\", \"Vintage\": \"day_60\", \"Value\": 108}, {\"type\": \"Reason for Ineligible\", \"Vintage\": \"day_60\", \"Value\": 256}, {\"type\": \"Status of Withdrawal - Pending / Failed\", \"Vintage\": \"day_60\", \"Value\": 361}, {\"type\": \"Speaker not delivered Within TAT\", \"Vintage\": \"day_60\", \"Value\": 59}, {\"type\": \"Information on Settings/Usage - Speaker Active\", \"Vintage\": \"day_60\", \"Value\": 70}, {\"type\": \"Other\", \"Vintage\": \"day_60\", \"Value\": 480}, {\"type\": \"Set Up Information\", \"Vintage\": \"day_60\", \"Value\": 33}, {\"type\": \"Not able to see any transactions in the app\", \"Vintage\": \"day_60\", \"Value\": 142}, {\"type\": \"Other Complaint\", \"Vintage\": \"day_60\", \"Value\": 124}, {\"type\": \"Information on withdrawal\", \"Vintage\": \"day_60\", \"Value\": 114}, {\"type\": \"Enquiry about another number\", \"Vintage\": \"day_60\", \"Value\": 141}, {\"type\": \"Information about BharaPe Loan\", \"Vintage\": \"day_60\", \"Value\": 114}, {\"type\": \"Overall features of BharatPe Speaker\", \"Vintage\": \"day_60\", \"Value\": 411}, {\"type\": \"Need Information about Charges applied\", \"Vintage\": \"day_60\", \"Value\": 191}, {\"type\": \"Settlement Status -Pending\", \"Vintage\": \"day_60\", \"Value\": 283}, {\"type\": \"Info - Status of Application\", \"Vintage\": \"day_60\", \"Value\": 289}, {\"type\": \"Transfer Success but not reflecting in Bank\", \"Vintage\": \"day_60\", \"Value\": 183}]}}, {\"mode\": \"vega-lite\"});\n",
       "</script>"
      ],
      "text/plain": [
       "alt.LayerChart(...)"
      ]
     },
     "execution_count": 28,
     "metadata": {},
     "output_type": "execute_result"
    }
   ],
   "source": [
    "(bump + labels)"
   ]
  },
  {
   "cell_type": "code",
   "execution_count": 30,
   "id": "3ed45c5b-9971-474c-9ad6-99882bfc038c",
   "metadata": {},
   "outputs": [
    {
     "data": {
      "text/html": [
       "\n",
       "<div id=\"altair-viz-35c9b6db85264675b808011d7633bbd1\"></div>\n",
       "<script type=\"text/javascript\">\n",
       "  var VEGA_DEBUG = (typeof VEGA_DEBUG == \"undefined\") ? {} : VEGA_DEBUG;\n",
       "  (function(spec, embedOpt){\n",
       "    let outputDiv = document.currentScript.previousElementSibling;\n",
       "    if (outputDiv.id !== \"altair-viz-35c9b6db85264675b808011d7633bbd1\") {\n",
       "      outputDiv = document.getElementById(\"altair-viz-35c9b6db85264675b808011d7633bbd1\");\n",
       "    }\n",
       "    const paths = {\n",
       "      \"vega\": \"https://cdn.jsdelivr.net/npm//vega@5?noext\",\n",
       "      \"vega-lib\": \"https://cdn.jsdelivr.net/npm//vega-lib?noext\",\n",
       "      \"vega-lite\": \"https://cdn.jsdelivr.net/npm//vega-lite@4.17.0?noext\",\n",
       "      \"vega-embed\": \"https://cdn.jsdelivr.net/npm//vega-embed@6?noext\",\n",
       "    };\n",
       "\n",
       "    function maybeLoadScript(lib, version) {\n",
       "      var key = `${lib.replace(\"-\", \"\")}_version`;\n",
       "      return (VEGA_DEBUG[key] == version) ?\n",
       "        Promise.resolve(paths[lib]) :\n",
       "        new Promise(function(resolve, reject) {\n",
       "          var s = document.createElement('script');\n",
       "          document.getElementsByTagName(\"head\")[0].appendChild(s);\n",
       "          s.async = true;\n",
       "          s.onload = () => {\n",
       "            VEGA_DEBUG[key] = version;\n",
       "            return resolve(paths[lib]);\n",
       "          };\n",
       "          s.onerror = () => reject(`Error loading script: ${paths[lib]}`);\n",
       "          s.src = paths[lib];\n",
       "        });\n",
       "    }\n",
       "\n",
       "    function showError(err) {\n",
       "      outputDiv.innerHTML = `<div class=\"error\" style=\"color:red;\">${err}</div>`;\n",
       "      throw err;\n",
       "    }\n",
       "\n",
       "    function displayChart(vegaEmbed) {\n",
       "      vegaEmbed(outputDiv, spec, embedOpt)\n",
       "        .catch(err => showError(`Javascript Error: ${err.message}<br>This usually means there's a typo in your chart specification. See the javascript console for the full traceback.`));\n",
       "    }\n",
       "\n",
       "    if(typeof define === \"function\" && define.amd) {\n",
       "      requirejs.config({paths});\n",
       "      require([\"vega-embed\"], displayChart, err => showError(`Error loading script: ${err.message}`));\n",
       "    } else {\n",
       "      maybeLoadScript(\"vega\", \"5\")\n",
       "        .then(() => maybeLoadScript(\"vega-lite\", \"4.17.0\"))\n",
       "        .then(() => maybeLoadScript(\"vega-embed\", \"6\"))\n",
       "        .catch(showError)\n",
       "        .then(() => displayChart(vegaEmbed));\n",
       "    }\n",
       "  })({\"usermeta\": {\"embedOptions\": {\"theme\": \"fivethirtyeight\"}}, \"config\": {\"view\": {\"continuousWidth\": 400, \"continuousHeight\": 300}}, \"layer\": [{\"mark\": \"bar\", \"encoding\": {\"tooltip\": [{\"field\": \"type\", \"type\": \"nominal\"}], \"x\": {\"field\": \"type\", \"sort\": \"-y\", \"type\": \"nominal\"}, \"y\": {\"field\": \"Active\", \"type\": \"quantitative\"}}}, {\"mark\": {\"type\": \"text\", \"align\": \"left\", \"angle\": 0, \"baseline\": \"middle\", \"dy\": -6}, \"encoding\": {\"text\": {\"field\": \"Active\", \"format\": \"1.0d\", \"type\": \"quantitative\"}, \"x\": {\"field\": \"type\", \"sort\": \"-y\", \"type\": \"nominal\"}, \"y\": {\"field\": \"Active\", \"type\": \"quantitative\"}}}], \"data\": {\"name\": \"data-2481933523e298171759499f38556130\"}, \"height\": 400, \"title\": \"Activation on Issue type basis\", \"width\": 700, \"$schema\": \"https://vega.github.io/schema/vega-lite/v4.17.0.json\", \"datasets\": {\"data-2481933523e298171759499f38556130\": [{\"type\": \"BharatPe Card Application on Hold\", \"Active\": 60.741301059001515}, {\"type\": \"Blank Call\", \"Active\": 64.14523449319213}, {\"type\": \"Enquiry about another number\", \"Active\": 39.58076448828607}, {\"type\": \"Info - Status of Application\", \"Active\": 84.72075869336143}, {\"type\": \"Information about BharaPe Loan\", \"Active\": 59.67302452316077}, {\"type\": \"Information on Settings/Usage - Speaker Active\", \"Active\": 85.88537211291703}, {\"type\": \"Information on withdrawal\", \"Active\": 53.04659498207885}, {\"type\": \"Need Information about Charges applied\", \"Active\": 41.86390532544378}, {\"type\": \"New App - Features & Benefits\", \"Active\": 25.813953488372093}, {\"type\": \"Not able to see any transactions in the app\", \"Active\": 63.559322033898304}, {\"type\": \"Other\", \"Active\": 70.65124250214224}, {\"type\": \"Other Complaint\", \"Active\": 48.14555633310007}, {\"type\": \"Overall features of BharatPe Speaker\", \"Active\": 80.1322199025748}, {\"type\": \"Reason for Ineligible\", \"Active\": 60.752248569092394}, {\"type\": \"Set Up Information\", \"Active\": 37.4331550802139}, {\"type\": \"Settlement Status -Pending\", \"Active\": 68.6804929365795}, {\"type\": \"Settlement Status- Block\", \"Active\": 95.34548944337811}, {\"type\": \"Speaker not delivered Within TAT\", \"Active\": 86.09442060085837}, {\"type\": \"Status of Withdrawal - Pending / Failed\", \"Active\": 72.12703719180944}, {\"type\": \"Transfer Success but not reflecting in Bank\", \"Active\": 66.21160409556313}]}}, {\"mode\": \"vega-lite\"});\n",
       "</script>"
      ],
      "text/plain": [
       "alt.LayerChart(...)"
      ]
     },
     "execution_count": 30,
     "metadata": {},
     "output_type": "execute_result"
    }
   ],
   "source": [
    "bar = alt.Chart(type_act).mark_bar().encode(\n",
    "x = alt.X('type:N',sort = \"-y\"),\n",
    "    y = 'Active:Q',\n",
    "    tooltip = ['type:N']\n",
    ")\n",
    "\n",
    "txt = alt.Chart(type_act).mark_text(align='left',\n",
    "            baseline='middle',angle = 0, dy = -6\n",
    "    ).encode(\n",
    "x = alt.X('type:N',sort = \"-y\"),\n",
    "    y = 'Active:Q',\n",
    "    text=alt.Text('Active:Q',format='1.0d')\n",
    ")\n",
    "(bar + txt).properties(title = \"Activation on Issue type basis\", height = 400, width = 700)"
   ]
  },
  {
   "cell_type": "code",
   "execution_count": null,
   "id": "e1065f6b-9362-4494-a4dd-8049e0d55bd4",
   "metadata": {},
   "outputs": [],
   "source": []
  }
 ],
 "metadata": {
  "environment": {
   "kernel": "python3",
   "name": "common-cpu.m98",
   "type": "gcloud",
   "uri": "gcr.io/deeplearning-platform-release/base-cpu:m98"
  },
  "kernelspec": {
   "display_name": "Python 3",
   "language": "python",
   "name": "python3"
  },
  "language_info": {
   "codemirror_mode": {
    "name": "ipython",
    "version": 3
   },
   "file_extension": ".py",
   "mimetype": "text/x-python",
   "name": "python",
   "nbconvert_exporter": "python",
   "pygments_lexer": "ipython3",
   "version": "3.7.12"
  }
 },
 "nbformat": 4,
 "nbformat_minor": 5
}
