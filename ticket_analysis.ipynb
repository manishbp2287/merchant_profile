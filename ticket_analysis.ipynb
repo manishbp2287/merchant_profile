{
 "cells": [
  {
   "cell_type": "code",
   "execution_count": 18,
   "id": "eaec0bef-e52a-40d6-9c2f-4bb76d69bab5",
   "metadata": {},
   "outputs": [],
   "source": [
    "import pandas as pd\n",
    "import numpy as np\n",
    "import pandas_gbq\n",
    "import os.path\n",
    "from pandas.io.json import json_normalize\n",
    "from datetime import datetime\n",
    "pd.options.display.max_columns = None\n",
    "import altair as alt\n",
    "import warnings\n",
    "warnings.filterwarnings(\"ignore\")\n",
    "import matplotlib.pyplot as plt\n",
    "import random"
   ]
  },
  {
   "cell_type": "code",
   "execution_count": 2,
   "id": "eec770ba-210a-40c4-a377-68063e11a911",
   "metadata": {},
   "outputs": [],
   "source": [
    "tickets = \"\"\"\n",
    "WITH\n",
    "  recent_merchants AS (\n",
    "  SELECT\n",
    "    merchant_id,\n",
    "    date(merchant_created_at) onboarding\n",
    "from\n",
    "    `bharatpe-analytics-prod.bharatpe_data_platfrom.universal_merchant_data_mart`\n",
    "\n",
    "  WHERE\n",
    "\n",
    "DATE(merchant_created_at) >= DATE_SUB(CURRENT_DATE(), INTERVAL 60 DAY)\n",
    "\n",
    "),\n",
    "\n",
    "ticket as (\n",
    "SELECT\n",
    "  t.merchant_id,\n",
    "  rm.onboarding,\n",
    "  t.type,\n",
    "  date(t.created_at) ticket_created,\n",
    "  count(t.id) as tickets\n",
    "\n",
    "FROM\n",
    "  `bharatpe-analytics-prod.bharatpe_analytics_data.fw_tickets` t\n",
    "inner join recent_merchants rm\n",
    "on rm.merchant_id = t.merchant_id\n",
    "WHERE\n",
    "  DATE(t.created_at) >= DATE_SUB(CURRENT_DATE(), INTERVAL 60 DAY) \n",
    "group by 1,2,3,4),\n",
    "\n",
    "final as (\n",
    "\n",
    "select merchant_id,onboarding, type, ticket_created, tickets, \n",
    "case when ticket_created >= onboarding and ticket_created < DATE_SUB(onboarding, INTERVAL -3 DAY) then tickets else 0 end as d3_tickets,\n",
    "case when ticket_created >= DATE_SUB(onboarding, INTERVAL -3 DAY) and ticket_created < DATE_SUB(onboarding, INTERVAL -7 DAY) then tickets else 0 end as d7_tickets,\n",
    "case when ticket_created >= DATE_SUB(onboarding, INTERVAL -7 DAY) and ticket_created < DATE_SUB(onboarding, INTERVAL -14 DAY) then tickets else 0 end as d14_tickets,\n",
    "case when ticket_created >= DATE_SUB(onboarding, INTERVAL -14 DAY) and ticket_created < DATE_SUB(onboarding, INTERVAL -21 DAY) then tickets else 0 end as d21_tickets,\n",
    "case when ticket_created >= DATE_SUB(onboarding, INTERVAL -21 DAY) and ticket_created < DATE_SUB(onboarding, INTERVAL -30 DAY) then tickets else 0 end as d30_tickets,\n",
    "case when ticket_created >= DATE_SUB(onboarding, INTERVAL -30 DAY) and ticket_created < DATE_SUB(onboarding, INTERVAL -60 DAY) then tickets else 0 end as d60_tickets\n",
    "from ticket\n",
    ")\n",
    "\n",
    "select type,\n",
    "sum(d3_tickets) d3,\n",
    "sum(d7_tickets) d7,\n",
    "sum(d14_tickets) d14,\n",
    "sum(d21_tickets) d21,\n",
    "sum(d30_tickets) d30,\n",
    "sum(d60_tickets) d60\n",
    "\n",
    "from final\n",
    "group by 1\n",
    "\n",
    "\"\"\""
   ]
  },
  {
   "cell_type": "code",
   "execution_count": 3,
   "id": "aee20b1c-fb05-402a-88e6-627aa8b546a8",
   "metadata": {},
   "outputs": [
    {
     "name": "stderr",
     "output_type": "stream",
     "text": [
      "Downloading: 100%|██████████| 324/324 [00:00<00:00, 2394.09rows/s]\n"
     ]
    }
   ],
   "source": [
    "tickets = pandas_gbq.read_gbq(tickets)"
   ]
  },
  {
   "cell_type": "code",
   "execution_count": 70,
   "id": "48dbff8b-a3e3-40e8-8964-07cc54832fb1",
   "metadata": {},
   "outputs": [],
   "source": [
    "ticket = pd.melt(tickets, id_vars =['type'], value_vars =['d3','d7','d14','d21','d30','d60'],\n",
    "              var_name ='Vintage', value_name ='Value')"
   ]
  },
  {
   "cell_type": "code",
   "execution_count": 71,
   "id": "1f2b988d-1a9f-4523-ac60-064942d3b610",
   "metadata": {},
   "outputs": [],
   "source": [
    "top_type = list(ticket.groupby(['type'])['Value'].sum().sort_values(ascending = False)[:40].index)"
   ]
  },
  {
   "cell_type": "code",
   "execution_count": 72,
   "id": "50f37b15-1966-4d8c-b4fd-f0ae2dddd52a",
   "metadata": {},
   "outputs": [],
   "source": [
    "ticket = ticket[ticket['type'].isin(top_type)]"
   ]
  },
  {
   "cell_type": "code",
   "execution_count": 73,
   "id": "2575f3e6-5a16-401b-a5c8-b9c4cc2ef24a",
   "metadata": {},
   "outputs": [],
   "source": [
    "tot_types = ['Voice notification not working No sound at all - Speaker',\n",
    " 'BharatPe Card Application on Hold',\n",
    " 'Other Complaint',\n",
    " 'Return Request - Speaker',\n",
    " 'Unable to do KYC',\n",
    " 'Information about BharaPe Loan',\n",
    " 'Settlement Status- Block',\n",
    " 'Settlement Status -Pending',\n",
    " 'Info -Features and Charges of Bharatswipe (New Machine)',\n",
    " 'Speaker not delivered Within TAT',\n",
    " 'Book A Return',\n",
    " 'Incomplete call',\n",
    " 'How to Order Physical QR code',\n",
    " 'New App - Features & Benefits',\n",
    " 'Info - Status of Application',\n",
    " 'Status of Withdrawal',\n",
    " 'Status of Withdrawal - Pending / Failed',\n",
    " 'Speaker Delivered But Showing Ordered on CRM',\n",
    " 'Language Barrier',\n",
    " 'Interest amount calculation',\n",
    " 'Information on Settings/Usage - Speaker Active',\n",
    " 'Need Information about Charges applied',\n",
    " 'Not able to see any transactions in the app',\n",
    " 'Information on withdrawal',\n",
    " 'Enquiry about another number',\n",
    " 'Transfer Success but not reflecting in Bank',\n",
    " 'Information about Eligibility Criteria',\n",
    " 'Set Up Information',\n",
    " 'Reason for Ineligible',\n",
    " 'Other',\n",
    " 'Blank Call',\n",
    " 'Speaker not delivered Beyond TAT',\n",
    " 'Speaker - Application/Profile Download failed',\n",
    " 'Reason for Rejection/ Expiry',\n",
    " 'Overall features of BharatPe Speaker']"
   ]
  },
  {
   "cell_type": "code",
   "execution_count": 74,
   "id": "109d6ac6-1f63-4ba4-b068-39046f6923ef",
   "metadata": {},
   "outputs": [],
   "source": [
    "color = ['#D1FBEF',\n",
    " '#75AD66',\n",
    " '#5F11D9',\n",
    " '#119DBA',\n",
    " '#96C35F',\n",
    " '#46F2ED',\n",
    " '#E28D81',\n",
    " '#16D3B4',\n",
    " '#246217',\n",
    " '#BCCB51',\n",
    " '#260B10',\n",
    " '#D38AF6',\n",
    " '#1A5B48',\n",
    " '#D795B6',\n",
    " '#CE8BD2',\n",
    " '#70FC9B',\n",
    " '#C3A378',\n",
    " '#97133A',\n",
    " '#EDBB8C',\n",
    " '#E63B55',\n",
    " '#2EE284',\n",
    " '#DE5136',\n",
    " '#71407C',\n",
    " '#DFA6ED',\n",
    " '#4DF874',\n",
    " '#6EF4BC',\n",
    " '#6FF85C',\n",
    " '#CACBE7',\n",
    " '#90BD1A',\n",
    " '#62E9A7',\n",
    " '#681FB4',\n",
    " '#81FBE7',\n",
    " '#5650BF',\n",
    " '#4CBD96',\n",
    " '#D79E45']"
   ]
  },
  {
   "cell_type": "code",
   "execution_count": 75,
   "id": "912f9c31-4f53-4c5f-bd59-ebefed8b3ca8",
   "metadata": {},
   "outputs": [],
   "source": [
    "color_scale = alt.Scale(\n",
    "    domain=tot_types,\n",
    "    range=color,\n",
    ")"
   ]
  },
  {
   "cell_type": "code",
   "execution_count": 76,
   "id": "27f0c8ec-42ef-4bc8-87df-61ec04894ff1",
   "metadata": {},
   "outputs": [],
   "source": [
    "def chart(fil):\n",
    "    # fil = \"d3\"\n",
    "    alt.themes.enable('fivethirtyeight')\n",
    "    d3_type = list(ticket[ticket['Vintage'] == fil].groupby('type')['Value'].sum().sort_values(ascending = False).index[:20])\n",
    "    base = alt.Chart(ticket[ticket['Vintage'] == fil], title = f\"Top Issues till Day {fil[1:]}\").encode(y=alt.Y('type:N',axis=alt.Axis(title=\"\"), sort = \"-x\",stack='normalize'),\n",
    "                                 tooltip = ['type'], color=alt.Color(\"type:N\", scale=color_scale, legend = None)).transform_window(\n",
    "        rank='rank(Value)',\n",
    "        sort=[alt.SortField('Value', order='descending')]\n",
    "    ).transform_filter(\n",
    "        (alt.datum.rank < 20)\n",
    "    )\n",
    "\n",
    "    bar = base.mark_bar(color = 'lightgrey').encode(x=alt.X('Value:Q',axis=alt.Axis(title=\"Issue Count\")))\n",
    "\n",
    "    txt_bar = bar.mark_text(align='left',\n",
    "            baseline='middle',angle = 0\n",
    "    ).encode(\n",
    "        x=alt.X('Value:Q',axis=alt.Axis(title=\"\",labels=False,ticks=True)),\n",
    "        text=alt.Text('Value:Q',format='1.0d')\n",
    "    )\n",
    "\n",
    "    d3 = (bar + txt_bar).properties(height = 500, width = 50)\n",
    "    return d3, d3_type"
   ]
  },
  {
   "cell_type": "code",
   "execution_count": 77,
   "id": "90d3e5a7-dff4-4384-8643-32d17e2a8be3",
   "metadata": {},
   "outputs": [],
   "source": [
    "d3 = chart('d3')[0]\n",
    "d7 = chart('d7')[0]\n",
    "d14 = chart('d14')[0]\n",
    "d21 = chart('d21')[0]\n",
    "d30 = chart('d30')[0]\n",
    "d60 = chart('d60')[0]\n"
   ]
  },
  {
   "cell_type": "code",
   "execution_count": 78,
   "id": "a44a85f3-11b1-48df-9ed8-e4aefe4652b1",
   "metadata": {},
   "outputs": [
    {
     "data": {
      "text/html": [
       "\n",
       "<div id=\"altair-viz-3245f5fb4b9341a4b7845737ffa6dbff\"></div>\n",
       "<script type=\"text/javascript\">\n",
       "  var VEGA_DEBUG = (typeof VEGA_DEBUG == \"undefined\") ? {} : VEGA_DEBUG;\n",
       "  (function(spec, embedOpt){\n",
       "    let outputDiv = document.currentScript.previousElementSibling;\n",
       "    if (outputDiv.id !== \"altair-viz-3245f5fb4b9341a4b7845737ffa6dbff\") {\n",
       "      outputDiv = document.getElementById(\"altair-viz-3245f5fb4b9341a4b7845737ffa6dbff\");\n",
       "    }\n",
       "    const paths = {\n",
       "      \"vega\": \"https://cdn.jsdelivr.net/npm//vega@5?noext\",\n",
       "      \"vega-lib\": \"https://cdn.jsdelivr.net/npm//vega-lib?noext\",\n",
       "      \"vega-lite\": \"https://cdn.jsdelivr.net/npm//vega-lite@4.17.0?noext\",\n",
       "      \"vega-embed\": \"https://cdn.jsdelivr.net/npm//vega-embed@6?noext\",\n",
       "    };\n",
       "\n",
       "    function maybeLoadScript(lib, version) {\n",
       "      var key = `${lib.replace(\"-\", \"\")}_version`;\n",
       "      return (VEGA_DEBUG[key] == version) ?\n",
       "        Promise.resolve(paths[lib]) :\n",
       "        new Promise(function(resolve, reject) {\n",
       "          var s = document.createElement('script');\n",
       "          document.getElementsByTagName(\"head\")[0].appendChild(s);\n",
       "          s.async = true;\n",
       "          s.onload = () => {\n",
       "            VEGA_DEBUG[key] = version;\n",
       "            return resolve(paths[lib]);\n",
       "          };\n",
       "          s.onerror = () => reject(`Error loading script: ${paths[lib]}`);\n",
       "          s.src = paths[lib];\n",
       "        });\n",
       "    }\n",
       "\n",
       "    function showError(err) {\n",
       "      outputDiv.innerHTML = `<div class=\"error\" style=\"color:red;\">${err}</div>`;\n",
       "      throw err;\n",
       "    }\n",
       "\n",
       "    function displayChart(vegaEmbed) {\n",
       "      vegaEmbed(outputDiv, spec, embedOpt)\n",
       "        .catch(err => showError(`Javascript Error: ${err.message}<br>This usually means there's a typo in your chart specification. See the javascript console for the full traceback.`));\n",
       "    }\n",
       "\n",
       "    if(typeof define === \"function\" && define.amd) {\n",
       "      requirejs.config({paths});\n",
       "      require([\"vega-embed\"], displayChart, err => showError(`Error loading script: ${err.message}`));\n",
       "    } else {\n",
       "      maybeLoadScript(\"vega\", \"5\")\n",
       "        .then(() => maybeLoadScript(\"vega-lite\", \"4.17.0\"))\n",
       "        .then(() => maybeLoadScript(\"vega-embed\", \"6\"))\n",
       "        .catch(showError)\n",
       "        .then(() => displayChart(vegaEmbed));\n",
       "    }\n",
       "  })({\"usermeta\": {\"embedOptions\": {\"theme\": \"fivethirtyeight\"}}, \"config\": {\"view\": {\"continuousWidth\": 400, \"continuousHeight\": 300}}, \"hconcat\": [{\"layer\": [{\"mark\": {\"type\": \"bar\", \"color\": \"lightgrey\"}, \"encoding\": {\"color\": {\"field\": \"type\", \"legend\": null, \"scale\": {\"domain\": [\"Voice notification not working No sound at all - Speaker\", \"BharatPe Card Application on Hold\", \"Other Complaint\", \"Return Request - Speaker\", \"Unable to do KYC\", \"Information about BharaPe Loan\", \"Settlement Status- Block\", \"Settlement Status -Pending\", \"Info -Features and Charges of Bharatswipe (New Machine)\", \"Speaker not delivered Within TAT\", \"Book A Return\", \"Incomplete call\", \"How to Order Physical QR code\", \"New App - Features & Benefits\", \"Info - Status of Application\", \"Status of Withdrawal\", \"Status of Withdrawal - Pending / Failed\", \"Speaker Delivered But Showing Ordered on CRM\", \"Language Barrier\", \"Interest amount calculation\", \"Information on Settings/Usage - Speaker Active\", \"Need Information about Charges applied\", \"Not able to see any transactions in the app\", \"Information on withdrawal\", \"Enquiry about another number\", \"Transfer Success but not reflecting in Bank\", \"Information about Eligibility Criteria\", \"Set Up Information\", \"Reason for Ineligible\", \"Other\", \"Blank Call\", \"Speaker not delivered Beyond TAT\", \"Speaker - Application/Profile Download failed\", \"Reason for Rejection/ Expiry\", \"Overall features of BharatPe Speaker\"], \"range\": [\"#D1FBEF\", \"#75AD66\", \"#5F11D9\", \"#119DBA\", \"#96C35F\", \"#46F2ED\", \"#E28D81\", \"#16D3B4\", \"#246217\", \"#BCCB51\", \"#260B10\", \"#D38AF6\", \"#1A5B48\", \"#D795B6\", \"#CE8BD2\", \"#70FC9B\", \"#C3A378\", \"#97133A\", \"#EDBB8C\", \"#E63B55\", \"#2EE284\", \"#DE5136\", \"#71407C\", \"#DFA6ED\", \"#4DF874\", \"#6EF4BC\", \"#6FF85C\", \"#CACBE7\", \"#90BD1A\", \"#62E9A7\", \"#681FB4\", \"#81FBE7\", \"#5650BF\", \"#4CBD96\", \"#D79E45\"]}, \"type\": \"nominal\"}, \"tooltip\": [{\"field\": \"type\", \"type\": \"nominal\"}], \"x\": {\"axis\": {\"title\": \"Issue Count\"}, \"field\": \"Value\", \"type\": \"quantitative\"}, \"y\": {\"axis\": {\"title\": \"\"}, \"field\": \"type\", \"sort\": \"-x\", \"stack\": \"normalize\", \"type\": \"nominal\"}}, \"title\": \"Top Issues till Day 3\", \"transform\": [{\"window\": [{\"op\": \"rank\", \"field\": \"Value\", \"as\": \"rank\"}], \"sort\": [{\"field\": \"Value\", \"order\": \"descending\"}]}, {\"filter\": \"(datum.rank < 20)\"}]}, {\"mark\": {\"type\": \"text\", \"align\": \"left\", \"angle\": 0, \"baseline\": \"middle\"}, \"encoding\": {\"color\": {\"field\": \"type\", \"legend\": null, \"scale\": {\"domain\": [\"Voice notification not working No sound at all - Speaker\", \"BharatPe Card Application on Hold\", \"Other Complaint\", \"Return Request - Speaker\", \"Unable to do KYC\", \"Information about BharaPe Loan\", \"Settlement Status- Block\", \"Settlement Status -Pending\", \"Info -Features and Charges of Bharatswipe (New Machine)\", \"Speaker not delivered Within TAT\", \"Book A Return\", \"Incomplete call\", \"How to Order Physical QR code\", \"New App - Features & Benefits\", \"Info - Status of Application\", \"Status of Withdrawal\", \"Status of Withdrawal - Pending / Failed\", \"Speaker Delivered But Showing Ordered on CRM\", \"Language Barrier\", \"Interest amount calculation\", \"Information on Settings/Usage - Speaker Active\", \"Need Information about Charges applied\", \"Not able to see any transactions in the app\", \"Information on withdrawal\", \"Enquiry about another number\", \"Transfer Success but not reflecting in Bank\", \"Information about Eligibility Criteria\", \"Set Up Information\", \"Reason for Ineligible\", \"Other\", \"Blank Call\", \"Speaker not delivered Beyond TAT\", \"Speaker - Application/Profile Download failed\", \"Reason for Rejection/ Expiry\", \"Overall features of BharatPe Speaker\"], \"range\": [\"#D1FBEF\", \"#75AD66\", \"#5F11D9\", \"#119DBA\", \"#96C35F\", \"#46F2ED\", \"#E28D81\", \"#16D3B4\", \"#246217\", \"#BCCB51\", \"#260B10\", \"#D38AF6\", \"#1A5B48\", \"#D795B6\", \"#CE8BD2\", \"#70FC9B\", \"#C3A378\", \"#97133A\", \"#EDBB8C\", \"#E63B55\", \"#2EE284\", \"#DE5136\", \"#71407C\", \"#DFA6ED\", \"#4DF874\", \"#6EF4BC\", \"#6FF85C\", \"#CACBE7\", \"#90BD1A\", \"#62E9A7\", \"#681FB4\", \"#81FBE7\", \"#5650BF\", \"#4CBD96\", \"#D79E45\"]}, \"type\": \"nominal\"}, \"text\": {\"field\": \"Value\", \"format\": \"1.0d\", \"type\": \"quantitative\"}, \"tooltip\": [{\"field\": \"type\", \"type\": \"nominal\"}], \"x\": {\"axis\": {\"labels\": false, \"ticks\": true, \"title\": \"\"}, \"field\": \"Value\", \"type\": \"quantitative\"}, \"y\": {\"axis\": {\"title\": \"\"}, \"field\": \"type\", \"sort\": \"-x\", \"stack\": \"normalize\", \"type\": \"nominal\"}}, \"title\": \"Top Issues till Day 3\", \"transform\": [{\"window\": [{\"op\": \"rank\", \"field\": \"Value\", \"as\": \"rank\"}], \"sort\": [{\"field\": \"Value\", \"order\": \"descending\"}]}, {\"filter\": \"(datum.rank < 20)\"}]}], \"data\": {\"name\": \"data-c511915a9a8d078508d7eb690e888018\"}, \"height\": 500, \"width\": 50}, {\"layer\": [{\"mark\": {\"type\": \"bar\", \"color\": \"lightgrey\"}, \"encoding\": {\"color\": {\"field\": \"type\", \"legend\": null, \"scale\": {\"domain\": [\"Voice notification not working No sound at all - Speaker\", \"BharatPe Card Application on Hold\", \"Other Complaint\", \"Return Request - Speaker\", \"Unable to do KYC\", \"Information about BharaPe Loan\", \"Settlement Status- Block\", \"Settlement Status -Pending\", \"Info -Features and Charges of Bharatswipe (New Machine)\", \"Speaker not delivered Within TAT\", \"Book A Return\", \"Incomplete call\", \"How to Order Physical QR code\", \"New App - Features & Benefits\", \"Info - Status of Application\", \"Status of Withdrawal\", \"Status of Withdrawal - Pending / Failed\", \"Speaker Delivered But Showing Ordered on CRM\", \"Language Barrier\", \"Interest amount calculation\", \"Information on Settings/Usage - Speaker Active\", \"Need Information about Charges applied\", \"Not able to see any transactions in the app\", \"Information on withdrawal\", \"Enquiry about another number\", \"Transfer Success but not reflecting in Bank\", \"Information about Eligibility Criteria\", \"Set Up Information\", \"Reason for Ineligible\", \"Other\", \"Blank Call\", \"Speaker not delivered Beyond TAT\", \"Speaker - Application/Profile Download failed\", \"Reason for Rejection/ Expiry\", \"Overall features of BharatPe Speaker\"], \"range\": [\"#D1FBEF\", \"#75AD66\", \"#5F11D9\", \"#119DBA\", \"#96C35F\", \"#46F2ED\", \"#E28D81\", \"#16D3B4\", \"#246217\", \"#BCCB51\", \"#260B10\", \"#D38AF6\", \"#1A5B48\", \"#D795B6\", \"#CE8BD2\", \"#70FC9B\", \"#C3A378\", \"#97133A\", \"#EDBB8C\", \"#E63B55\", \"#2EE284\", \"#DE5136\", \"#71407C\", \"#DFA6ED\", \"#4DF874\", \"#6EF4BC\", \"#6FF85C\", \"#CACBE7\", \"#90BD1A\", \"#62E9A7\", \"#681FB4\", \"#81FBE7\", \"#5650BF\", \"#4CBD96\", \"#D79E45\"]}, \"type\": \"nominal\"}, \"tooltip\": [{\"field\": \"type\", \"type\": \"nominal\"}], \"x\": {\"axis\": {\"title\": \"Issue Count\"}, \"field\": \"Value\", \"type\": \"quantitative\"}, \"y\": {\"axis\": {\"title\": \"\"}, \"field\": \"type\", \"sort\": \"-x\", \"stack\": \"normalize\", \"type\": \"nominal\"}}, \"title\": \"Top Issues till Day 7\", \"transform\": [{\"window\": [{\"op\": \"rank\", \"field\": \"Value\", \"as\": \"rank\"}], \"sort\": [{\"field\": \"Value\", \"order\": \"descending\"}]}, {\"filter\": \"(datum.rank < 20)\"}]}, {\"mark\": {\"type\": \"text\", \"align\": \"left\", \"angle\": 0, \"baseline\": \"middle\"}, \"encoding\": {\"color\": {\"field\": \"type\", \"legend\": null, \"scale\": {\"domain\": [\"Voice notification not working No sound at all - Speaker\", \"BharatPe Card Application on Hold\", \"Other Complaint\", \"Return Request - Speaker\", \"Unable to do KYC\", \"Information about BharaPe Loan\", \"Settlement Status- Block\", \"Settlement Status -Pending\", \"Info -Features and Charges of Bharatswipe (New Machine)\", \"Speaker not delivered Within TAT\", \"Book A Return\", \"Incomplete call\", \"How to Order Physical QR code\", \"New App - Features & Benefits\", \"Info - Status of Application\", \"Status of Withdrawal\", \"Status of Withdrawal - Pending / Failed\", \"Speaker Delivered But Showing Ordered on CRM\", \"Language Barrier\", \"Interest amount calculation\", \"Information on Settings/Usage - Speaker Active\", \"Need Information about Charges applied\", \"Not able to see any transactions in the app\", \"Information on withdrawal\", \"Enquiry about another number\", \"Transfer Success but not reflecting in Bank\", \"Information about Eligibility Criteria\", \"Set Up Information\", \"Reason for Ineligible\", \"Other\", \"Blank Call\", \"Speaker not delivered Beyond TAT\", \"Speaker - Application/Profile Download failed\", \"Reason for Rejection/ Expiry\", \"Overall features of BharatPe Speaker\"], \"range\": [\"#D1FBEF\", \"#75AD66\", \"#5F11D9\", \"#119DBA\", \"#96C35F\", \"#46F2ED\", \"#E28D81\", \"#16D3B4\", \"#246217\", \"#BCCB51\", \"#260B10\", \"#D38AF6\", \"#1A5B48\", \"#D795B6\", \"#CE8BD2\", \"#70FC9B\", \"#C3A378\", \"#97133A\", \"#EDBB8C\", \"#E63B55\", \"#2EE284\", \"#DE5136\", \"#71407C\", \"#DFA6ED\", \"#4DF874\", \"#6EF4BC\", \"#6FF85C\", \"#CACBE7\", \"#90BD1A\", \"#62E9A7\", \"#681FB4\", \"#81FBE7\", \"#5650BF\", \"#4CBD96\", \"#D79E45\"]}, \"type\": \"nominal\"}, \"text\": {\"field\": \"Value\", \"format\": \"1.0d\", \"type\": \"quantitative\"}, \"tooltip\": [{\"field\": \"type\", \"type\": \"nominal\"}], \"x\": {\"axis\": {\"labels\": false, \"ticks\": true, \"title\": \"\"}, \"field\": \"Value\", \"type\": \"quantitative\"}, \"y\": {\"axis\": {\"title\": \"\"}, \"field\": \"type\", \"sort\": \"-x\", \"stack\": \"normalize\", \"type\": \"nominal\"}}, \"title\": \"Top Issues till Day 7\", \"transform\": [{\"window\": [{\"op\": \"rank\", \"field\": \"Value\", \"as\": \"rank\"}], \"sort\": [{\"field\": \"Value\", \"order\": \"descending\"}]}, {\"filter\": \"(datum.rank < 20)\"}]}], \"data\": {\"name\": \"data-712377b8a2de7e4379b5aba46cb7720c\"}, \"height\": 500, \"width\": 50}, {\"layer\": [{\"mark\": {\"type\": \"bar\", \"color\": \"lightgrey\"}, \"encoding\": {\"color\": {\"field\": \"type\", \"legend\": null, \"scale\": {\"domain\": [\"Voice notification not working No sound at all - Speaker\", \"BharatPe Card Application on Hold\", \"Other Complaint\", \"Return Request - Speaker\", \"Unable to do KYC\", \"Information about BharaPe Loan\", \"Settlement Status- Block\", \"Settlement Status -Pending\", \"Info -Features and Charges of Bharatswipe (New Machine)\", \"Speaker not delivered Within TAT\", \"Book A Return\", \"Incomplete call\", \"How to Order Physical QR code\", \"New App - Features & Benefits\", \"Info - Status of Application\", \"Status of Withdrawal\", \"Status of Withdrawal - Pending / Failed\", \"Speaker Delivered But Showing Ordered on CRM\", \"Language Barrier\", \"Interest amount calculation\", \"Information on Settings/Usage - Speaker Active\", \"Need Information about Charges applied\", \"Not able to see any transactions in the app\", \"Information on withdrawal\", \"Enquiry about another number\", \"Transfer Success but not reflecting in Bank\", \"Information about Eligibility Criteria\", \"Set Up Information\", \"Reason for Ineligible\", \"Other\", \"Blank Call\", \"Speaker not delivered Beyond TAT\", \"Speaker - Application/Profile Download failed\", \"Reason for Rejection/ Expiry\", \"Overall features of BharatPe Speaker\"], \"range\": [\"#D1FBEF\", \"#75AD66\", \"#5F11D9\", \"#119DBA\", \"#96C35F\", \"#46F2ED\", \"#E28D81\", \"#16D3B4\", \"#246217\", \"#BCCB51\", \"#260B10\", \"#D38AF6\", \"#1A5B48\", \"#D795B6\", \"#CE8BD2\", \"#70FC9B\", \"#C3A378\", \"#97133A\", \"#EDBB8C\", \"#E63B55\", \"#2EE284\", \"#DE5136\", \"#71407C\", \"#DFA6ED\", \"#4DF874\", \"#6EF4BC\", \"#6FF85C\", \"#CACBE7\", \"#90BD1A\", \"#62E9A7\", \"#681FB4\", \"#81FBE7\", \"#5650BF\", \"#4CBD96\", \"#D79E45\"]}, \"type\": \"nominal\"}, \"tooltip\": [{\"field\": \"type\", \"type\": \"nominal\"}], \"x\": {\"axis\": {\"title\": \"Issue Count\"}, \"field\": \"Value\", \"type\": \"quantitative\"}, \"y\": {\"axis\": {\"title\": \"\"}, \"field\": \"type\", \"sort\": \"-x\", \"stack\": \"normalize\", \"type\": \"nominal\"}}, \"title\": \"Top Issues till Day 14\", \"transform\": [{\"window\": [{\"op\": \"rank\", \"field\": \"Value\", \"as\": \"rank\"}], \"sort\": [{\"field\": \"Value\", \"order\": \"descending\"}]}, {\"filter\": \"(datum.rank < 20)\"}]}, {\"mark\": {\"type\": \"text\", \"align\": \"left\", \"angle\": 0, \"baseline\": \"middle\"}, \"encoding\": {\"color\": {\"field\": \"type\", \"legend\": null, \"scale\": {\"domain\": [\"Voice notification not working No sound at all - Speaker\", \"BharatPe Card Application on Hold\", \"Other Complaint\", \"Return Request - Speaker\", \"Unable to do KYC\", \"Information about BharaPe Loan\", \"Settlement Status- Block\", \"Settlement Status -Pending\", \"Info -Features and Charges of Bharatswipe (New Machine)\", \"Speaker not delivered Within TAT\", \"Book A Return\", \"Incomplete call\", \"How to Order Physical QR code\", \"New App - Features & Benefits\", \"Info - Status of Application\", \"Status of Withdrawal\", \"Status of Withdrawal - Pending / Failed\", \"Speaker Delivered But Showing Ordered on CRM\", \"Language Barrier\", \"Interest amount calculation\", \"Information on Settings/Usage - Speaker Active\", \"Need Information about Charges applied\", \"Not able to see any transactions in the app\", \"Information on withdrawal\", \"Enquiry about another number\", \"Transfer Success but not reflecting in Bank\", \"Information about Eligibility Criteria\", \"Set Up Information\", \"Reason for Ineligible\", \"Other\", \"Blank Call\", \"Speaker not delivered Beyond TAT\", \"Speaker - Application/Profile Download failed\", \"Reason for Rejection/ Expiry\", \"Overall features of BharatPe Speaker\"], \"range\": [\"#D1FBEF\", \"#75AD66\", \"#5F11D9\", \"#119DBA\", \"#96C35F\", \"#46F2ED\", \"#E28D81\", \"#16D3B4\", \"#246217\", \"#BCCB51\", \"#260B10\", \"#D38AF6\", \"#1A5B48\", \"#D795B6\", \"#CE8BD2\", \"#70FC9B\", \"#C3A378\", \"#97133A\", \"#EDBB8C\", \"#E63B55\", \"#2EE284\", \"#DE5136\", \"#71407C\", \"#DFA6ED\", \"#4DF874\", \"#6EF4BC\", \"#6FF85C\", \"#CACBE7\", \"#90BD1A\", \"#62E9A7\", \"#681FB4\", \"#81FBE7\", \"#5650BF\", \"#4CBD96\", \"#D79E45\"]}, \"type\": \"nominal\"}, \"text\": {\"field\": \"Value\", \"format\": \"1.0d\", \"type\": \"quantitative\"}, \"tooltip\": [{\"field\": \"type\", \"type\": \"nominal\"}], \"x\": {\"axis\": {\"labels\": false, \"ticks\": true, \"title\": \"\"}, \"field\": \"Value\", \"type\": \"quantitative\"}, \"y\": {\"axis\": {\"title\": \"\"}, \"field\": \"type\", \"sort\": \"-x\", \"stack\": \"normalize\", \"type\": \"nominal\"}}, \"title\": \"Top Issues till Day 14\", \"transform\": [{\"window\": [{\"op\": \"rank\", \"field\": \"Value\", \"as\": \"rank\"}], \"sort\": [{\"field\": \"Value\", \"order\": \"descending\"}]}, {\"filter\": \"(datum.rank < 20)\"}]}], \"data\": {\"name\": \"data-825f81e5612b35007fa3c9440020737d\"}, \"height\": 500, \"width\": 50}, {\"layer\": [{\"mark\": {\"type\": \"bar\", \"color\": \"lightgrey\"}, \"encoding\": {\"color\": {\"field\": \"type\", \"legend\": null, \"scale\": {\"domain\": [\"Voice notification not working No sound at all - Speaker\", \"BharatPe Card Application on Hold\", \"Other Complaint\", \"Return Request - Speaker\", \"Unable to do KYC\", \"Information about BharaPe Loan\", \"Settlement Status- Block\", \"Settlement Status -Pending\", \"Info -Features and Charges of Bharatswipe (New Machine)\", \"Speaker not delivered Within TAT\", \"Book A Return\", \"Incomplete call\", \"How to Order Physical QR code\", \"New App - Features & Benefits\", \"Info - Status of Application\", \"Status of Withdrawal\", \"Status of Withdrawal - Pending / Failed\", \"Speaker Delivered But Showing Ordered on CRM\", \"Language Barrier\", \"Interest amount calculation\", \"Information on Settings/Usage - Speaker Active\", \"Need Information about Charges applied\", \"Not able to see any transactions in the app\", \"Information on withdrawal\", \"Enquiry about another number\", \"Transfer Success but not reflecting in Bank\", \"Information about Eligibility Criteria\", \"Set Up Information\", \"Reason for Ineligible\", \"Other\", \"Blank Call\", \"Speaker not delivered Beyond TAT\", \"Speaker - Application/Profile Download failed\", \"Reason for Rejection/ Expiry\", \"Overall features of BharatPe Speaker\"], \"range\": [\"#D1FBEF\", \"#75AD66\", \"#5F11D9\", \"#119DBA\", \"#96C35F\", \"#46F2ED\", \"#E28D81\", \"#16D3B4\", \"#246217\", \"#BCCB51\", \"#260B10\", \"#D38AF6\", \"#1A5B48\", \"#D795B6\", \"#CE8BD2\", \"#70FC9B\", \"#C3A378\", \"#97133A\", \"#EDBB8C\", \"#E63B55\", \"#2EE284\", \"#DE5136\", \"#71407C\", \"#DFA6ED\", \"#4DF874\", \"#6EF4BC\", \"#6FF85C\", \"#CACBE7\", \"#90BD1A\", \"#62E9A7\", \"#681FB4\", \"#81FBE7\", \"#5650BF\", \"#4CBD96\", \"#D79E45\"]}, \"type\": \"nominal\"}, \"tooltip\": [{\"field\": \"type\", \"type\": \"nominal\"}], \"x\": {\"axis\": {\"title\": \"Issue Count\"}, \"field\": \"Value\", \"type\": \"quantitative\"}, \"y\": {\"axis\": {\"title\": \"\"}, \"field\": \"type\", \"sort\": \"-x\", \"stack\": \"normalize\", \"type\": \"nominal\"}}, \"title\": \"Top Issues till Day 21\", \"transform\": [{\"window\": [{\"op\": \"rank\", \"field\": \"Value\", \"as\": \"rank\"}], \"sort\": [{\"field\": \"Value\", \"order\": \"descending\"}]}, {\"filter\": \"(datum.rank < 20)\"}]}, {\"mark\": {\"type\": \"text\", \"align\": \"left\", \"angle\": 0, \"baseline\": \"middle\"}, \"encoding\": {\"color\": {\"field\": \"type\", \"legend\": null, \"scale\": {\"domain\": [\"Voice notification not working No sound at all - Speaker\", \"BharatPe Card Application on Hold\", \"Other Complaint\", \"Return Request - Speaker\", \"Unable to do KYC\", \"Information about BharaPe Loan\", \"Settlement Status- Block\", \"Settlement Status -Pending\", \"Info -Features and Charges of Bharatswipe (New Machine)\", \"Speaker not delivered Within TAT\", \"Book A Return\", \"Incomplete call\", \"How to Order Physical QR code\", \"New App - Features & Benefits\", \"Info - Status of Application\", \"Status of Withdrawal\", \"Status of Withdrawal - Pending / Failed\", \"Speaker Delivered But Showing Ordered on CRM\", \"Language Barrier\", \"Interest amount calculation\", \"Information on Settings/Usage - Speaker Active\", \"Need Information about Charges applied\", \"Not able to see any transactions in the app\", \"Information on withdrawal\", \"Enquiry about another number\", \"Transfer Success but not reflecting in Bank\", \"Information about Eligibility Criteria\", \"Set Up Information\", \"Reason for Ineligible\", \"Other\", \"Blank Call\", \"Speaker not delivered Beyond TAT\", \"Speaker - Application/Profile Download failed\", \"Reason for Rejection/ Expiry\", \"Overall features of BharatPe Speaker\"], \"range\": [\"#D1FBEF\", \"#75AD66\", \"#5F11D9\", \"#119DBA\", \"#96C35F\", \"#46F2ED\", \"#E28D81\", \"#16D3B4\", \"#246217\", \"#BCCB51\", \"#260B10\", \"#D38AF6\", \"#1A5B48\", \"#D795B6\", \"#CE8BD2\", \"#70FC9B\", \"#C3A378\", \"#97133A\", \"#EDBB8C\", \"#E63B55\", \"#2EE284\", \"#DE5136\", \"#71407C\", \"#DFA6ED\", \"#4DF874\", \"#6EF4BC\", \"#6FF85C\", \"#CACBE7\", \"#90BD1A\", \"#62E9A7\", \"#681FB4\", \"#81FBE7\", \"#5650BF\", \"#4CBD96\", \"#D79E45\"]}, \"type\": \"nominal\"}, \"text\": {\"field\": \"Value\", \"format\": \"1.0d\", \"type\": \"quantitative\"}, \"tooltip\": [{\"field\": \"type\", \"type\": \"nominal\"}], \"x\": {\"axis\": {\"labels\": false, \"ticks\": true, \"title\": \"\"}, \"field\": \"Value\", \"type\": \"quantitative\"}, \"y\": {\"axis\": {\"title\": \"\"}, \"field\": \"type\", \"sort\": \"-x\", \"stack\": \"normalize\", \"type\": \"nominal\"}}, \"title\": \"Top Issues till Day 21\", \"transform\": [{\"window\": [{\"op\": \"rank\", \"field\": \"Value\", \"as\": \"rank\"}], \"sort\": [{\"field\": \"Value\", \"order\": \"descending\"}]}, {\"filter\": \"(datum.rank < 20)\"}]}], \"data\": {\"name\": \"data-39fc8cd3aa4a6507398713bf9cf083e6\"}, \"height\": 500, \"width\": 50}, {\"layer\": [{\"mark\": {\"type\": \"bar\", \"color\": \"lightgrey\"}, \"encoding\": {\"color\": {\"field\": \"type\", \"legend\": null, \"scale\": {\"domain\": [\"Voice notification not working No sound at all - Speaker\", \"BharatPe Card Application on Hold\", \"Other Complaint\", \"Return Request - Speaker\", \"Unable to do KYC\", \"Information about BharaPe Loan\", \"Settlement Status- Block\", \"Settlement Status -Pending\", \"Info -Features and Charges of Bharatswipe (New Machine)\", \"Speaker not delivered Within TAT\", \"Book A Return\", \"Incomplete call\", \"How to Order Physical QR code\", \"New App - Features & Benefits\", \"Info - Status of Application\", \"Status of Withdrawal\", \"Status of Withdrawal - Pending / Failed\", \"Speaker Delivered But Showing Ordered on CRM\", \"Language Barrier\", \"Interest amount calculation\", \"Information on Settings/Usage - Speaker Active\", \"Need Information about Charges applied\", \"Not able to see any transactions in the app\", \"Information on withdrawal\", \"Enquiry about another number\", \"Transfer Success but not reflecting in Bank\", \"Information about Eligibility Criteria\", \"Set Up Information\", \"Reason for Ineligible\", \"Other\", \"Blank Call\", \"Speaker not delivered Beyond TAT\", \"Speaker - Application/Profile Download failed\", \"Reason for Rejection/ Expiry\", \"Overall features of BharatPe Speaker\"], \"range\": [\"#D1FBEF\", \"#75AD66\", \"#5F11D9\", \"#119DBA\", \"#96C35F\", \"#46F2ED\", \"#E28D81\", \"#16D3B4\", \"#246217\", \"#BCCB51\", \"#260B10\", \"#D38AF6\", \"#1A5B48\", \"#D795B6\", \"#CE8BD2\", \"#70FC9B\", \"#C3A378\", \"#97133A\", \"#EDBB8C\", \"#E63B55\", \"#2EE284\", \"#DE5136\", \"#71407C\", \"#DFA6ED\", \"#4DF874\", \"#6EF4BC\", \"#6FF85C\", \"#CACBE7\", \"#90BD1A\", \"#62E9A7\", \"#681FB4\", \"#81FBE7\", \"#5650BF\", \"#4CBD96\", \"#D79E45\"]}, \"type\": \"nominal\"}, \"tooltip\": [{\"field\": \"type\", \"type\": \"nominal\"}], \"x\": {\"axis\": {\"title\": \"Issue Count\"}, \"field\": \"Value\", \"type\": \"quantitative\"}, \"y\": {\"axis\": {\"title\": \"\"}, \"field\": \"type\", \"sort\": \"-x\", \"stack\": \"normalize\", \"type\": \"nominal\"}}, \"title\": \"Top Issues till Day 30\", \"transform\": [{\"window\": [{\"op\": \"rank\", \"field\": \"Value\", \"as\": \"rank\"}], \"sort\": [{\"field\": \"Value\", \"order\": \"descending\"}]}, {\"filter\": \"(datum.rank < 20)\"}]}, {\"mark\": {\"type\": \"text\", \"align\": \"left\", \"angle\": 0, \"baseline\": \"middle\"}, \"encoding\": {\"color\": {\"field\": \"type\", \"legend\": null, \"scale\": {\"domain\": [\"Voice notification not working No sound at all - Speaker\", \"BharatPe Card Application on Hold\", \"Other Complaint\", \"Return Request - Speaker\", \"Unable to do KYC\", \"Information about BharaPe Loan\", \"Settlement Status- Block\", \"Settlement Status -Pending\", \"Info -Features and Charges of Bharatswipe (New Machine)\", \"Speaker not delivered Within TAT\", \"Book A Return\", \"Incomplete call\", \"How to Order Physical QR code\", \"New App - Features & Benefits\", \"Info - Status of Application\", \"Status of Withdrawal\", \"Status of Withdrawal - Pending / Failed\", \"Speaker Delivered But Showing Ordered on CRM\", \"Language Barrier\", \"Interest amount calculation\", \"Information on Settings/Usage - Speaker Active\", \"Need Information about Charges applied\", \"Not able to see any transactions in the app\", \"Information on withdrawal\", \"Enquiry about another number\", \"Transfer Success but not reflecting in Bank\", \"Information about Eligibility Criteria\", \"Set Up Information\", \"Reason for Ineligible\", \"Other\", \"Blank Call\", \"Speaker not delivered Beyond TAT\", \"Speaker - Application/Profile Download failed\", \"Reason for Rejection/ Expiry\", \"Overall features of BharatPe Speaker\"], \"range\": [\"#D1FBEF\", \"#75AD66\", \"#5F11D9\", \"#119DBA\", \"#96C35F\", \"#46F2ED\", \"#E28D81\", \"#16D3B4\", \"#246217\", \"#BCCB51\", \"#260B10\", \"#D38AF6\", \"#1A5B48\", \"#D795B6\", \"#CE8BD2\", \"#70FC9B\", \"#C3A378\", \"#97133A\", \"#EDBB8C\", \"#E63B55\", \"#2EE284\", \"#DE5136\", \"#71407C\", \"#DFA6ED\", \"#4DF874\", \"#6EF4BC\", \"#6FF85C\", \"#CACBE7\", \"#90BD1A\", \"#62E9A7\", \"#681FB4\", \"#81FBE7\", \"#5650BF\", \"#4CBD96\", \"#D79E45\"]}, \"type\": \"nominal\"}, \"text\": {\"field\": \"Value\", \"format\": \"1.0d\", \"type\": \"quantitative\"}, \"tooltip\": [{\"field\": \"type\", \"type\": \"nominal\"}], \"x\": {\"axis\": {\"labels\": false, \"ticks\": true, \"title\": \"\"}, \"field\": \"Value\", \"type\": \"quantitative\"}, \"y\": {\"axis\": {\"title\": \"\"}, \"field\": \"type\", \"sort\": \"-x\", \"stack\": \"normalize\", \"type\": \"nominal\"}}, \"title\": \"Top Issues till Day 30\", \"transform\": [{\"window\": [{\"op\": \"rank\", \"field\": \"Value\", \"as\": \"rank\"}], \"sort\": [{\"field\": \"Value\", \"order\": \"descending\"}]}, {\"filter\": \"(datum.rank < 20)\"}]}], \"data\": {\"name\": \"data-b8dfe5284c50de084cb3579d42247d1c\"}, \"height\": 500, \"width\": 50}, {\"layer\": [{\"mark\": {\"type\": \"bar\", \"color\": \"lightgrey\"}, \"encoding\": {\"color\": {\"field\": \"type\", \"legend\": null, \"scale\": {\"domain\": [\"Voice notification not working No sound at all - Speaker\", \"BharatPe Card Application on Hold\", \"Other Complaint\", \"Return Request - Speaker\", \"Unable to do KYC\", \"Information about BharaPe Loan\", \"Settlement Status- Block\", \"Settlement Status -Pending\", \"Info -Features and Charges of Bharatswipe (New Machine)\", \"Speaker not delivered Within TAT\", \"Book A Return\", \"Incomplete call\", \"How to Order Physical QR code\", \"New App - Features & Benefits\", \"Info - Status of Application\", \"Status of Withdrawal\", \"Status of Withdrawal - Pending / Failed\", \"Speaker Delivered But Showing Ordered on CRM\", \"Language Barrier\", \"Interest amount calculation\", \"Information on Settings/Usage - Speaker Active\", \"Need Information about Charges applied\", \"Not able to see any transactions in the app\", \"Information on withdrawal\", \"Enquiry about another number\", \"Transfer Success but not reflecting in Bank\", \"Information about Eligibility Criteria\", \"Set Up Information\", \"Reason for Ineligible\", \"Other\", \"Blank Call\", \"Speaker not delivered Beyond TAT\", \"Speaker - Application/Profile Download failed\", \"Reason for Rejection/ Expiry\", \"Overall features of BharatPe Speaker\"], \"range\": [\"#D1FBEF\", \"#75AD66\", \"#5F11D9\", \"#119DBA\", \"#96C35F\", \"#46F2ED\", \"#E28D81\", \"#16D3B4\", \"#246217\", \"#BCCB51\", \"#260B10\", \"#D38AF6\", \"#1A5B48\", \"#D795B6\", \"#CE8BD2\", \"#70FC9B\", \"#C3A378\", \"#97133A\", \"#EDBB8C\", \"#E63B55\", \"#2EE284\", \"#DE5136\", \"#71407C\", \"#DFA6ED\", \"#4DF874\", \"#6EF4BC\", \"#6FF85C\", \"#CACBE7\", \"#90BD1A\", \"#62E9A7\", \"#681FB4\", \"#81FBE7\", \"#5650BF\", \"#4CBD96\", \"#D79E45\"]}, \"type\": \"nominal\"}, \"tooltip\": [{\"field\": \"type\", \"type\": \"nominal\"}], \"x\": {\"axis\": {\"title\": \"Issue Count\"}, \"field\": \"Value\", \"type\": \"quantitative\"}, \"y\": {\"axis\": {\"title\": \"\"}, \"field\": \"type\", \"sort\": \"-x\", \"stack\": \"normalize\", \"type\": \"nominal\"}}, \"title\": \"Top Issues till Day 60\", \"transform\": [{\"window\": [{\"op\": \"rank\", \"field\": \"Value\", \"as\": \"rank\"}], \"sort\": [{\"field\": \"Value\", \"order\": \"descending\"}]}, {\"filter\": \"(datum.rank < 20)\"}]}, {\"mark\": {\"type\": \"text\", \"align\": \"left\", \"angle\": 0, \"baseline\": \"middle\"}, \"encoding\": {\"color\": {\"field\": \"type\", \"legend\": null, \"scale\": {\"domain\": [\"Voice notification not working No sound at all - Speaker\", \"BharatPe Card Application on Hold\", \"Other Complaint\", \"Return Request - Speaker\", \"Unable to do KYC\", \"Information about BharaPe Loan\", \"Settlement Status- Block\", \"Settlement Status -Pending\", \"Info -Features and Charges of Bharatswipe (New Machine)\", \"Speaker not delivered Within TAT\", \"Book A Return\", \"Incomplete call\", \"How to Order Physical QR code\", \"New App - Features & Benefits\", \"Info - Status of Application\", \"Status of Withdrawal\", \"Status of Withdrawal - Pending / Failed\", \"Speaker Delivered But Showing Ordered on CRM\", \"Language Barrier\", \"Interest amount calculation\", \"Information on Settings/Usage - Speaker Active\", \"Need Information about Charges applied\", \"Not able to see any transactions in the app\", \"Information on withdrawal\", \"Enquiry about another number\", \"Transfer Success but not reflecting in Bank\", \"Information about Eligibility Criteria\", \"Set Up Information\", \"Reason for Ineligible\", \"Other\", \"Blank Call\", \"Speaker not delivered Beyond TAT\", \"Speaker - Application/Profile Download failed\", \"Reason for Rejection/ Expiry\", \"Overall features of BharatPe Speaker\"], \"range\": [\"#D1FBEF\", \"#75AD66\", \"#5F11D9\", \"#119DBA\", \"#96C35F\", \"#46F2ED\", \"#E28D81\", \"#16D3B4\", \"#246217\", \"#BCCB51\", \"#260B10\", \"#D38AF6\", \"#1A5B48\", \"#D795B6\", \"#CE8BD2\", \"#70FC9B\", \"#C3A378\", \"#97133A\", \"#EDBB8C\", \"#E63B55\", \"#2EE284\", \"#DE5136\", \"#71407C\", \"#DFA6ED\", \"#4DF874\", \"#6EF4BC\", \"#6FF85C\", \"#CACBE7\", \"#90BD1A\", \"#62E9A7\", \"#681FB4\", \"#81FBE7\", \"#5650BF\", \"#4CBD96\", \"#D79E45\"]}, \"type\": \"nominal\"}, \"text\": {\"field\": \"Value\", \"format\": \"1.0d\", \"type\": \"quantitative\"}, \"tooltip\": [{\"field\": \"type\", \"type\": \"nominal\"}], \"x\": {\"axis\": {\"labels\": false, \"ticks\": true, \"title\": \"\"}, \"field\": \"Value\", \"type\": \"quantitative\"}, \"y\": {\"axis\": {\"title\": \"\"}, \"field\": \"type\", \"sort\": \"-x\", \"stack\": \"normalize\", \"type\": \"nominal\"}}, \"title\": \"Top Issues till Day 60\", \"transform\": [{\"window\": [{\"op\": \"rank\", \"field\": \"Value\", \"as\": \"rank\"}], \"sort\": [{\"field\": \"Value\", \"order\": \"descending\"}]}, {\"filter\": \"(datum.rank < 20)\"}]}], \"data\": {\"name\": \"data-e7b368fc9af1ecc78dabbbf188ba480b\"}, \"height\": 500, \"width\": 50}], \"$schema\": \"https://vega.github.io/schema/vega-lite/v4.17.0.json\", \"datasets\": {\"data-c511915a9a8d078508d7eb690e888018\": [{\"type\": \"Reason for Rejection/ Expiry\", \"Vintage\": \"d3\", \"Value\": 11}, {\"type\": \"New App - Features & Benefits\", \"Vintage\": \"d3\", \"Value\": 7510}, {\"type\": \"Enquiry about another number\", \"Vintage\": \"d3\", \"Value\": 2410}, {\"type\": \"Info - Status of Application\", \"Vintage\": \"d3\", \"Value\": 126}, {\"type\": \"Settlement Status- Block\", \"Vintage\": \"d3\", \"Value\": 55}, {\"type\": \"Set Up Information\", \"Vintage\": \"d3\", \"Value\": 1723}, {\"type\": \"Information on Settings/Usage - Speaker Active\", \"Vintage\": \"d3\", \"Value\": 27}, {\"type\": \"Blank Call\", \"Vintage\": \"d3\", \"Value\": 497}, {\"type\": \"Status of Withdrawal - Pending / Failed\", \"Vintage\": \"d3\", \"Value\": 682}, {\"type\": \"Other Complaint\", \"Vintage\": \"d3\", \"Value\": 2657}, {\"type\": \"Reason for Ineligible\", \"Vintage\": \"d3\", \"Value\": 773}, {\"type\": \"Unable to do KYC\", \"Vintage\": \"d3\", \"Value\": 336}, {\"type\": \"Change registered bank account\", \"Vintage\": \"d3\", \"Value\": 246}, {\"type\": \"Other\", \"Vintage\": \"d3\", \"Value\": 769}, {\"type\": \"BharatPe Card Application on Hold\", \"Vintage\": \"d3\", \"Value\": 395}, {\"type\": \"Transfer Success but not reflecting in Bank\", \"Vintage\": \"d3\", \"Value\": 229}, {\"type\": \"Speaker not delivered Within TAT\", \"Vintage\": \"d3\", \"Value\": 109}, {\"type\": \"Information on withdrawal\", \"Vintage\": \"d3\", \"Value\": 458}, {\"type\": \"Settlement Status -Pending\", \"Vintage\": \"d3\", \"Value\": 1341}, {\"type\": \"Overall features of BharatPe Speaker\", \"Vintage\": \"d3\", \"Value\": 654}, {\"type\": \"Info -Features and Charges of Bharatswipe\", \"Vintage\": \"d3\", \"Value\": 282}, {\"type\": \"Need Information about Charges applied\", \"Vintage\": \"d3\", \"Value\": 108}, {\"type\": \"Information about Eligibility Criteria\", \"Vintage\": \"d3\", \"Value\": 326}, {\"type\": \"Not able to see any transactions in the app\", \"Vintage\": \"d3\", \"Value\": 407}, {\"type\": \"Status of Withdrawal\", \"Vintage\": \"d3\", \"Value\": 169}, {\"type\": \"Machine not working- Other Reasons\", \"Vintage\": \"d3\", \"Value\": 106}, {\"type\": \"Information About Application Process\", \"Vintage\": \"d3\", \"Value\": 156}, {\"type\": \"Voice notification not working No sound at all - Speaker\", \"Vintage\": \"d3\", \"Value\": 2}, {\"type\": \"Return Request - Speaker\", \"Vintage\": \"d3\", \"Value\": 8}, {\"type\": \"Language Barrier\", \"Vintage\": \"d3\", \"Value\": 429}, {\"type\": \"How to Order Physical QR code\", \"Vintage\": \"d3\", \"Value\": 582}, {\"type\": \"Info -Features and Charges of Bharatswipe (New Machine)\", \"Vintage\": \"d3\", \"Value\": 382}, {\"type\": \"Interest amount calculation\", \"Vintage\": \"d3\", \"Value\": 191}, {\"type\": \"Information about BharaPe Loan\", \"Vintage\": \"d3\", \"Value\": 1245}, {\"type\": \"Speaker - Application/Profile Download failed\", \"Vintage\": \"d3\", \"Value\": 0}, {\"type\": \"Incomplete call\", \"Vintage\": \"d3\", \"Value\": 292}, {\"type\": \"Speaker Delivered But Showing Ordered on CRM\", \"Vintage\": \"d3\", \"Value\": 5}, {\"type\": \"Book A Return\", \"Vintage\": \"d3\", \"Value\": 35}, {\"type\": \"Speaker not delivered Beyond TAT\", \"Vintage\": \"d3\", \"Value\": 0}, {\"type\": \"Machine not working- PNMPAY ERROR\", \"Vintage\": \"d3\", \"Value\": 38}], \"data-712377b8a2de7e4379b5aba46cb7720c\": [{\"type\": \"Reason for Rejection/ Expiry\", \"Vintage\": \"d7\", \"Value\": 24}, {\"type\": \"New App - Features & Benefits\", \"Vintage\": \"d7\", \"Value\": 725}, {\"type\": \"Enquiry about another number\", \"Vintage\": \"d7\", \"Value\": 760}, {\"type\": \"Info - Status of Application\", \"Vintage\": \"d7\", \"Value\": 59}, {\"type\": \"Settlement Status- Block\", \"Vintage\": \"d7\", \"Value\": 277}, {\"type\": \"Set Up Information\", \"Vintage\": \"d7\", \"Value\": 209}, {\"type\": \"Information on Settings/Usage - Speaker Active\", \"Vintage\": \"d7\", \"Value\": 371}, {\"type\": \"Blank Call\", \"Vintage\": \"d7\", \"Value\": 187}, {\"type\": \"Status of Withdrawal - Pending / Failed\", \"Vintage\": \"d7\", \"Value\": 838}, {\"type\": \"Other Complaint\", \"Vintage\": \"d7\", \"Value\": 497}, {\"type\": \"Reason for Ineligible\", \"Vintage\": \"d7\", \"Value\": 256}, {\"type\": \"Unable to do KYC\", \"Vintage\": \"d7\", \"Value\": 111}, {\"type\": \"Change registered bank account\", \"Vintage\": \"d7\", \"Value\": 92}, {\"type\": \"Other\", \"Vintage\": \"d7\", \"Value\": 436}, {\"type\": \"BharatPe Card Application on Hold\", \"Vintage\": \"d7\", \"Value\": 297}, {\"type\": \"Transfer Success but not reflecting in Bank\", \"Vintage\": \"d7\", \"Value\": 338}, {\"type\": \"Speaker not delivered Within TAT\", \"Vintage\": \"d7\", \"Value\": 243}, {\"type\": \"Information on withdrawal\", \"Vintage\": \"d7\", \"Value\": 272}, {\"type\": \"Settlement Status -Pending\", \"Vintage\": \"d7\", \"Value\": 1077}, {\"type\": \"Overall features of BharatPe Speaker\", \"Vintage\": \"d7\", \"Value\": 425}, {\"type\": \"Info -Features and Charges of Bharatswipe\", \"Vintage\": \"d7\", \"Value\": 109}, {\"type\": \"Need Information about Charges applied\", \"Vintage\": \"d7\", \"Value\": 461}, {\"type\": \"Information about Eligibility Criteria\", \"Vintage\": \"d7\", \"Value\": 199}, {\"type\": \"Not able to see any transactions in the app\", \"Vintage\": \"d7\", \"Value\": 386}, {\"type\": \"Status of Withdrawal\", \"Vintage\": \"d7\", \"Value\": 203}, {\"type\": \"Machine not working- Other Reasons\", \"Vintage\": \"d7\", \"Value\": 125}, {\"type\": \"Information About Application Process\", \"Vintage\": \"d7\", \"Value\": 112}, {\"type\": \"Voice notification not working No sound at all - Speaker\", \"Vintage\": \"d7\", \"Value\": 20}, {\"type\": \"Return Request - Speaker\", \"Vintage\": \"d7\", \"Value\": 38}, {\"type\": \"Language Barrier\", \"Vintage\": \"d7\", \"Value\": 116}, {\"type\": \"How to Order Physical QR code\", \"Vintage\": \"d7\", \"Value\": 114}, {\"type\": \"Info -Features and Charges of Bharatswipe (New Machine)\", \"Vintage\": \"d7\", \"Value\": 131}, {\"type\": \"Interest amount calculation\", \"Vintage\": \"d7\", \"Value\": 214}, {\"type\": \"Information about BharaPe Loan\", \"Vintage\": \"d7\", \"Value\": 258}, {\"type\": \"Speaker - Application/Profile Download failed\", \"Vintage\": \"d7\", \"Value\": 68}, {\"type\": \"Incomplete call\", \"Vintage\": \"d7\", \"Value\": 108}, {\"type\": \"Speaker Delivered But Showing Ordered on CRM\", \"Vintage\": \"d7\", \"Value\": 188}, {\"type\": \"Book A Return\", \"Vintage\": \"d7\", \"Value\": 247}, {\"type\": \"Speaker not delivered Beyond TAT\", \"Vintage\": \"d7\", \"Value\": 0}, {\"type\": \"Machine not working- PNMPAY ERROR\", \"Vintage\": \"d7\", \"Value\": 174}], \"data-825f81e5612b35007fa3c9440020737d\": [{\"type\": \"Reason for Rejection/ Expiry\", \"Vintage\": \"d14\", \"Value\": 74}, {\"type\": \"New App - Features & Benefits\", \"Vintage\": \"d14\", \"Value\": 447}, {\"type\": \"Enquiry about another number\", \"Vintage\": \"d14\", \"Value\": 746}, {\"type\": \"Info - Status of Application\", \"Vintage\": \"d14\", \"Value\": 130}, {\"type\": \"Settlement Status- Block\", \"Vintage\": \"d14\", \"Value\": 713}, {\"type\": \"Set Up Information\", \"Vintage\": \"d14\", \"Value\": 148}, {\"type\": \"Information on Settings/Usage - Speaker Active\", \"Vintage\": \"d14\", \"Value\": 456}, {\"type\": \"Blank Call\", \"Vintage\": \"d14\", \"Value\": 196}, {\"type\": \"Status of Withdrawal - Pending / Failed\", \"Vintage\": \"d14\", \"Value\": 614}, {\"type\": \"Other Complaint\", \"Vintage\": \"d14\", \"Value\": 440}, {\"type\": \"Reason for Ineligible\", \"Vintage\": \"d14\", \"Value\": 228}, {\"type\": \"Unable to do KYC\", \"Vintage\": \"d14\", \"Value\": 93}, {\"type\": \"Change registered bank account\", \"Vintage\": \"d14\", \"Value\": 95}, {\"type\": \"Other\", \"Vintage\": \"d14\", \"Value\": 650}, {\"type\": \"BharatPe Card Application on Hold\", \"Vintage\": \"d14\", \"Value\": 317}, {\"type\": \"Transfer Success but not reflecting in Bank\", \"Vintage\": \"d14\", \"Value\": 292}, {\"type\": \"Speaker not delivered Within TAT\", \"Vintage\": \"d14\", \"Value\": 648}, {\"type\": \"Information on withdrawal\", \"Vintage\": \"d14\", \"Value\": 283}, {\"type\": \"Settlement Status -Pending\", \"Vintage\": \"d14\", \"Value\": 1106}, {\"type\": \"Overall features of BharatPe Speaker\", \"Vintage\": \"d14\", \"Value\": 843}, {\"type\": \"Info -Features and Charges of Bharatswipe\", \"Vintage\": \"d14\", \"Value\": 97}, {\"type\": \"Need Information about Charges applied\", \"Vintage\": \"d14\", \"Value\": 424}, {\"type\": \"Information about Eligibility Criteria\", \"Vintage\": \"d14\", \"Value\": 177}, {\"type\": \"Not able to see any transactions in the app\", \"Vintage\": \"d14\", \"Value\": 403}, {\"type\": \"Status of Withdrawal\", \"Vintage\": \"d14\", \"Value\": 215}, {\"type\": \"Machine not working- Other Reasons\", \"Vintage\": \"d14\", \"Value\": 139}, {\"type\": \"Information About Application Process\", \"Vintage\": \"d14\", \"Value\": 131}, {\"type\": \"Voice notification not working No sound at all - Speaker\", \"Vintage\": \"d14\", \"Value\": 96}, {\"type\": \"Return Request - Speaker\", \"Vintage\": \"d14\", \"Value\": 145}, {\"type\": \"Language Barrier\", \"Vintage\": \"d14\", \"Value\": 123}, {\"type\": \"How to Order Physical QR code\", \"Vintage\": \"d14\", \"Value\": 93}, {\"type\": \"Info -Features and Charges of Bharatswipe (New Machine)\", \"Vintage\": \"d14\", \"Value\": 109}, {\"type\": \"Interest amount calculation\", \"Vintage\": \"d14\", \"Value\": 195}, {\"type\": \"Information about BharaPe Loan\", \"Vintage\": \"d14\", \"Value\": 187}, {\"type\": \"Speaker - Application/Profile Download failed\", \"Vintage\": \"d14\", \"Value\": 218}, {\"type\": \"Incomplete call\", \"Vintage\": \"d14\", \"Value\": 139}, {\"type\": \"Speaker Delivered But Showing Ordered on CRM\", \"Vintage\": \"d14\", \"Value\": 533}, {\"type\": \"Book A Return\", \"Vintage\": \"d14\", \"Value\": 251}, {\"type\": \"Speaker not delivered Beyond TAT\", \"Vintage\": \"d14\", \"Value\": 262}, {\"type\": \"Machine not working- PNMPAY ERROR\", \"Vintage\": \"d14\", \"Value\": 113}], \"data-39fc8cd3aa4a6507398713bf9cf083e6\": [{\"type\": \"Reason for Rejection/ Expiry\", \"Vintage\": \"d21\", \"Value\": 146}, {\"type\": \"New App - Features & Benefits\", \"Vintage\": \"d21\", \"Value\": 233}, {\"type\": \"Enquiry about another number\", \"Vintage\": \"d21\", \"Value\": 276}, {\"type\": \"Info - Status of Application\", \"Vintage\": \"d21\", \"Value\": 217}, {\"type\": \"Settlement Status- Block\", \"Vintage\": \"d21\", \"Value\": 729}, {\"type\": \"Set Up Information\", \"Vintage\": \"d21\", \"Value\": 88}, {\"type\": \"Information on Settings/Usage - Speaker Active\", \"Vintage\": \"d21\", \"Value\": 144}, {\"type\": \"Blank Call\", \"Vintage\": \"d21\", \"Value\": 138}, {\"type\": \"Status of Withdrawal - Pending / Failed\", \"Vintage\": \"d21\", \"Value\": 383}, {\"type\": \"Other Complaint\", \"Vintage\": \"d21\", \"Value\": 209}, {\"type\": \"Reason for Ineligible\", \"Vintage\": \"d21\", \"Value\": 173}, {\"type\": \"Unable to do KYC\", \"Vintage\": \"d21\", \"Value\": 47}, {\"type\": \"Change registered bank account\", \"Vintage\": \"d21\", \"Value\": 34}, {\"type\": \"Other\", \"Vintage\": \"d21\", \"Value\": 421}, {\"type\": \"BharatPe Card Application on Hold\", \"Vintage\": \"d21\", \"Value\": 234}, {\"type\": \"Transfer Success but not reflecting in Bank\", \"Vintage\": \"d21\", \"Value\": 118}, {\"type\": \"Speaker not delivered Within TAT\", \"Vintage\": \"d21\", \"Value\": 99}, {\"type\": \"Information on withdrawal\", \"Vintage\": \"d21\", \"Value\": 174}, {\"type\": \"Settlement Status -Pending\", \"Vintage\": \"d21\", \"Value\": 729}, {\"type\": \"Overall features of BharatPe Speaker\", \"Vintage\": \"d21\", \"Value\": 514}, {\"type\": \"Info -Features and Charges of Bharatswipe\", \"Vintage\": \"d21\", \"Value\": 32}, {\"type\": \"Need Information about Charges applied\", \"Vintage\": \"d21\", \"Value\": 204}, {\"type\": \"Information about Eligibility Criteria\", \"Vintage\": \"d21\", \"Value\": 83}, {\"type\": \"Not able to see any transactions in the app\", \"Vintage\": \"d21\", \"Value\": 297}, {\"type\": \"Status of Withdrawal\", \"Vintage\": \"d21\", \"Value\": 118}, {\"type\": \"Machine not working- Other Reasons\", \"Vintage\": \"d21\", \"Value\": 119}, {\"type\": \"Information About Application Process\", \"Vintage\": \"d21\", \"Value\": 100}, {\"type\": \"Voice notification not working No sound at all - Speaker\", \"Vintage\": \"d21\", \"Value\": 122}, {\"type\": \"Return Request - Speaker\", \"Vintage\": \"d21\", \"Value\": 115}, {\"type\": \"Language Barrier\", \"Vintage\": \"d21\", \"Value\": 55}, {\"type\": \"How to Order Physical QR code\", \"Vintage\": \"d21\", \"Value\": 40}, {\"type\": \"Info -Features and Charges of Bharatswipe (New Machine)\", \"Vintage\": \"d21\", \"Value\": 44}, {\"type\": \"Interest amount calculation\", \"Vintage\": \"d21\", \"Value\": 99}, {\"type\": \"Information about BharaPe Loan\", \"Vintage\": \"d21\", \"Value\": 108}, {\"type\": \"Speaker - Application/Profile Download failed\", \"Vintage\": \"d21\", \"Value\": 124}, {\"type\": \"Incomplete call\", \"Vintage\": \"d21\", \"Value\": 90}, {\"type\": \"Speaker Delivered But Showing Ordered on CRM\", \"Vintage\": \"d21\", \"Value\": 113}, {\"type\": \"Book A Return\", \"Vintage\": \"d21\", \"Value\": 125}, {\"type\": \"Speaker not delivered Beyond TAT\", \"Vintage\": \"d21\", \"Value\": 226}, {\"type\": \"Machine not working- PNMPAY ERROR\", \"Vintage\": \"d21\", \"Value\": 90}], \"data-b8dfe5284c50de084cb3579d42247d1c\": [{\"type\": \"Reason for Rejection/ Expiry\", \"Vintage\": \"d30\", \"Value\": 202}, {\"type\": \"New App - Features & Benefits\", \"Vintage\": \"d30\", \"Value\": 145}, {\"type\": \"Enquiry about another number\", \"Vintage\": \"d30\", \"Value\": 145}, {\"type\": \"Info - Status of Application\", \"Vintage\": \"d30\", \"Value\": 263}, {\"type\": \"Settlement Status- Block\", \"Vintage\": \"d30\", \"Value\": 625}, {\"type\": \"Set Up Information\", \"Vintage\": \"d30\", \"Value\": 42}, {\"type\": \"Information on Settings/Usage - Speaker Active\", \"Vintage\": \"d30\", \"Value\": 99}, {\"type\": \"Blank Call\", \"Vintage\": \"d30\", \"Value\": 98}, {\"type\": \"Status of Withdrawal - Pending / Failed\", \"Vintage\": \"d30\", \"Value\": 329}, {\"type\": \"Other Complaint\", \"Vintage\": \"d30\", \"Value\": 185}, {\"type\": \"Reason for Ineligible\", \"Vintage\": \"d30\", \"Value\": 212}, {\"type\": \"Unable to do KYC\", \"Vintage\": \"d30\", \"Value\": 39}, {\"type\": \"Change registered bank account\", \"Vintage\": \"d30\", \"Value\": 42}, {\"type\": \"Other\", \"Vintage\": \"d30\", \"Value\": 406}, {\"type\": \"BharatPe Card Application on Hold\", \"Vintage\": \"d30\", \"Value\": 216}, {\"type\": \"Transfer Success but not reflecting in Bank\", \"Vintage\": \"d30\", \"Value\": 122}, {\"type\": \"Speaker not delivered Within TAT\", \"Vintage\": \"d30\", \"Value\": 97}, {\"type\": \"Information on withdrawal\", \"Vintage\": \"d30\", \"Value\": 142}, {\"type\": \"Settlement Status -Pending\", \"Vintage\": \"d30\", \"Value\": 554}, {\"type\": \"Overall features of BharatPe Speaker\", \"Vintage\": \"d30\", \"Value\": 465}, {\"type\": \"Info -Features and Charges of Bharatswipe\", \"Vintage\": \"d30\", \"Value\": 36}, {\"type\": \"Need Information about Charges applied\", \"Vintage\": \"d30\", \"Value\": 160}, {\"type\": \"Information about Eligibility Criteria\", \"Vintage\": \"d30\", \"Value\": 81}, {\"type\": \"Not able to see any transactions in the app\", \"Vintage\": \"d30\", \"Value\": 238}, {\"type\": \"Status of Withdrawal\", \"Vintage\": \"d30\", \"Value\": 90}, {\"type\": \"Machine not working- Other Reasons\", \"Vintage\": \"d30\", \"Value\": 76}, {\"type\": \"Information About Application Process\", \"Vintage\": \"d30\", \"Value\": 88}, {\"type\": \"Voice notification not working No sound at all - Speaker\", \"Vintage\": \"d30\", \"Value\": 135}, {\"type\": \"Return Request - Speaker\", \"Vintage\": \"d30\", \"Value\": 122}, {\"type\": \"Language Barrier\", \"Vintage\": \"d30\", \"Value\": 58}, {\"type\": \"How to Order Physical QR code\", \"Vintage\": \"d30\", \"Value\": 35}, {\"type\": \"Info -Features and Charges of Bharatswipe (New Machine)\", \"Vintage\": \"d30\", \"Value\": 35}, {\"type\": \"Interest amount calculation\", \"Vintage\": \"d30\", \"Value\": 76}, {\"type\": \"Information about BharaPe Loan\", \"Vintage\": \"d30\", \"Value\": 85}, {\"type\": \"Speaker - Application/Profile Download failed\", \"Vintage\": \"d30\", \"Value\": 93}, {\"type\": \"Incomplete call\", \"Vintage\": \"d30\", \"Value\": 64}, {\"type\": \"Speaker Delivered But Showing Ordered on CRM\", \"Vintage\": \"d30\", \"Value\": 75}, {\"type\": \"Book A Return\", \"Vintage\": \"d30\", \"Value\": 115}, {\"type\": \"Speaker not delivered Beyond TAT\", \"Vintage\": \"d30\", \"Value\": 106}, {\"type\": \"Machine not working- PNMPAY ERROR\", \"Vintage\": \"d30\", \"Value\": 43}], \"data-e7b368fc9af1ecc78dabbbf188ba480b\": [{\"type\": \"Reason for Rejection/ Expiry\", \"Vintage\": \"d60\", \"Value\": 314}, {\"type\": \"New App - Features & Benefits\", \"Vintage\": \"d60\", \"Value\": 9}, {\"type\": \"Enquiry about another number\", \"Vintage\": \"d60\", \"Value\": 136}, {\"type\": \"Info - Status of Application\", \"Vintage\": \"d60\", \"Value\": 294}, {\"type\": \"Settlement Status- Block\", \"Vintage\": \"d60\", \"Value\": 600}, {\"type\": \"Set Up Information\", \"Vintage\": \"d60\", \"Value\": 32}, {\"type\": \"Information on Settings/Usage - Speaker Active\", \"Vintage\": \"d60\", \"Value\": 79}, {\"type\": \"Blank Call\", \"Vintage\": \"d60\", \"Value\": 115}, {\"type\": \"Status of Withdrawal - Pending / Failed\", \"Vintage\": \"d60\", \"Value\": 361}, {\"type\": \"Other Complaint\", \"Vintage\": \"d60\", \"Value\": 160}, {\"type\": \"Reason for Ineligible\", \"Vintage\": \"d60\", \"Value\": 292}, {\"type\": \"Unable to do KYC\", \"Vintage\": \"d60\", \"Value\": 36}, {\"type\": \"Change registered bank account\", \"Vintage\": \"d60\", \"Value\": 37}, {\"type\": \"Other\", \"Vintage\": \"d60\", \"Value\": 501}, {\"type\": \"BharatPe Card Application on Hold\", \"Vintage\": \"d60\", \"Value\": 280}, {\"type\": \"Transfer Success but not reflecting in Bank\", \"Vintage\": \"d60\", \"Value\": 207}, {\"type\": \"Speaker not delivered Within TAT\", \"Vintage\": \"d60\", \"Value\": 67}, {\"type\": \"Information on withdrawal\", \"Vintage\": \"d60\", \"Value\": 131}, {\"type\": \"Settlement Status -Pending\", \"Vintage\": \"d60\", \"Value\": 506}, {\"type\": \"Overall features of BharatPe Speaker\", \"Vintage\": \"d60\", \"Value\": 466}, {\"type\": \"Info -Features and Charges of Bharatswipe\", \"Vintage\": \"d60\", \"Value\": 32}, {\"type\": \"Need Information about Charges applied\", \"Vintage\": \"d60\", \"Value\": 210}, {\"type\": \"Information about Eligibility Criteria\", \"Vintage\": \"d60\", \"Value\": 57}, {\"type\": \"Not able to see any transactions in the app\", \"Vintage\": \"d60\", \"Value\": 194}, {\"type\": \"Status of Withdrawal\", \"Vintage\": \"d60\", \"Value\": 163}, {\"type\": \"Machine not working- Other Reasons\", \"Vintage\": \"d60\", \"Value\": 99}, {\"type\": \"Information About Application Process\", \"Vintage\": \"d60\", \"Value\": 106}, {\"type\": \"Voice notification not working No sound at all - Speaker\", \"Vintage\": \"d60\", \"Value\": 194}, {\"type\": \"Return Request - Speaker\", \"Vintage\": \"d60\", \"Value\": 128}, {\"type\": \"Language Barrier\", \"Vintage\": \"d60\", \"Value\": 52}, {\"type\": \"How to Order Physical QR code\", \"Vintage\": \"d60\", \"Value\": 33}, {\"type\": \"Info -Features and Charges of Bharatswipe (New Machine)\", \"Vintage\": \"d60\", \"Value\": 43}, {\"type\": \"Interest amount calculation\", \"Vintage\": \"d60\", \"Value\": 68}, {\"type\": \"Information about BharaPe Loan\", \"Vintage\": \"d60\", \"Value\": 117}, {\"type\": \"Speaker - Application/Profile Download failed\", \"Vintage\": \"d60\", \"Value\": 85}, {\"type\": \"Incomplete call\", \"Vintage\": \"d60\", \"Value\": 73}, {\"type\": \"Speaker Delivered But Showing Ordered on CRM\", \"Vintage\": \"d60\", \"Value\": 82}, {\"type\": \"Book A Return\", \"Vintage\": \"d60\", \"Value\": 151}, {\"type\": \"Speaker not delivered Beyond TAT\", \"Vintage\": \"d60\", \"Value\": 56}, {\"type\": \"Machine not working- PNMPAY ERROR\", \"Vintage\": \"d60\", \"Value\": 92}]}}, {\"mode\": \"vega-lite\"});\n",
       "</script>"
      ],
      "text/plain": [
       "alt.HConcatChart(...)"
      ]
     },
     "execution_count": 78,
     "metadata": {},
     "output_type": "execute_result"
    }
   ],
   "source": [
    "(d3 | d7 | d14 | d21 |d30 |d60)"
   ]
  },
  {
   "cell_type": "code",
   "execution_count": 79,
   "id": "a5dfddc5-bfe4-45aa-885f-ad7846482ab7",
   "metadata": {},
   "outputs": [],
   "source": [
    "tot_types = list(set(chart('d3')[1]).union(set(chart('d7')[1])).union(set(chart('d14')[1])).union(set(chart('d21')[1])).union(set(chart('d30')[1])).union(set(chart('d60')[1])))"
   ]
  },
  {
   "cell_type": "code",
   "execution_count": 80,
   "id": "3c7e6494-9f9b-4478-837d-7de6ee7d8852",
   "metadata": {},
   "outputs": [],
   "source": [
    "import random\n",
    "\n",
    "number_of_colors = len(tot_types)\n",
    "\n",
    "color = [\"#\"+''.join([random.choice('0123456789ABCDEF') for j in range(6)])\n",
    "             for i in range(number_of_colors)]"
   ]
  }
 ],
 "metadata": {
  "environment": {
   "kernel": "python3",
   "name": "common-cpu.m98",
   "type": "gcloud",
   "uri": "gcr.io/deeplearning-platform-release/base-cpu:m98"
  },
  "kernelspec": {
   "display_name": "Python 3",
   "language": "python",
   "name": "python3"
  },
  "language_info": {
   "codemirror_mode": {
    "name": "ipython",
    "version": 3
   },
   "file_extension": ".py",
   "mimetype": "text/x-python",
   "name": "python",
   "nbconvert_exporter": "python",
   "pygments_lexer": "ipython3",
   "version": "3.7.12"
  }
 },
 "nbformat": 4,
 "nbformat_minor": 5
}
